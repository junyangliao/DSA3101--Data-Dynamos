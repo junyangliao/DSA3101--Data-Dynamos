{
 "cells": [
  {
   "cell_type": "code",
   "execution_count": 1,
   "metadata": {},
   "outputs": [],
   "source": [
    "import pandas as pd"
   ]
  },
  {
   "cell_type": "code",
   "execution_count": 15,
   "metadata": {},
   "outputs": [],
   "source": [
    "# STUDENT INFO\n",
    "\n",
    "# read in the student info data\n",
    "studentinfo = pd.read_csv('studentInfo.csv')  \n",
    "\n",
    "# check for missing values\n",
    "studentinfo.isnull().sum().sort_values(ascending=False)   \n",
    "\n",
    "# drop unnecessary columns and duplicates\n",
    "studentinfo.drop('region', axis=1, inplace=True)\n",
    "studentinfo.drop('imd_band', axis=1, inplace=True)  \n",
    "studentinfo.drop('age_band', axis=1, inplace=True)\n",
    "studentinfo.drop('disability', axis=1, inplace=True)  \n",
    "studentinfo.drop('final_result', axis=1, inplace=True)\n",
    "studentinfo.drop_duplicates(inplace=True)"
   ]
  },
  {
   "cell_type": "code",
   "execution_count": 21,
   "metadata": {},
   "outputs": [],
   "source": [
    "# ASSESSMENTS\n",
    "\n",
    "# read in the assesments data\n",
    "assessments = pd.read_csv('assessments.csv')\n",
    "\n",
    "# check for missing values\n",
    "assessments.isnull().sum().sort_values(ascending=False)\n",
    "\n",
    "# remove duplicates\n",
    "assessments.drop_duplicates(inplace=True)"
   ]
  },
  {
   "cell_type": "code",
   "execution_count": 23,
   "metadata": {},
   "outputs": [],
   "source": [
    "# COURSES\n",
    "\n",
    "# read in the courses data\n",
    "courses = pd.read_csv('courses.csv')\n",
    "\n",
    "# check for missing values\n",
    "courses.isnull().sum().sort_values(ascending=False)\n",
    "\n",
    "# remove duplicates\n",
    "courses.drop_duplicates(inplace=True)"
   ]
  },
  {
   "cell_type": "code",
   "execution_count": 25,
   "metadata": {},
   "outputs": [],
   "source": [
    "# STUDENT REGISTRATION\n",
    "\n",
    "# read in the student registration data\n",
    "studentreg = pd.read_csv('studentRegistration.csv')\n",
    "\n",
    "# check for missing values\n",
    "studentreg.isnull().sum().sort_values(ascending=False)\n",
    "\n",
    "# remove duplicates\n",
    "studentreg.drop_duplicates(inplace=True)"
   ]
  },
  {
   "cell_type": "code",
   "execution_count": 28,
   "metadata": {},
   "outputs": [],
   "source": [
    "# STUDENT ASSESSMENTS\n",
    "\n",
    "# read in the student assessments data\n",
    "studentassessments = pd.read_csv('studentAssessment.csv')\n",
    "\n",
    "# check for missing values\n",
    "studentassessments.isnull().sum().sort_values(ascending=False)\n",
    "\n",
    "# remove unnecessary columns and duplicates\n",
    "studentassessments.drop('date_submitted', axis=1, inplace=True)\n",
    "studentassessments.drop('is_banked', axis=1, inplace=True)"
   ]
  },
  {
   "cell_type": "code",
   "execution_count": 29,
   "metadata": {},
   "outputs": [],
   "source": [
    "# update csv files\n",
    "\n",
    "studentinfo.to_csv('studentInfo.csv', index=False)\n",
    "assessments.to_csv('assessments.csv', index=False)\n",
    "courses.to_csv('courses.csv', index=False)\n",
    "studentreg.to_csv('studentRegistration.csv', index=False)\n",
    "studentassessments.to_csv('studentAssessment.csv', index=False)\n"
   ]
  }
 ],
 "metadata": {
  "kernelspec": {
   "display_name": "Python 3",
   "language": "python",
   "name": "python3"
  },
  "language_info": {
   "codemirror_mode": {
    "name": "ipython",
    "version": 3
   },
   "file_extension": ".py",
   "mimetype": "text/x-python",
   "name": "python",
   "nbconvert_exporter": "python",
   "pygments_lexer": "ipython3",
   "version": "3.12.5"
  }
 },
 "nbformat": 4,
 "nbformat_minor": 2
}
