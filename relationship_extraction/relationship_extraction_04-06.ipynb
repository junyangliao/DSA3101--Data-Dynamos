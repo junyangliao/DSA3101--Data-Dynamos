{
 "cells": [
  {
   "cell_type": "code",
   "execution_count": 49,
   "metadata": {},
   "outputs": [],
   "source": [
    "# import libraries\n",
    "import numpy as np\n",
    "import pandas as pd\n",
    "import ast"
   ]
  },
  {
   "cell_type": "markdown",
   "metadata": {},
   "source": [
    "## Module Review\n"
   ]
  },
  {
   "cell_type": "code",
   "execution_count": 50,
   "metadata": {},
   "outputs": [
    {
     "name": "stdout",
     "output_type": "stream",
     "text": [
      "  module_code          id                                            message  \\\n",
      "0    ACC1701X  6472570545   Taken in AY23/24 Semester 2. Lecturer: Prof D...   \n",
      "1    ACC1701X  6467819412   Taken in AY23/24 Semester 2. Lecturer: Prof D...   \n",
      "2    ACC1701X  6452830983   ACC1701X Lecturer: Adjunct Assoc. Prof. Deon ...   \n",
      "3    ACC1701X  5889427965   Taken in AY19/20 Sem 2 Lecturer: Prof Winston...   \n",
      "4    ACC1701X  5878270140   Lecturer: Prof Charles Shi Tutor: Mr Philip T...   \n",
      "\n",
      "            created_at  likes  dislikes module_entities  \\\n",
      "0  2024-06-03T01:36:26      0         0    ['ACC1701X']   \n",
      "1  2024-05-27T13:10:04      0         0    ['ACC1701X']   \n",
      "2  2024-05-07T04:48:19      0         0    ['ACC1701X']   \n",
      "3  2022-06-16T10:03:57      0         0    ['ACC1701X']   \n",
      "4  2022-06-04T14:20:43      0         0    ['ACC1701X']   \n",
      "\n",
      "                                     skills_entities  \\\n",
      "0                                                 []   \n",
      "1  ['Inventory Management', 'Accounting', 'Cash',...   \n",
      "2  ['Cash', 'Accounting', 'Sales', 'Mechanics', '...   \n",
      "3                                                 []   \n",
      "4                                              ['C']   \n",
      "\n",
      "                  staff_entities  \n",
      "0                             []  \n",
      "1                  ['Prof Chan']  \n",
      "2  ['Prof Winston', 'Prof Deon']  \n",
      "3                             []  \n",
      "4                             []  \n"
     ]
    }
   ],
   "source": [
    "# load data\n",
    "module_review_df = pd.read_csv('../entity_extraction/mock_module_reviews_final.csv') \n",
    "print(module_review_df.head())"
   ]
  },
  {
   "cell_type": "markdown",
   "metadata": {},
   "source": [
    "### Module --> Skills\n"
   ]
  },
  {
   "cell_type": "code",
   "execution_count": 51,
   "metadata": {},
   "outputs": [
    {
     "name": "stdout",
     "output_type": "stream",
     "text": [
      "       Subject      Predicate                Object\n",
      "1     ACC1701X  teaches_skill  Inventory Management\n",
      "1     ACC1701X  teaches_skill            Accounting\n",
      "1     ACC1701X  teaches_skill                  Cash\n",
      "1     ACC1701X  teaches_skill            Management\n",
      "1     ACC1701X  teaches_skill   Accounts Receivable\n",
      "...        ...            ...                   ...\n",
      "3419    TS3222  teaches_skill               Theatre\n",
      "3420    TS3551  teaches_skill              Research\n",
      "3434   UTS2105  teaches_skill               English\n",
      "3442  UTW1001O  teaches_skill           Engineering\n",
      "3442  UTW1001O  teaches_skill              Research\n",
      "\n",
      "[1571 rows x 3 columns]\n"
     ]
    }
   ],
   "source": [
    "# Extract individual elements from lists and strings if needed\n",
    "def extract_first_item(entity):\n",
    "    if isinstance(entity, list) and len(entity) > 0:\n",
    "        return entity[0]  # Get the first item from the list\n",
    "    if isinstance(entity, str) and entity.startswith('[') and entity.endswith(']'):\n",
    "        # Handles cases where the value is a string that resembles a list\n",
    "        return entity.strip(\"[]\").strip(\"'\\\"\")\n",
    "    return entity\n",
    "\n",
    "# Convert the skills_entities column to actual lists if they are strings\n",
    "def convert_to_list(value):\n",
    "    if isinstance(value, str):\n",
    "        try:\n",
    "            # Convert strings that look like lists into actual lists\n",
    "            return ast.literal_eval(value)\n",
    "        except:\n",
    "            # If the conversion fails, return the value itself\n",
    "            return value\n",
    "    return value\n",
    "\n",
    "# Apply conversion to ensure skills_entities column is a list\n",
    "module_review_df['skills_entities'] = module_review_df['skills_entities'].apply(convert_to_list)\n",
    "\n",
    "# Convert empty lists to NaN so they can be handled correctly by explode\n",
    "module_review_df['skills_entities'] = module_review_df['skills_entities'].apply(lambda x: x if isinstance(x, list) and len(x) > 0 else pd.NA)\n",
    "\n",
    "# Explode the skills_entities column to create one row per skill\n",
    "exploded_df = module_review_df.explode('skills_entities')\n",
    "\n",
    "# Drop rows with NaN values in skills_entities, as they represent modules without skills\n",
    "exploded_df.dropna(subset=['skills_entities'], inplace=True)\n",
    "\n",
    "# Remove duplicate rows to ensure each skill-module pair is unique\n",
    "module_review_skills_rs_df = exploded_df.drop_duplicates(subset=['module_entities', 'skills_entities'])\n",
    "\n",
    "# Remove brackets from lists (flatten them to strings)\n",
    "module_review_skills_rs_df.loc[:, 'module_entities'] = module_review_skills_rs_df['module_entities'].apply(extract_first_item)\n",
    "module_review_skills_rs_df.loc[:, 'skills_entities'] = module_review_skills_rs_df['skills_entities'].apply(extract_first_item)\n",
    "\n",
    "# Rename columns to fit the subject-predicate-object format\n",
    "module_review_skills_rs_df = module_review_skills_rs_df.rename(columns={\n",
    "    'module_entities': 'Subject',\n",
    "    'skills_entities': 'Object'\n",
    "})\n",
    "module_review_skills_rs_df['Predicate'] = 'teaches_skill'\n",
    "\n",
    "# Reorder columns for better readability\n",
    "module_review_skills_rs_df = module_review_skills_rs_df[['Subject', 'Predicate', 'Object']]\n",
    "\n",
    "# Display the resulting DataFrame\n",
    "print(module_review_skills_rs_df)"
   ]
  },
  {
   "cell_type": "code",
   "execution_count": 52,
   "metadata": {},
   "outputs": [],
   "source": [
    "module_review_skills_rs_df.to_csv('module_skills_rs.csv', index=False)"
   ]
  },
  {
   "cell_type": "markdown",
   "metadata": {},
   "source": [
    "### Staff --> Module\n"
   ]
  },
  {
   "cell_type": "code",
   "execution_count": 53,
   "metadata": {},
   "outputs": [
    {
     "name": "stdout",
     "output_type": "stream",
     "text": [
      "       Subject       Predicate              Object\n",
      "1     ACC1701X  teaches_module           Prof Chan\n",
      "2     ACC1701X  teaches_module        Prof Winston\n",
      "2     ACC1701X  teaches_module           Prof Deon\n",
      "5     ACC1701X  teaches_module          Prof Hanny\n",
      "5     ACC1701X  teaches_module            prof shi\n",
      "...        ...             ...                 ...\n",
      "3430   UTC2716  teaches_module           Prof Pang\n",
      "3432   UTC2728  teaches_module        Prof Lynette\n",
      "3435   UTS2708  teaches_module        Prof Navarun\n",
      "3435   UTS2708  teaches_module  Prof Navarun Varma\n",
      "3442  UTW1001O  teaches_module            Dr Jinat\n",
      "\n",
      "[1183 rows x 3 columns]\n"
     ]
    }
   ],
   "source": [
    "# Apply conversion to ensure staff_entities column is a list\n",
    "module_review_df['staff_entities'] = module_review_df['staff_entities'].apply(convert_to_list)\n",
    "\n",
    "# Convert empty lists to NaN so they can be handled correctly by explode\n",
    "module_review_df['staff_entities'] = module_review_df['staff_entities'].apply(lambda x: x if isinstance(x, list) and len(x) > 0 else pd.NA)\n",
    "\n",
    "# Explode the skills_entistaff_entitiesies column to create one row per skill\n",
    "exploded_df = module_review_df.explode('staff_entities')\n",
    "\n",
    "# Drop rows with NaN values in staff_entities, as they represent modules without skills\n",
    "exploded_df.dropna(subset=['staff_entities'], inplace=True)\n",
    "\n",
    "# Remove duplicate rows to ensure each staff-module pair is unique\n",
    "module_review_staff_rs_df = exploded_df.drop_duplicates(subset=['module_entities', 'staff_entities'])\n",
    "\n",
    "# Remove brackets from lists (flatten them to strings)\n",
    "module_review_staff_rs_df.loc[:, 'module_entities'] = module_review_staff_rs_df['module_entities'].apply(extract_first_item)\n",
    "module_review_staff_rs_df.loc[:, 'staff_entities'] = module_review_staff_rs_df['staff_entities'].apply(extract_first_item)\n",
    "\n",
    "# Rename columns to fit the subject-predicate-object format\n",
    "module_review_staff_rs_df = module_review_staff_rs_df.rename(columns={\n",
    "    'module_entities': 'Subject',\n",
    "    'staff_entities': 'Object'\n",
    "})\n",
    "module_review_staff_rs_df['Predicate'] = 'teaches_module'\n",
    "\n",
    "# Reorder columns for better readability\n",
    "module_review_staff_rs_df = module_review_staff_rs_df[['Subject', 'Predicate', 'Object']]\n",
    "\n",
    "# Display the resulting DataFrame\n",
    "print(module_review_staff_rs_df)"
   ]
  },
  {
   "cell_type": "code",
   "execution_count": 54,
   "metadata": {},
   "outputs": [],
   "source": [
    "module_review_staff_rs_df.to_csv('staff_module_rs.csv', index=False)"
   ]
  },
  {
   "cell_type": "markdown",
   "metadata": {},
   "source": [
    "## Module Venue\n"
   ]
  },
  {
   "cell_type": "code",
   "execution_count": 55,
   "metadata": {},
   "outputs": [
    {
     "name": "stdout",
     "output_type": "stream",
     "text": [
      "  module_entities                                         properties\n",
      "0     ['HSH1000']  {'Day': 'Tuesday', 'Start Time': 1400, 'End Ti...\n",
      "1     ['HSH1000']  {'Day': 'Tuesday', 'Start Time': 1600, 'End Ti...\n",
      "2     ['HSS1000']  {'Day': 'Tuesday', 'Start Time': 1000, 'End Ti...\n",
      "3     ['HSS1000']  {'Day': 'Tuesday', 'Start Time': 1200, 'End Ti...\n",
      "4     ['HSS1000']  {'Day': 'Tuesday', 'Start Time': 1000, 'End Ti...\n"
     ]
    }
   ],
   "source": [
    "# load data\n",
    "module_venue_df = pd.read_csv('../entity_extraction/mock_venue_final.csv') \n",
    "print(module_venue_df.head())"
   ]
  },
  {
   "cell_type": "markdown",
   "metadata": {},
   "source": [
    "#### Module --> Venue Properties\n"
   ]
  },
  {
   "cell_type": "code",
   "execution_count": 56,
   "metadata": {},
   "outputs": [
    {
     "name": "stdout",
     "output_type": "stream",
     "text": [
      "       Subject             Predicate  \\\n",
      "0      HSH1000  has_venue_properties   \n",
      "1      HSH1000  has_venue_properties   \n",
      "2      HSS1000  has_venue_properties   \n",
      "3      HSS1000  has_venue_properties   \n",
      "6      HSA1000  has_venue_properties   \n",
      "...        ...                   ...   \n",
      "9508  GEN2060X  has_venue_properties   \n",
      "9509  GEN2061Y  has_venue_properties   \n",
      "9510  GEN2070Y  has_venue_properties   \n",
      "9511  GEN2060Y  has_venue_properties   \n",
      "9514   SFI2034  has_venue_properties   \n",
      "\n",
      "                                                 Object  \n",
      "0     {'Day': 'Tuesday', 'Start Time': 1400, 'End Ti...  \n",
      "1     {'Day': 'Tuesday', 'Start Time': 1600, 'End Ti...  \n",
      "2     {'Day': 'Tuesday', 'Start Time': 1000, 'End Ti...  \n",
      "3     {'Day': 'Tuesday', 'Start Time': 1200, 'End Ti...  \n",
      "6     {'Day': 'Tuesday', 'Start Time': 1800, 'End Ti...  \n",
      "...                                                 ...  \n",
      "9508  {'Day': 'Tuesday', 'Start Time': 800, 'End Tim...  \n",
      "9509  {'Day': 'Tuesday', 'Start Time': 1200, 'End Ti...  \n",
      "9510  {'Day': 'Tuesday', 'Start Time': 1200, 'End Ti...  \n",
      "9511  {'Day': 'Tuesday', 'Start Time': 1000, 'End Ti...  \n",
      "9514  {'Day': 'Tuesday', 'Start Time': 1800, 'End Ti...  \n",
      "\n",
      "[7165 rows x 3 columns]\n"
     ]
    }
   ],
   "source": [
    "# Apply extraction to the module_entities column to remove brackets\n",
    "module_venue_df['module_entities'] = module_venue_df['module_entities'].apply(extract_first_item)\n",
    "\n",
    "# Create a new DataFrame to store the relationships\n",
    "module_venue_rs_df = pd.DataFrame()\n",
    "\n",
    "# Add the relevant columns for Subject, Predicate, and Object\n",
    "module_venue_rs_df['Subject'] = module_venue_df['module_entities']\n",
    "module_venue_rs_df['Predicate'] = \"has_venue_properties\"  # Static value for predicate\n",
    "module_venue_rs_df['Object'] = module_venue_df['properties']\n",
    "\n",
    "# Remove duplicate rows to ensure each module-property pair is unique\n",
    "module_venue_rs_df = module_venue_rs_df.drop_duplicates(subset=['Subject', 'Object'])\n",
    "\n",
    "# Reorder columns for better readability\n",
    "module_venue_rs_df = module_venue_rs_df[['Subject', 'Predicate', 'Object']]\n",
    "\n",
    "# Display the resulting DataFrame\n",
    "print(module_venue_rs_df)"
   ]
  },
  {
   "cell_type": "code",
   "execution_count": 57,
   "metadata": {},
   "outputs": [],
   "source": [
    "module_venue_rs_df.to_csv('module_venue_properties_rs.csv', index=False)"
   ]
  },
  {
   "cell_type": "markdown",
   "metadata": {},
   "source": [
    "## UG Programs\n"
   ]
  },
  {
   "cell_type": "code",
   "execution_count": 58,
   "metadata": {},
   "outputs": [
    {
     "name": "stdout",
     "output_type": "stream",
     "text": [
      "                                Degree  \\\n",
      "0  Bachelor of Business Administration   \n",
      "1  Bachelor of Business Administration   \n",
      "2  Bachelor of Business Administration   \n",
      "3  Bachelor of Business Administration   \n",
      "4  Bachelor of Business Administration   \n",
      "\n",
      "                                     Major  \\\n",
      "0               Applied Business Analytics   \n",
      "1                       Business Economics   \n",
      "2                                  Finance   \n",
      "3          Innovation and Entrepreneurship   \n",
      "4  Leadership and Human Capital Management   \n",
      "\n",
      "                           degree_entities  \\\n",
      "0  ['Bachelor of Business Administration']   \n",
      "1  ['Bachelor of Business Administration']   \n",
      "2  ['Bachelor of Business Administration']   \n",
      "3  ['Bachelor of Business Administration']   \n",
      "4  ['Bachelor of Business Administration']   \n",
      "\n",
      "                                major_entities  \n",
      "0               ['Applied Business Analytics']  \n",
      "1                       ['Business Economics']  \n",
      "2                                  ['Finance']  \n",
      "3          ['Innovation and Entrepreneurship']  \n",
      "4  ['Leadership and Human Capital Management']  \n"
     ]
    }
   ],
   "source": [
    "# load data\n",
    "ug_program_df = pd.read_csv('../entity_extraction/ug_program_final.csv') \n",
    "print(ug_program_df.head())"
   ]
  },
  {
   "cell_type": "markdown",
   "metadata": {},
   "source": [
    "### Major --> Degree\n"
   ]
  },
  {
   "cell_type": "code",
   "execution_count": 59,
   "metadata": {},
   "outputs": [
    {
     "name": "stdout",
     "output_type": "stream",
     "text": [
      "                                   Subject Predicate  \\\n",
      "0               Applied Business Analytics  is_under   \n",
      "1                       Business Economics  is_under   \n",
      "2                                  Finance  is_under   \n",
      "3          Innovation and Entrepreneurship  is_under   \n",
      "4  Leadership and Human Capital Management  is_under   \n",
      "\n",
      "                                Object  \n",
      "0  Bachelor of Business Administration  \n",
      "1  Bachelor of Business Administration  \n",
      "2  Bachelor of Business Administration  \n",
      "3  Bachelor of Business Administration  \n",
      "4  Bachelor of Business Administration  \n"
     ]
    }
   ],
   "source": [
    "# Extract individual elements from lists and strings if needed\n",
    "ug_program_df['major_entities'] = ug_program_df['major_entities'].apply(extract_first_item)\n",
    "ug_program_df['degree_entities'] = ug_program_df['degree_entities'].apply(extract_first_item)\n",
    "\n",
    "# Create a new DataFrame to store the relationships\n",
    "ug_program_rs_df = pd.DataFrame()\n",
    "\n",
    "# Add the relevant columns for Subject, Predicate, and Object\n",
    "ug_program_rs_df['Subject'] = ug_program_df['major_entities']\n",
    "ug_program_rs_df['Predicate'] = \"is_under\"  # Static value for predicate\n",
    "ug_program_rs_df['Object'] = ug_program_df['degree_entities']\n",
    "\n",
    "# Drop rows with NaN values to ensure we only have valid relationships\n",
    "ug_program_rs_df.dropna(inplace=True)\n",
    "\n",
    "# Display the new DataFrame\n",
    "print(ug_program_rs_df.head())"
   ]
  },
  {
   "cell_type": "code",
   "execution_count": 60,
   "metadata": {},
   "outputs": [],
   "source": [
    "ug_program_rs_df.to_csv('major_degree_rs.csv', index=False)"
   ]
  }
 ],
 "metadata": {
  "kernelspec": {
   "display_name": "Python 3",
   "language": "python",
   "name": "python3"
  },
  "language_info": {
   "codemirror_mode": {
    "name": "ipython",
    "version": 3
   },
   "file_extension": ".py",
   "mimetype": "text/x-python",
   "name": "python",
   "nbconvert_exporter": "python",
   "pygments_lexer": "ipython3",
   "version": "3.10.12"
  }
 },
 "nbformat": 4,
 "nbformat_minor": 2
}
