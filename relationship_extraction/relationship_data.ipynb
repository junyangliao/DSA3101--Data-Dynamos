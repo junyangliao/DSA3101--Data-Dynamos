{
 "cells": [
  {
   "cell_type": "code",
   "execution_count": null,
   "metadata": {},
   "outputs": [],
   "source": [
    "import pandas as pd "
   ]
  },
  {
   "cell_type": "markdown",
   "metadata": {},
   "source": [
    "## Relationship Extraction Function to be used within the entity and relationship extraction function below "
   ]
  },
  {
   "cell_type": "code",
   "execution_count": null,
   "metadata": {},
   "outputs": [],
   "source": [
    "def create_dynamic_relationship(df, from_type, from_id_col, to_type, to_id_col, relationship_type, output_col):\n",
    "        # List to store formatted relationship dictionaries for each row\n",
    "        relationship_column = []\n",
    "\n",
    "        # Iterate through each row of the DataFrame\n",
    "        for _, row in df.iterrows():\n",
    "            # Extract the `from_id` and `to_id` values from the specified columns\n",
    "            from_ids = row[from_id_col] if isinstance(row[from_id_col], list) else [row[from_id_col]]\n",
    "            to_ids = row[to_id_col] if isinstance(row[to_id_col], list) else [row[to_id_col]]\n",
    "\n",
    "            # Create a list of dictionaries for each `to_id`\n",
    "            relationship_dict = [\n",
    "                {\n",
    "                    \"from_type\": from_type,\n",
    "                    \"from_id\": from_id,\n",
    "                    \"to_type\": to_type,\n",
    "                    \"to_id\": to_id,\n",
    "                    \"type\": relationship_type\n",
    "                }\n",
    "                for from_id in from_ids if pd.notna(from_id)\n",
    "                for to_id in to_ids if pd.notna(to_id)  # Only include non-NaN `to_id` values\n",
    "            ]\n",
    "\n",
    "            # Append the relationship dictionary or an empty list if no valid `to_id` found\n",
    "            relationship_column.append(relationship_dict if relationship_dict else [])\n",
    "\n",
    "        # Add the relationships as a new column to the DataFrame\n",
    "        df[output_col] = relationship_column\n",
    "        \n",
    "        # Return the updated DataFrame with the new relationships column\n",
    "        return df"
   ]
  },
  {
   "cell_type": "markdown",
   "metadata": {},
   "source": [
    "# THE MAIN ENTITY AND RS FUNCTION"
   ]
  },
  {
   "cell_type": "code",
   "execution_count": null,
   "metadata": {},
   "outputs": [],
   "source": [
    "def entity_rs_extraction(file_name):\n",
    "    \n",
    "    \n",
    "    \n",
    "    if file_name == \"mock_module_reviews.csv\": \n",
    "        # 04 - mock_module_reviews.csv\n",
    "        # Entity Extraction \n",
    "\n",
    "        # Relationship Extraction for Module --> teaches_skill --> Skill relationship \n",
    "        from_type = \"Module\"\n",
    "        from_id_col = \"module_entities\"  \n",
    "        to_type = \"Skill\"\n",
    "        to_id_col = \"skill_entities\"   \n",
    "        relationship_type = \"teaches_skill\"\n",
    "        output_col = \"relationship1\"\n",
    "\n",
    "        module_review_rs = create_dynamic_relationship(module_review, from_type, from_id_col, to_type, to_id_col, relationship_type, output_col)\n",
    "\n",
    "        # Example usage for Staff --> teaches_module --> Module relationship \n",
    "        from_type = \"Staff\"\n",
    "        from_id_col = \"staff_entities\"  \n",
    "        to_type = \"Module\"\n",
    "        to_id_col = \"module_entities\"   \n",
    "        relationship_type = \"teaches_module\"\n",
    "        output_col = \"relationship2\"\n",
    "\n",
    "        module_review_rs = create_dynamic_relationship(module_review_rs, from_type, from_id_col, to_type, to_id_col, relationship_type, output_col)\n",
    "\n",
    "        # Display the DataFrame with relationships\n",
    "        print(module_review_rs[['module_entities', 'skill_entities', 'staff_entities', 'relationship1', 'relationship2']].head())\n",
    "            \n"
   ]
  },
  {
   "cell_type": "code",
   "execution_count": null,
   "metadata": {},
   "outputs": [],
   "source": []
  }
 ],
 "metadata": {
  "kernelspec": {
   "display_name": "Python 3",
   "language": "python",
   "name": "python3"
  },
  "language_info": {
   "codemirror_mode": {
    "name": "ipython",
    "version": 3
   },
   "file_extension": ".py",
   "mimetype": "text/x-python",
   "name": "python",
   "nbconvert_exporter": "python",
   "pygments_lexer": "ipython3",
   "version": "3.12.5"
  }
 },
 "nbformat": 4,
 "nbformat_minor": 2
}
