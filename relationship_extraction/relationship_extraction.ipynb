{
 "cells": [
  {
   "cell_type": "markdown",
   "metadata": {},
   "source": [
    "# Relationship Extraction"
   ]
  },
  {
   "cell_type": "markdown",
   "metadata": {},
   "source": [
    "## Student Info"
   ]
  },
  {
   "cell_type": "code",
   "execution_count": 73,
   "metadata": {},
   "outputs": [
    {
     "name": "stdout",
     "output_type": "stream",
     "text": [
      "    Student_Name Matric_Number       NRIC  Year                  Faculties  \\\n",
      "0    Tracy Lewis     A0216920B  XXXXX506Z     1        NUS Business School   \n",
      "1    Tracy Lewis     A0216920B  XXXXX506Z     1        NUS Business School   \n",
      "2    Tracy Lewis     A0216920B  XXXXX506Z     1        NUS Business School   \n",
      "3  Andrew Holden     A0225069H  XXXXX799Z     3  YST Conservatory of Music   \n",
      "4  Andrew Holden     A0225069H  XXXXX799Z     3  YST Conservatory of Music   \n",
      "\n",
      "                     Major Second Major  \\\n",
      "0  Business Administration          NaN   \n",
      "1  Business Administration          NaN   \n",
      "2  Business Administration          NaN   \n",
      "3                    Music          NaN   \n",
      "4                    Music          NaN   \n",
      "\n",
      "                                   Modules_Completed  \\\n",
      "0  ['ACC1701B', 'DMB1202ACC', 'DMB1201MKT', 'MNO1...   \n",
      "1  ['ACC1701B', 'DMB1202ACC', 'DMB1201MKT', 'MNO1...   \n",
      "2  ['ACC1701B', 'DMB1202ACC', 'DMB1201MKT', 'MNO1...   \n",
      "3  ['CFA1111A', 'MUA1190', 'MUA2109', 'MUA1172', ...   \n",
      "4  ['CFA1111A', 'MUA1190', 'MUA2109', 'MUA1172', ...   \n",
      "\n",
      "                                              Grades  \\\n",
      "0  {'ACC1701B': 'B', 'DMB1202ACC': 'A', 'DMB1201M...   \n",
      "1  {'ACC1701B': 'B', 'DMB1202ACC': 'A', 'DMB1201M...   \n",
      "2  {'ACC1701B': 'B', 'DMB1202ACC': 'A', 'DMB1201M...   \n",
      "3  {'CFA1111A': 'F', 'MUA1190': 'A', 'MUA2109': '...   \n",
      "4  {'CFA1111A': 'F', 'MUA1190': 'A', 'MUA2109': '...   \n",
      "\n",
      "                 Student_entities                            Faculty_entities  \\\n",
      "0    [('Tracy Lewis', 'STUDENT')]        [('NUS Business School', 'FACULTY')]   \n",
      "1    [('Tracy Lewis', 'STUDENT')]        [('NUS Business School', 'FACULTY')]   \n",
      "2    [('Tracy Lewis', 'STUDENT')]        [('NUS Business School', 'FACULTY')]   \n",
      "3  [('Andrew Holden', 'STUDENT')]  [('YST Conservatory of Music', 'FACULTY')]   \n",
      "4  [('Andrew Holden', 'STUDENT')]  [('YST Conservatory of Music', 'FACULTY')]   \n",
      "\n",
      "                           Major_entities  \\\n",
      "0  [('Business Administration', 'MAJOR')]   \n",
      "1  [('Business Administration', 'MAJOR')]   \n",
      "2  [('Business Administration', 'MAJOR')]   \n",
      "3                    [('Music', 'MAJOR')]   \n",
      "4                    [('Music', 'MAJOR')]   \n",
      "\n",
      "                                     Module_entities  \\\n",
      "0  [('ACC1701B', 'MODULE'), ('DMB1202ACC', 'MODUL...   \n",
      "1  [('ACC1701B', 'MODULE'), ('DMB1202ACC', 'MODUL...   \n",
      "2  [('ACC1701B', 'MODULE'), ('DMB1202ACC', 'MODUL...   \n",
      "3  [('CFA1111A', 'MODULE'), ('MUA1190', 'MODULE')...   \n",
      "4  [('CFA1111A', 'MODULE'), ('MUA1190', 'MODULE')...   \n",
      "\n",
      "                                   Relationship_Data  \n",
      "0  {'from_type': 'Student', 'from_id': 'Tracy Lew...  \n",
      "1  {'from_type': 'Student', 'from_id': 'Tracy Lew...  \n",
      "2  {'from_type': 'Student', 'from_id': 'Tracy Lew...  \n",
      "3  {'from_type': 'Student', 'from_id': 'Andrew Ho...  \n",
      "4  {'from_type': 'Student', 'from_id': 'Andrew Ho...  \n"
     ]
    }
   ],
   "source": [
    "# load data\n",
    "student_info = pd.read_csv('../entity_extraction/student_info_final.csv') \n",
    "print(student_info.head())"
   ]
  },
  {
   "cell_type": "code",
   "execution_count": 75,
   "metadata": {},
   "outputs": [
    {
     "name": "stdout",
     "output_type": "stream",
     "text": [
      "        Student_Name Matric_Number       NRIC  Year            Faculties  \\\n",
      "0        Tracy Lewis     A0216920B  XXXXX506Z     1  NUS Business School   \n",
      "0        Tracy Lewis     A0216920B  XXXXX506Z     1  NUS Business School   \n",
      "0        Tracy Lewis     A0216920B  XXXXX506Z     1  NUS Business School   \n",
      "1        Tracy Lewis     A0216920B  XXXXX506Z     1  NUS Business School   \n",
      "1        Tracy Lewis     A0216920B  XXXXX506Z     1  NUS Business School   \n",
      "...              ...           ...        ...   ...                  ...   \n",
      "9853  Angel Peterson     A0218295X  XXXXX501Z     3  NUS Business School   \n",
      "9853  Angel Peterson     A0218295X  XXXXX501Z     3  NUS Business School   \n",
      "9854  Angel Peterson     A0218295X  XXXXX501Z     3  NUS Business School   \n",
      "9854  Angel Peterson     A0218295X  XXXXX501Z     3  NUS Business School   \n",
      "9854  Angel Peterson     A0218295X  XXXXX501Z     3  NUS Business School   \n",
      "\n",
      "                        Major Second Major  \\\n",
      "0     Business Administration          NaN   \n",
      "0     Business Administration          NaN   \n",
      "0     Business Administration          NaN   \n",
      "1     Business Administration          NaN   \n",
      "1     Business Administration          NaN   \n",
      "...                       ...          ...   \n",
      "9853  Business Administration        Music   \n",
      "9853  Business Administration        Music   \n",
      "9854  Business Administration        Music   \n",
      "9854  Business Administration        Music   \n",
      "9854  Business Administration        Music   \n",
      "\n",
      "                                      Modules_Completed  \\\n",
      "0     ['ACC1701B', 'DMB1202ACC', 'DMB1201MKT', 'MNO1...   \n",
      "0     ['ACC1701B', 'DMB1202ACC', 'DMB1201MKT', 'MNO1...   \n",
      "0     ['ACC1701B', 'DMB1202ACC', 'DMB1201MKT', 'MNO1...   \n",
      "1     ['ACC1701B', 'DMB1202ACC', 'DMB1201MKT', 'MNO1...   \n",
      "1     ['ACC1701B', 'DMB1202ACC', 'DMB1201MKT', 'MNO1...   \n",
      "...                                                 ...   \n",
      "9853  ['BWS3814', 'BSN3702', 'MNO1706D', 'BSP1703', ...   \n",
      "9853  ['BWS3814', 'BSN3702', 'MNO1706D', 'BSP1703', ...   \n",
      "9854  ['BWS3814', 'BSN3702', 'MNO1706D', 'BSP1703', ...   \n",
      "9854  ['BWS3814', 'BSN3702', 'MNO1706D', 'BSP1703', ...   \n",
      "9854  ['BWS3814', 'BSN3702', 'MNO1706D', 'BSP1703', ...   \n",
      "\n",
      "                                                 Grades  \\\n",
      "0     {'ACC1701B': 'B', 'DMB1202ACC': 'A', 'DMB1201M...   \n",
      "0     {'ACC1701B': 'B', 'DMB1202ACC': 'A', 'DMB1201M...   \n",
      "0     {'ACC1701B': 'B', 'DMB1202ACC': 'A', 'DMB1201M...   \n",
      "1     {'ACC1701B': 'B', 'DMB1202ACC': 'A', 'DMB1201M...   \n",
      "1     {'ACC1701B': 'B', 'DMB1202ACC': 'A', 'DMB1201M...   \n",
      "...                                                 ...   \n",
      "9853  {'BWS3814': 'D', 'BSN3702': 'C+', 'MNO1706D': ...   \n",
      "9853  {'BWS3814': 'D', 'BSN3702': 'C+', 'MNO1706D': ...   \n",
      "9854  {'BWS3814': 'D', 'BSN3702': 'C+', 'MNO1706D': ...   \n",
      "9854  {'BWS3814': 'D', 'BSN3702': 'C+', 'MNO1706D': ...   \n",
      "9854  {'BWS3814': 'D', 'BSN3702': 'C+', 'MNO1706D': ...   \n",
      "\n",
      "                     Student_entities                      Faculty_entities  \\\n",
      "0        [('Tracy Lewis', 'STUDENT')]  [('NUS Business School', 'FACULTY')]   \n",
      "0        [('Tracy Lewis', 'STUDENT')]  [('NUS Business School', 'FACULTY')]   \n",
      "0        [('Tracy Lewis', 'STUDENT')]  [('NUS Business School', 'FACULTY')]   \n",
      "1        [('Tracy Lewis', 'STUDENT')]  [('NUS Business School', 'FACULTY')]   \n",
      "1        [('Tracy Lewis', 'STUDENT')]  [('NUS Business School', 'FACULTY')]   \n",
      "...                               ...                                   ...   \n",
      "9853  [('Angel Peterson', 'STUDENT')]  [('NUS Business School', 'FACULTY')]   \n",
      "9853  [('Angel Peterson', 'STUDENT')]  [('NUS Business School', 'FACULTY')]   \n",
      "9854  [('Angel Peterson', 'STUDENT')]  [('NUS Business School', 'FACULTY')]   \n",
      "9854  [('Angel Peterson', 'STUDENT')]  [('NUS Business School', 'FACULTY')]   \n",
      "9854  [('Angel Peterson', 'STUDENT')]  [('NUS Business School', 'FACULTY')]   \n",
      "\n",
      "                              Major_entities  \\\n",
      "0     [('Business Administration', 'MAJOR')]   \n",
      "0     [('Business Administration', 'MAJOR')]   \n",
      "0     [('Business Administration', 'MAJOR')]   \n",
      "1     [('Business Administration', 'MAJOR')]   \n",
      "1     [('Business Administration', 'MAJOR')]   \n",
      "...                                      ...   \n",
      "9853  [('Business Administration', 'MAJOR')]   \n",
      "9853  [('Business Administration', 'MAJOR')]   \n",
      "9854  [('Business Administration', 'MAJOR')]   \n",
      "9854  [('Business Administration', 'MAJOR')]   \n",
      "9854  [('Business Administration', 'MAJOR')]   \n",
      "\n",
      "                                        Module_entities  \\\n",
      "0     [('ACC1701B', 'MODULE'), ('DMB1202ACC', 'MODUL...   \n",
      "0     [('ACC1701B', 'MODULE'), ('DMB1202ACC', 'MODUL...   \n",
      "0     [('ACC1701B', 'MODULE'), ('DMB1202ACC', 'MODUL...   \n",
      "1     [('ACC1701B', 'MODULE'), ('DMB1202ACC', 'MODUL...   \n",
      "1     [('ACC1701B', 'MODULE'), ('DMB1202ACC', 'MODUL...   \n",
      "...                                                 ...   \n",
      "9853  [('BWS3814', 'MODULE'), ('BSN3702', 'MODULE'),...   \n",
      "9853  [('BWS3814', 'MODULE'), ('BSN3702', 'MODULE'),...   \n",
      "9854  [('BWS3814', 'MODULE'), ('BSN3702', 'MODULE'),...   \n",
      "9854  [('BWS3814', 'MODULE'), ('BSN3702', 'MODULE'),...   \n",
      "9854  [('BWS3814', 'MODULE'), ('BSN3702', 'MODULE'),...   \n",
      "\n",
      "                                      Relationship_Data  \n",
      "0     {'from_type': 'Student', 'from_id': 'Tracy Lew...  \n",
      "0     {'from_type': 'Student', 'from_id': 'Tracy Lew...  \n",
      "0     {'from_type': 'Student', 'from_id': 'Tracy Lew...  \n",
      "1     {'from_type': 'Student', 'from_id': 'Tracy Lew...  \n",
      "1     {'from_type': 'Student', 'from_id': 'Tracy Lew...  \n",
      "...                                                 ...  \n",
      "9853  {'from_type': 'Student', 'from_id': 'Angel Pet...  \n",
      "9853  {'from_type': 'Student', 'from_id': 'Angel Pet...  \n",
      "9854  {'from_type': 'Student', 'from_id': 'Angel Pet...  \n",
      "9854  {'from_type': 'Student', 'from_id': 'Angel Pet...  \n",
      "9854  {'from_type': 'Student', 'from_id': 'Angel Pet...  \n",
      "\n",
      "[29565 rows x 14 columns]\n"
     ]
    }
   ],
   "source": [
    "# for each row, create a dictionary for each relationship and add to list\n",
    "\n",
    "for i in range(len(student_info)):\n",
    "    # student --> majors_in --> major\n",
    "    student_major = {'from_type': 'Student', 'from_id': student_info['Student_Name'][i], 'to_type': 'Major', 'to_id': student_info['Major'][i], 'type': 'majors_in'}\n",
    "    # student --> is_in_faculty --> faculty\n",
    "    student_faculty = {'from_type': 'Student', 'from_id': student_info['Student_Name'][i], 'to_type': 'Faculty', 'to_id': student_info['Faculties'][i], 'type': 'is_in_faculty'}\n",
    "    # student --> takes_module --> module\n",
    "    student_module = {'from_type': 'Student', 'from_id': student_info['Student_Name'][i], 'to_type': 'Module', 'to_id': student_info['Modules_Completed'][i], 'type': 'takes_module'}\n",
    "    \n",
    "    student_info['Relationship_Data'][i].append(student_major)\n",
    "    student_info['Relationship_Data'][i].append(student_faculty)\n",
    "    student_info['Relationship_Data'][i].append(student_module)\n",
    "\n",
    "# explode the list of dictionaries into separate rows\n",
    "student_info = student_info.explode('Relationship_Data')\n",
    "\n",
    "print(student_info)"
   ]
  },
  {
   "cell_type": "code",
   "execution_count": 76,
   "metadata": {},
   "outputs": [],
   "source": [
    "# write back to csv\n",
    "student_info.to_csv('../entity_extraction/student_info_final.csv', index=False)"
   ]
  },
  {
   "cell_type": "code",
   "execution_count": null,
   "metadata": {},
   "outputs": [],
   "source": []
  },
  {
   "cell_type": "code",
   "execution_count": 78,
   "metadata": {},
   "outputs": [],
   "source": [
    "print(student_major)"
   ]
  },
  {
   "cell_type": "code",
   "execution_count": 6,
   "metadata": {},
   "outputs": [
    {
     "name": "stdout",
     "output_type": "stream",
     "text": [
      "              Subject      Predicate                             Object\n",
      "0         Tracy Lewis  is_in_faculty                NUS Business School\n",
      "1       Andrew Holden  is_in_faculty          YST Conservatory of Music\n",
      "2     Phillip Bullock  is_in_faculty  College of Design and Engineering\n",
      "3      Valerie Rivera  is_in_faculty                          Computing\n",
      "4         Robert Hall  is_in_faculty          YST Conservatory of Music\n",
      "...               ...            ...                                ...\n",
      "3280  Renee Carpenter  is_in_faculty                NUS Business School\n",
      "3281    Garrett Mcgee  is_in_faculty                                Law\n",
      "3282    Michael Colon  is_in_faculty       Yong Loo Lin Sch of Medicine\n",
      "3283     Wesley Moran  is_in_faculty                                Law\n",
      "3284   Angel Peterson  is_in_faculty                NUS Business School\n",
      "\n",
      "[3285 rows x 3 columns]\n"
     ]
    }
   ],
   "source": [
    "print(student_faculty)"
   ]
  },
  {
   "cell_type": "code",
   "execution_count": 7,
   "metadata": {},
   "outputs": [
    {
     "name": "stdout",
     "output_type": "stream",
     "text": [
      "             Subject     Predicate      Object  Predicate2 Object2\n",
      "0        Tracy Lewis  takes_module    ACC1701B  and_scored       B\n",
      "0        Tracy Lewis  takes_module  DMB1202ACC  and_scored       A\n",
      "0        Tracy Lewis  takes_module  DMB1201MKT  and_scored      C+\n",
      "0        Tracy Lewis  takes_module    MNO1706B  and_scored       C\n",
      "0        Tracy Lewis  takes_module      RE1702  and_scored      C+\n",
      "...              ...           ...         ...         ...     ...\n",
      "3284  Angel Peterson  takes_module    ACC1701C  and_scored       D\n",
      "3284  Angel Peterson  takes_module     BSE3711  and_scored      B+\n",
      "3284  Angel Peterson  takes_module  DMB1204ACC  and_scored       D\n",
      "3284  Angel Peterson  takes_module      RE3000  and_scored       D\n",
      "3284  Angel Peterson  takes_module     BI3704B  and_scored      B-\n",
      "\n",
      "[65104 rows x 5 columns]\n"
     ]
    }
   ],
   "source": [
    "# create new df\n",
    "student_module = pd.DataFrame()\n",
    "\n",
    "# student --> takes_module --> module \n",
    "# for every module in 'Module', create a new row in the df\n",
    "\n",
    "student_module['Subject'] = student_info['Student_Name']\n",
    "student_module['Predicate'] = 'takes_module'\n",
    "student_module['Object'] = student_info['Modules_Completed']\n",
    "# Convert comma-separated strings to lists\n",
    "student_module['Object'] = student_module['Object'].apply(lambda x: ast.literal_eval(x) if isinstance(x, str) else x)\n",
    "student_module = student_module.explode('Object')\n",
    "student_module['Predicate2'] = 'and_scored'\n",
    "student_module['Object2'] = student_info['Grades']\n",
    "# Convert string representations of dictionaries into actual dictionaries\n",
    "student_module['Object2'] = student_module['Object2'].apply(lambda x: ast.literal_eval(x) if isinstance(x, str) else x)\n",
    "# grades column should be the value of key in 'Object' only\n",
    "student_module['Object2'] = student_module.apply(\n",
    "    lambda row: row['Object2'].get(row['Object'], None), axis=1\n",
    ")\n",
    "\n",
    "print(student_module)\n"
   ]
  },
  {
   "cell_type": "code",
   "execution_count": 8,
   "metadata": {},
   "outputs": [],
   "source": [
    "# load data\n",
    "module_info = pd.read_csv('../entity_extraction/module_info_final.csv')"
   ]
  },
  {
   "cell_type": "code",
   "execution_count": 9,
   "metadata": {},
   "outputs": [
    {
     "name": "stdout",
     "output_type": "stream",
     "text": [
      "      Subject   Predicate                      Object\n",
      "0     ABM5001  offered_by  NUS Medicine Dean's Office\n",
      "1     ABM5002  offered_by  NUS Medicine Dean's Office\n",
      "2     ABM5003  offered_by  NUS Medicine Dean's Office\n",
      "3     ABM5004  offered_by  NUS Medicine Dean's Office\n",
      "4     ABM5101  offered_by  NUS Medicine Dean's Office\n",
      "...       ...         ...                         ...\n",
      "6844   ZB3311  offered_by         Biological Sciences\n",
      "6845   ZB3312  offered_by         Biological Sciences\n",
      "6846   ZB4171  offered_by         Biological Sciences\n",
      "6847   ZB4199  offered_by         Biological Sciences\n",
      "6848   ZB4299  offered_by         Biological Sciences\n",
      "\n",
      "[6849 rows x 3 columns]\n"
     ]
    }
   ],
   "source": [
    "# create new df\n",
    "module_department = pd.DataFrame()\n",
    "\n",
    "# module --> offered_by --> department\n",
    "module_department['Subject'] = module_info['moduleCode']\n",
    "module_department['Predicate'] = 'offered_by'\n",
    "module_department['Object'] = module_info['department']\n",
    "\n",
    "# remove nan values\n",
    "module_department = module_department.dropna()\n",
    "\n",
    "print(module_department)"
   ]
  },
  {
   "cell_type": "code",
   "execution_count": 11,
   "metadata": {},
   "outputs": [
    {
     "name": "stdout",
     "output_type": "stream",
     "text": [
      "       Subject       Predicate    Object\n",
      "20    ACC1701A  has_preclusion   ACC1002\n",
      "20    ACC1701A  has_preclusion  ACC1002X\n",
      "20    ACC1701A  has_preclusion   ACC1701\n",
      "20    ACC1701A  has_preclusion    EC2204\n",
      "20    ACC1701A  has_preclusion    RE1705\n",
      "...        ...             ...       ...\n",
      "6845    ZB3312  has_preclusion   PHS3312\n",
      "6845    ZB3312  has_preclusion    QF3312\n",
      "6845    ZB3312  has_preclusion    ST3312\n",
      "6846    ZB4171  has_preclusion  YSC4211C\n",
      "6848    ZB4299  has_preclusion    ZB4199\n",
      "\n",
      "[8138 rows x 3 columns]\n"
     ]
    }
   ],
   "source": [
    "# create new df\n",
    "module_preclusion = pd.DataFrame()\n",
    "\n",
    "# module --> has_preclusion --> preclusion\n",
    "module_preclusion['Subject'] = module_info['moduleCode']\n",
    "module_preclusion['Predicate'] = 'has_preclusion'\n",
    "module_preclusion['Object'] = module_info['preclusion']\n",
    "\n",
    "# keep only those with preclusions, not null and not empty\n",
    "module_preclusion = module_preclusion[module_preclusion['Object'].notnull()]\n",
    "module_preclusion = module_preclusion[module_preclusion['Object'] != '[]']\n",
    "\n",
    "# explode the list of preclusions\n",
    "module_preclusion['Object'] = module_preclusion['Object'].apply(lambda x: ast.literal_eval(x) if isinstance(x, str) else x)\n",
    "module_preclusion = module_preclusion.explode('Object')\n",
    "\n",
    "print(module_preclusion)\n",
    "\n"
   ]
  },
  {
   "cell_type": "code",
   "execution_count": 12,
   "metadata": {},
   "outputs": [
    {
     "name": "stdout",
     "output_type": "stream",
     "text": [
      "      Subject      Predicate       Object\n",
      "0     ABM5001  teaches_skill   Leadership\n",
      "1     ABM5002  teaches_skill     Research\n",
      "1     ABM5002  teaches_skill      Extract\n",
      "1     ABM5002  teaches_skill   Healthcare\n",
      "2     ABM5003  teaches_skill     Research\n",
      "...       ...            ...          ...\n",
      "6843   ZB3310  teaches_skill  Environment\n",
      "6844   ZB3311  teaches_skill  Environment\n",
      "6845   ZB3312  teaches_skill  Environment\n",
      "6846   ZB4171  teaches_skill     Research\n",
      "6846   ZB4171  teaches_skill      Biology\n",
      "\n",
      "[14947 rows x 3 columns]\n"
     ]
    }
   ],
   "source": [
    "# create new df\n",
    "module_skill = pd.DataFrame()\n",
    "\n",
    "# module --> teaches_skill --> skill\n",
    "module_skill['Subject'] = module_info['moduleCode']\n",
    "module_skill['Predicate'] = 'teaches_skill'\n",
    "\n",
    "# select values of key 'skills' from 'Description_entities' column\n",
    "module_skill['Object'] = module_info['Description_entities'].apply(lambda x: ast.literal_eval(x).get('Skill', None) if isinstance(x, str) else x)    \n",
    "\n",
    "# explode the list of skills\n",
    "module_skill = module_skill.explode('Object')\n",
    "#module_skill['Object'] = module_skill['Object'].apply(lambda x: ast.literal_eval(x) if isinstance(x, str) else x)\n",
    "\n",
    "# keep only those with skills, remove null and not empty\n",
    "module_skill = module_skill[module_skill['Object'].notnull()]\n",
    "module_skill = module_skill[module_skill['Object'] != '[]']\n",
    "\n",
    "print(module_skill)"
   ]
  },
  {
   "cell_type": "markdown",
   "metadata": {},
   "source": [
    "## Department Info"
   ]
  },
  {
   "cell_type": "code",
   "execution_count": 14,
   "metadata": {},
   "outputs": [],
   "source": [
    "# load data\n",
    "department_info = pd.read_csv('../entity_extraction/department_info_final.csv')"
   ]
  },
  {
   "cell_type": "markdown",
   "metadata": {},
   "source": [
    "## Staff Info"
   ]
  },
  {
   "cell_type": "code",
   "execution_count": 16,
   "metadata": {},
   "outputs": [],
   "source": [
    "# load data\n",
    "staff_info = pd.read_csv('../entity_extraction/staff_info_final.csv')"
   ]
  },
  {
   "cell_type": "code",
   "execution_count": 18,
   "metadata": {},
   "outputs": [
    {
     "name": "stdout",
     "output_type": "stream",
     "text": [
      "                    Subject         Predicate  \\\n",
      "0    Marin Sergio Hernandez  is_in_department   \n",
      "1           Kathryn Cordova  is_in_department   \n",
      "2           Barbara Sanchez  is_in_department   \n",
      "3               Bryce Lucas  is_in_department   \n",
      "4            Judith Camacho  is_in_department   \n",
      "..                      ...               ...   \n",
      "995              Lisa Reyes  is_in_department   \n",
      "996           Melanie Kelly  is_in_department   \n",
      "997          Ronald Spencer  is_in_department   \n",
      "998          Charles Rogers  is_in_department   \n",
      "999          Vanessa Taylor  is_in_department   \n",
      "\n",
      "                                  Object  \n",
      "0    Electrical and Computer Engineering  \n",
      "1    Civil and Environmental Engineering  \n",
      "2            Centre for Language Studies  \n",
      "3                      BIZ Dean's Office  \n",
      "4                              Economics  \n",
      "..                                   ...  \n",
      "995                  YSTCM Dean's Office  \n",
      "996                    FoL Dean's Office  \n",
      "997                              Physics  \n",
      "998                           Psychology  \n",
      "999                  YSTCM Dean's Office  \n",
      "\n",
      "[1000 rows x 3 columns]\n"
     ]
    }
   ],
   "source": [
    "# create new df\n",
    "staff_department = pd.DataFrame()\n",
    "\n",
    "# staff --> is_in_department --> department\n",
    "staff_department['Subject'] = staff_info['Employee Name']\n",
    "staff_department['Predicate'] = 'is_in_department'\n",
    "staff_department['Object'] = staff_info['Department_ID']\n",
    "\n",
    "print(staff_department)"
   ]
  },
  {
   "cell_type": "code",
   "execution_count": null,
   "metadata": {},
   "outputs": [],
   "source": [
    "# write all back to original csv files\n",
    "student_major.to_csv('../entity_extraction/student_major.csv', index=False)\n",
    "student_faculty.to_csv('../entity_extraction/student_faculty.csv', index=False)\n",
    "student_module.to_csv('../entity_extraction/student_module.csv', index=False)"
   ]
  },
  {
   "cell_type": "code",
   "execution_count": 181,
   "metadata": {},
   "outputs": [],
   "source": [
    "# write all back to  csv files\n",
    "\n",
    "\n",
    "student_major.to_csv('student_major.csv', index=False)\n",
    "student_faculty.to_csv('student_faculty.csv', index=False)\n",
    "student_module.to_csv('student_module.csv', index=False)\n",
    "module_department.to_csv('module_department.csv', index=False)\n",
    "module_prerequisite.to_csv('module_prerequisite.csv', index=False)\n",
    "module_preclusion.to_csv('module_preclusion.csv', index=False)\n",
    "module_skill.to_csv('module_skill.csv', index=False)\n",
    "module_semester.to_csv('module_semester.csv', index=False)\n",
    "department_faculty.to_csv('department_faculty.csv', index=False)\n",
    "staff_module.to_csv('staff_module.csv', index=False)\n",
    "staff_department.to_csv('staff_department.csv', index=False)\n"
   ]
  }
 ],
 "metadata": {
  "kernelspec": {
   "display_name": "Python 3",
   "language": "python",
   "name": "python3"
  },
  "language_info": {
   "codemirror_mode": {
    "name": "ipython",
    "version": 3
   },
   "file_extension": ".py",
   "mimetype": "text/x-python",
   "name": "python",
   "nbconvert_exporter": "python",
   "pygments_lexer": "ipython3",
   "version": "3.12.5"
  }
 },
 "nbformat": 4,
 "nbformat_minor": 2
}
