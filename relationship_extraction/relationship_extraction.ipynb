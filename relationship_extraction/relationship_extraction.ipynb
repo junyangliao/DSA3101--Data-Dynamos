{
 "cells": [
  {
   "cell_type": "markdown",
   "metadata": {},
   "source": [
    "# Relationship Extraction"
   ]
  },
  {
   "cell_type": "code",
   "execution_count": 163,
   "metadata": {},
   "outputs": [],
   "source": [
    "# import libraries\n",
    "import numpy as np\n",
    "import pandas as pd\n",
    "import ast\n"
   ]
  },
  {
   "cell_type": "markdown",
   "metadata": {},
   "source": [
    "## Student Info"
   ]
  },
  {
   "cell_type": "code",
   "execution_count": 164,
   "metadata": {},
   "outputs": [
    {
     "name": "stdout",
     "output_type": "stream",
     "text": [
      "      Student_Name Matric_Number       NRIC  Year  \\\n",
      "0      Tracy Lewis     A0216920B  XXXXX506Z     1   \n",
      "1    Andrew Holden     A0225069H  XXXXX799Z     3   \n",
      "2  Phillip Bullock     A0228204E  XXXXX194Z     1   \n",
      "3   Valerie Rivera     A0200778Y  XXXXX150Z     3   \n",
      "4      Robert Hall     A0222508M  XXXXX824Z     3   \n",
      "\n",
      "                           Faculties                    Major  \\\n",
      "0                NUS Business School  Business Administration   \n",
      "1          YST Conservatory of Music                    Music   \n",
      "2  College of Design and Engineering   Electrical Engineering   \n",
      "3                          Computing       Business Analytics   \n",
      "4          YST Conservatory of Music                    Music   \n",
      "\n",
      "              Second Major                                  Modules_Completed  \\\n",
      "0                      NaN  ['ACC1701B', 'DMB1202ACC', 'DMB1201MKT', 'MNO1...   \n",
      "1                      NaN  ['CFA1111A', 'MUA1190', 'MUA2109', 'MUA1172', ...   \n",
      "2                      NaN  ['ME1102', 'BN1111', 'PF1103', 'CN1101A', 'ID1...   \n",
      "3                      NaN  ['CS3236R', 'CS1010', 'CP3209', 'CS1010R', 'IS...   \n",
      "4  Business Administration  ['MUA1109', 'CFA1101A', 'MUA2255A', 'MUA1172',...   \n",
      "\n",
      "                                              Grades  \\\n",
      "0  {'ACC1701B': 'B', 'DMB1202ACC': 'A', 'DMB1201M...   \n",
      "1  {'CFA1111A': 'F', 'MUA1190': 'A', 'MUA2109': '...   \n",
      "2  {'ME1102': 'F', 'BN1111': 'B-', 'PF1103': 'C+'...   \n",
      "3  {'CS3236R': 'A+', 'CS1010': 'A+', 'CP3209': 'A...   \n",
      "4  {'MUA1109': 'C+', 'CFA1101A': 'B-', 'MUA2255A'...   \n",
      "\n",
      "                   Student_entities  \\\n",
      "0      [('Tracy Lewis', 'STUDENT')]   \n",
      "1    [('Andrew Holden', 'STUDENT')]   \n",
      "2  [('Phillip Bullock', 'STUDENT')]   \n",
      "3   [('Valerie Rivera', 'STUDENT')]   \n",
      "4      [('Robert Hall', 'STUDENT')]   \n",
      "\n",
      "                                    Faculty_entities  \\\n",
      "0               [('NUS Business School', 'FACULTY')]   \n",
      "1         [('YST Conservatory of Music', 'FACULTY')]   \n",
      "2  [('College of Design and Engineering', 'FACULT...   \n",
      "3                         [('Computing', 'FACULTY')]   \n",
      "4         [('YST Conservatory of Music', 'FACULTY')]   \n",
      "\n",
      "                           Major_entities  \\\n",
      "0  [('Business Administration', 'MAJOR')]   \n",
      "1                    [('Music', 'MAJOR')]   \n",
      "2   [('Electrical Engineering', 'MAJOR')]   \n",
      "3       [('Business Analytics', 'MAJOR')]   \n",
      "4                    [('Music', 'MAJOR')]   \n",
      "\n",
      "                                     Module_entities  \n",
      "0  [('ACC1701B', 'MODULE'), ('DMB1202ACC', 'MODUL...  \n",
      "1  [('CFA1111A', 'MODULE'), ('MUA1190', 'MODULE')...  \n",
      "2  [('ME1102', 'MODULE'), ('BN1111', 'MODULE'), (...  \n",
      "3  [('CS3236R', 'MODULE'), ('CS1010', 'MODULE'), ...  \n",
      "4  [('MUA1109', 'MODULE'), ('CFA1101A', 'MODULE')...  \n"
     ]
    }
   ],
   "source": [
    "# load data\n",
    "student_info = pd.read_csv('../entity_extraction/student_info_final.csv') \n",
    "print(student_info.head())"
   ]
  },
  {
   "cell_type": "code",
   "execution_count": 165,
   "metadata": {},
   "outputs": [],
   "source": [
    "# create new df with columns Subject, Predicate, Object\n",
    "student_major = pd.DataFrame()\n",
    "\n",
    "# student --> majors_in --> major\n",
    "student_major['Subject'] = student_info['Student_Name']\n",
    "student_major['Predicate'] = 'majors_in'\n",
    "student_major['Object'] = student_info['Major']"
   ]
  },
  {
   "cell_type": "code",
   "execution_count": 166,
   "metadata": {},
   "outputs": [
    {
     "name": "stdout",
     "output_type": "stream",
     "text": [
      "              Subject  Predicate                   Object\n",
      "0         Tracy Lewis  majors_in  Business Administration\n",
      "1       Andrew Holden  majors_in                    Music\n",
      "2     Phillip Bullock  majors_in   Electrical Engineering\n",
      "3      Valerie Rivera  majors_in       Business Analytics\n",
      "4         Robert Hall  majors_in                    Music\n",
      "...               ...        ...                      ...\n",
      "3280  Renee Carpenter  majors_in  Business Administration\n",
      "3281    Garrett Mcgee  majors_in                      Law\n",
      "3282    Michael Colon  majors_in                 Medicine\n",
      "3283     Wesley Moran  majors_in                      Law\n",
      "3284   Angel Peterson  majors_in  Business Administration\n",
      "\n",
      "[3285 rows x 3 columns]\n"
     ]
    }
   ],
   "source": [
    "print(student_major)"
   ]
  },
  {
   "cell_type": "code",
   "execution_count": 167,
   "metadata": {},
   "outputs": [],
   "source": [
    "# create new df\n",
    "student_faculty = pd.DataFrame()\n",
    "\n",
    "# student --> is_in_faculty --> faculty\n",
    "student_faculty['Subject'] = student_info['Student_Name']\n",
    "student_faculty['Predicate'] = 'is_in_faculty'\n",
    "student_faculty['Object'] = student_info['Faculties']"
   ]
  },
  {
   "cell_type": "code",
   "execution_count": 168,
   "metadata": {},
   "outputs": [
    {
     "name": "stdout",
     "output_type": "stream",
     "text": [
      "              Subject      Predicate                             Object\n",
      "0         Tracy Lewis  is_in_faculty                NUS Business School\n",
      "1       Andrew Holden  is_in_faculty          YST Conservatory of Music\n",
      "2     Phillip Bullock  is_in_faculty  College of Design and Engineering\n",
      "3      Valerie Rivera  is_in_faculty                          Computing\n",
      "4         Robert Hall  is_in_faculty          YST Conservatory of Music\n",
      "...               ...            ...                                ...\n",
      "3280  Renee Carpenter  is_in_faculty                NUS Business School\n",
      "3281    Garrett Mcgee  is_in_faculty                                Law\n",
      "3282    Michael Colon  is_in_faculty       Yong Loo Lin Sch of Medicine\n",
      "3283     Wesley Moran  is_in_faculty                                Law\n",
      "3284   Angel Peterson  is_in_faculty                NUS Business School\n",
      "\n",
      "[3285 rows x 3 columns]\n"
     ]
    }
   ],
   "source": [
    "print(student_faculty)"
   ]
  },
  {
   "cell_type": "code",
   "execution_count": 169,
   "metadata": {},
   "outputs": [
    {
     "name": "stdout",
     "output_type": "stream",
     "text": [
      "             Subject     Predicate      Object  Predicate2 Object2\n",
      "0        Tracy Lewis  takes_module    ACC1701B  and_scored       B\n",
      "0        Tracy Lewis  takes_module  DMB1202ACC  and_scored       A\n",
      "0        Tracy Lewis  takes_module  DMB1201MKT  and_scored      C+\n",
      "0        Tracy Lewis  takes_module    MNO1706B  and_scored       C\n",
      "0        Tracy Lewis  takes_module      RE1702  and_scored      C+\n",
      "...              ...           ...         ...         ...     ...\n",
      "3284  Angel Peterson  takes_module    ACC1701C  and_scored       D\n",
      "3284  Angel Peterson  takes_module     BSE3711  and_scored      B+\n",
      "3284  Angel Peterson  takes_module  DMB1204ACC  and_scored       D\n",
      "3284  Angel Peterson  takes_module      RE3000  and_scored       D\n",
      "3284  Angel Peterson  takes_module     BI3704B  and_scored      B-\n",
      "\n",
      "[65104 rows x 5 columns]\n"
     ]
    }
   ],
   "source": [
    "# create new df\n",
    "student_module = pd.DataFrame()\n",
    "\n",
    "# student --> takes_module --> module \n",
    "# for every module in 'Module', create a new row in the df\n",
    "\n",
    "student_module['Subject'] = student_info['Student_Name']\n",
    "student_module['Predicate'] = 'takes_module'\n",
    "student_module['Object'] = student_info['Modules_Completed']\n",
    "# Convert comma-separated strings to lists\n",
    "student_module['Object'] = student_module['Object'].apply(lambda x: ast.literal_eval(x) if isinstance(x, str) else x)\n",
    "student_module = student_module.explode('Object')\n",
    "student_module['Predicate2'] = 'and_scored'\n",
    "student_module['Object2'] = student_info['Grades']\n",
    "# Convert string representations of dictionaries into actual dictionaries\n",
    "student_module['Object2'] = student_module['Object2'].apply(lambda x: ast.literal_eval(x) if isinstance(x, str) else x)\n",
    "# grades column should be the value of key in 'Object' only\n",
    "student_module['Object2'] = student_module.apply(\n",
    "    lambda row: row['Object2'].get(row['Object'], None), axis=1\n",
    ")\n",
    "\n",
    "print(student_module)\n"
   ]
  },
  {
   "cell_type": "markdown",
   "metadata": {},
   "source": [
    "## Module Info"
   ]
  },
  {
   "cell_type": "code",
   "execution_count": 170,
   "metadata": {},
   "outputs": [],
   "source": [
    "# load data\n",
    "module_info = pd.read_csv('../entity_extraction/module_info_final.csv')"
   ]
  },
  {
   "cell_type": "code",
   "execution_count": 171,
   "metadata": {},
   "outputs": [
    {
     "name": "stdout",
     "output_type": "stream",
     "text": [
      "      Subject   Predicate                      Object\n",
      "0     ABM5001  offered_by  NUS Medicine Dean's Office\n",
      "1     ABM5002  offered_by  NUS Medicine Dean's Office\n",
      "2     ABM5003  offered_by  NUS Medicine Dean's Office\n",
      "3     ABM5004  offered_by  NUS Medicine Dean's Office\n",
      "4     ABM5101  offered_by  NUS Medicine Dean's Office\n",
      "...       ...         ...                         ...\n",
      "6844   ZB3311  offered_by         Biological Sciences\n",
      "6845   ZB3312  offered_by         Biological Sciences\n",
      "6846   ZB4171  offered_by         Biological Sciences\n",
      "6847   ZB4199  offered_by         Biological Sciences\n",
      "6848   ZB4299  offered_by         Biological Sciences\n",
      "\n",
      "[6849 rows x 3 columns]\n"
     ]
    }
   ],
   "source": [
    "# create new df\n",
    "module_department = pd.DataFrame()\n",
    "\n",
    "# module --> offered_by --> department\n",
    "module_department['Subject'] = module_info['moduleCode']\n",
    "module_department['Predicate'] = 'offered_by'\n",
    "module_department['Object'] = module_info['department']\n",
    "\n",
    "# remove nan values\n",
    "module_department = module_department.dropna()\n",
    "\n",
    "print(module_department)"
   ]
  },
  {
   "cell_type": "code",
   "execution_count": 172,
   "metadata": {},
   "outputs": [
    {
     "name": "stdout",
     "output_type": "stream",
     "text": [
      "      Subject         Predicate    Object\n",
      "25    ACC2706  has_prerequisite   ACC1701\n",
      "25    ACC2706  has_prerequisite  ACC1701X\n",
      "25    ACC2706  has_prerequisite    EC2204\n",
      "26    ACC2707  has_prerequisite   ACC1701\n",
      "26    ACC2707  has_prerequisite  ACC1701X\n",
      "...       ...               ...       ...\n",
      "6844   ZB3311  has_prerequisite    ZB3310\n",
      "6846   ZB4171  has_prerequisite   CS1010S\n",
      "6846   ZB4171  has_prerequisite   LSM2253\n",
      "6846   ZB4171  has_prerequisite    CS2220\n",
      "6846   ZB4171  has_prerequisite   LSM3241\n",
      "\n",
      "[8262 rows x 3 columns]\n"
     ]
    }
   ],
   "source": [
    "# create new df\n",
    "module_prerequisite = pd.DataFrame()\n",
    "\n",
    "# module --> has_prerequisite --> prerequisite\n",
    "module_prerequisite['Subject'] = module_info['moduleCode']\n",
    "module_prerequisite['Predicate'] = 'has_prerequisite'\n",
    "module_prerequisite['Object'] = module_info['prerequisite']\n",
    "\n",
    "# keep only those with prerequisites, not null and not empty\n",
    "module_prerequisite = module_prerequisite[module_prerequisite['Object'].notnull()]\n",
    "module_prerequisite = module_prerequisite[module_prerequisite['Object'] != '[]']\n",
    "\n",
    "# explode the list of prerequisites\n",
    "module_prerequisite['Object'] = module_prerequisite['Object'].apply(lambda x: ast.literal_eval(x) if isinstance(x, str) else x)\n",
    "module_prerequisite = module_prerequisite.explode('Object')\n",
    "module_prerequisite = module_prerequisite.explode('Object')\n",
    "\n",
    "\n",
    "print(module_prerequisite)\n",
    "  "
   ]
  },
  {
   "cell_type": "code",
   "execution_count": 173,
   "metadata": {},
   "outputs": [
    {
     "name": "stdout",
     "output_type": "stream",
     "text": [
      "       Subject       Predicate    Object\n",
      "20    ACC1701A  has_preclusion   ACC1002\n",
      "20    ACC1701A  has_preclusion  ACC1002X\n",
      "20    ACC1701A  has_preclusion   ACC1701\n",
      "20    ACC1701A  has_preclusion    EC2204\n",
      "20    ACC1701A  has_preclusion    RE1705\n",
      "...        ...             ...       ...\n",
      "6845    ZB3312  has_preclusion   PHS3312\n",
      "6845    ZB3312  has_preclusion    QF3312\n",
      "6845    ZB3312  has_preclusion    ST3312\n",
      "6846    ZB4171  has_preclusion  YSC4211C\n",
      "6848    ZB4299  has_preclusion    ZB4199\n",
      "\n",
      "[8138 rows x 3 columns]\n"
     ]
    }
   ],
   "source": [
    "# create new df\n",
    "module_preclusion = pd.DataFrame()\n",
    "\n",
    "# module --> has_preclusion --> preclusion\n",
    "module_preclusion['Subject'] = module_info['moduleCode']\n",
    "module_preclusion['Predicate'] = 'has_preclusion'\n",
    "module_preclusion['Object'] = module_info['preclusion']\n",
    "\n",
    "# keep only those with preclusions, not null and not empty\n",
    "module_preclusion = module_preclusion[module_preclusion['Object'].notnull()]\n",
    "module_preclusion = module_preclusion[module_preclusion['Object'] != '[]']\n",
    "\n",
    "# explode the list of preclusions\n",
    "module_preclusion['Object'] = module_preclusion['Object'].apply(lambda x: ast.literal_eval(x) if isinstance(x, str) else x)\n",
    "module_preclusion = module_preclusion.explode('Object')\n",
    "\n",
    "print(module_preclusion)\n",
    "\n"
   ]
  },
  {
   "cell_type": "code",
   "execution_count": 174,
   "metadata": {},
   "outputs": [
    {
     "name": "stdout",
     "output_type": "stream",
     "text": [
      "      Subject      Predicate       Object\n",
      "0     ABM5001  teaches_skill   Leadership\n",
      "1     ABM5002  teaches_skill     Research\n",
      "1     ABM5002  teaches_skill      Extract\n",
      "1     ABM5002  teaches_skill   Healthcare\n",
      "2     ABM5003  teaches_skill     Research\n",
      "...       ...            ...          ...\n",
      "6843   ZB3310  teaches_skill  Environment\n",
      "6844   ZB3311  teaches_skill  Environment\n",
      "6845   ZB3312  teaches_skill  Environment\n",
      "6846   ZB4171  teaches_skill     Research\n",
      "6846   ZB4171  teaches_skill      Biology\n",
      "\n",
      "[14947 rows x 3 columns]\n"
     ]
    }
   ],
   "source": [
    "# create new df\n",
    "module_skill = pd.DataFrame()\n",
    "\n",
    "# module --> teaches_skill --> skill\n",
    "module_skill['Subject'] = module_info['moduleCode']\n",
    "module_skill['Predicate'] = 'teaches_skill'\n",
    "\n",
    "# select values of key 'skills' from 'Description_entities' column\n",
    "module_skill['Object'] = module_info['Description_entities'].apply(lambda x: ast.literal_eval(x).get('Skill', None) if isinstance(x, str) else x)    \n",
    "\n",
    "# explode the list of skills\n",
    "module_skill = module_skill.explode('Object')\n",
    "#module_skill['Object'] = module_skill['Object'].apply(lambda x: ast.literal_eval(x) if isinstance(x, str) else x)\n",
    "\n",
    "# keep only those with skills, remove null and not empty\n",
    "module_skill = module_skill[module_skill['Object'].notnull()]\n",
    "module_skill = module_skill[module_skill['Object'] != '[]']\n",
    "\n",
    "print(module_skill)"
   ]
  },
  {
   "cell_type": "code",
   "execution_count": 175,
   "metadata": {},
   "outputs": [
    {
     "name": "stdout",
     "output_type": "stream",
     "text": [
      "      Subject   Predicate       Object\n",
      "0     ABM5001  offered_in  semester_02\n",
      "1     ABM5002  offered_in  semester_02\n",
      "2     ABM5003  offered_in  semester_01\n",
      "3     ABM5004  offered_in  semester_01\n",
      "3     ABM5004  offered_in  semester_02\n",
      "...       ...         ...          ...\n",
      "6846   ZB4171  offered_in  semester_01\n",
      "6847   ZB4199  offered_in  semester_01\n",
      "6847   ZB4199  offered_in  semester_02\n",
      "6848   ZB4299  offered_in  semester_01\n",
      "6848   ZB4299  offered_in  semester_02\n",
      "\n",
      "[9021 rows x 3 columns]\n"
     ]
    }
   ],
   "source": [
    "# create new df\n",
    "module_semester = pd.DataFrame()\n",
    "\n",
    "# module --> offered_in --> semester\n",
    "module_semester['Subject'] = module_info['moduleCode']\n",
    "module_semester['Predicate'] = 'offered_in'\n",
    "\n",
    "# select semester_01, semester_02, semester_03, semester_04 from module_info, if value is 1, input column name, if value is 0, do not input column name\n",
    "module_semester['Object'] = module_info[['semester_01', 'semester_02', 'semester_03', 'semester_04']].apply(lambda x: [col for col in x.index if x[col] == 1], axis=1)\n",
    "\n",
    "# explode the list of semesters\n",
    "module_semester['Object'] = module_semester['Object'].apply(lambda x: ast.literal_eval(x) if isinstance(x, str) else x)\n",
    "module_semester = module_semester.explode('Object')\n",
    "\n",
    "# remove those with no semesters\n",
    "module_semester = module_semester[module_semester['Object'].notnull()]\n",
    "module_semester = module_semester[module_semester['Object'] != '[]']\n",
    "\n",
    "print(module_semester)\n"
   ]
  },
  {
   "cell_type": "markdown",
   "metadata": {},
   "source": [
    "## Department Info"
   ]
  },
  {
   "cell_type": "code",
   "execution_count": 176,
   "metadata": {},
   "outputs": [],
   "source": [
    "# load data\n",
    "department_info = pd.read_csv('../entity_extraction/department_info_final.csv')"
   ]
  },
  {
   "cell_type": "code",
   "execution_count": 177,
   "metadata": {},
   "outputs": [
    {
     "name": "stdout",
     "output_type": "stream",
     "text": [
      "                            Subject         Predicate  \\\n",
      "0        NUS Medicine Dean's Office  is_under_faculty   \n",
      "1                      Architecture  is_under_faculty   \n",
      "2                        Accounting  is_under_faculty   \n",
      "3      Communications and New Media  is_under_faculty   \n",
      "4                           History  is_under_faculty   \n",
      "..                              ...               ...   \n",
      "106  Ridge View Residential College  is_under_faculty   \n",
      "107   University Scholars Programme  is_under_faculty   \n",
      "108  College of Alice and Peter Tan  is_under_faculty   \n",
      "109            Residential Colleges  is_under_faculty   \n",
      "110                Yale-NUS College  is_under_faculty   \n",
      "\n",
      "                                Object  \n",
      "0         Yong Loo Lin Sch of Medicine  \n",
      "1    College of Design and Engineering  \n",
      "2                  NUS Business School  \n",
      "3              Arts and Social Science  \n",
      "4              Arts and Social Science  \n",
      "..                                 ...  \n",
      "106                Residential College  \n",
      "107                          Computing  \n",
      "108                Residential College  \n",
      "109                Residential College  \n",
      "110                   Yale-NUS College  \n",
      "\n",
      "[111 rows x 3 columns]\n"
     ]
    }
   ],
   "source": [
    "# create new df\n",
    "department_faculty = pd.DataFrame()\n",
    "\n",
    "# department --> is_under_faculty --> faculty\n",
    "department_faculty['Subject'] = department_info['department']\n",
    "department_faculty['Predicate'] = 'is_under_faculty'\n",
    "department_faculty['Object'] = department_info['faculty']\n",
    "\n",
    "print(department_faculty)"
   ]
  },
  {
   "cell_type": "markdown",
   "metadata": {},
   "source": [
    "## Staff Info"
   ]
  },
  {
   "cell_type": "code",
   "execution_count": 178,
   "metadata": {},
   "outputs": [],
   "source": [
    "# load data\n",
    "staff_info = pd.read_csv('../entity_extraction/staff_info_final.csv')"
   ]
  },
  {
   "cell_type": "code",
   "execution_count": 179,
   "metadata": {},
   "outputs": [
    {
     "name": "stdout",
     "output_type": "stream",
     "text": [
      "                    Subject       Predicate      Object\n",
      "0    Marin Sergio Hernandez  teaches_module     CEG5003\n",
      "1           Kathryn Cordova  teaches_module     ESE2102\n",
      "2           Barbara Sanchez  teaches_module   LAT4201HM\n",
      "3               Bryce Lucas  teaches_module  DMB1203MNO\n",
      "4            Judith Camacho  teaches_module    EC4401HM\n",
      "..                      ...             ...         ...\n",
      "995              Lisa Reyes  teaches_module    MUA3256B\n",
      "996           Melanie Kelly  teaches_module    LLJ5342V\n",
      "997          Ronald Spencer  teaches_module      PC2032\n",
      "998          Charles Rogers  teaches_module      PL4251\n",
      "999          Vanessa Taylor  teaches_module     MUA4107\n",
      "\n",
      "[1000 rows x 3 columns]\n"
     ]
    }
   ],
   "source": [
    "# create new df\n",
    "staff_module = pd.DataFrame()\n",
    "\n",
    "# staff --> teaches_module --> module\n",
    "staff_module['Subject'] = staff_info['Employee Name']\n",
    "staff_module['Predicate'] = 'teaches_module'\n",
    "staff_module['Object'] = staff_info['Modules Taught']\n",
    "\n",
    "print(staff_module)"
   ]
  },
  {
   "cell_type": "code",
   "execution_count": 180,
   "metadata": {},
   "outputs": [
    {
     "name": "stdout",
     "output_type": "stream",
     "text": [
      "                    Subject         Predicate  \\\n",
      "0    Marin Sergio Hernandez  is_in_department   \n",
      "1           Kathryn Cordova  is_in_department   \n",
      "2           Barbara Sanchez  is_in_department   \n",
      "3               Bryce Lucas  is_in_department   \n",
      "4            Judith Camacho  is_in_department   \n",
      "..                      ...               ...   \n",
      "995              Lisa Reyes  is_in_department   \n",
      "996           Melanie Kelly  is_in_department   \n",
      "997          Ronald Spencer  is_in_department   \n",
      "998          Charles Rogers  is_in_department   \n",
      "999          Vanessa Taylor  is_in_department   \n",
      "\n",
      "                                  Object  \n",
      "0    Electrical and Computer Engineering  \n",
      "1    Civil and Environmental Engineering  \n",
      "2            Centre for Language Studies  \n",
      "3                      BIZ Dean's Office  \n",
      "4                              Economics  \n",
      "..                                   ...  \n",
      "995                  YSTCM Dean's Office  \n",
      "996                    FoL Dean's Office  \n",
      "997                              Physics  \n",
      "998                           Psychology  \n",
      "999                  YSTCM Dean's Office  \n",
      "\n",
      "[1000 rows x 3 columns]\n"
     ]
    }
   ],
   "source": [
    "# create new df\n",
    "staff_department = pd.DataFrame()\n",
    "\n",
    "# staff --> is_in_department --> department\n",
    "staff_department['Subject'] = staff_info['Employee Name']\n",
    "staff_department['Predicate'] = 'is_in_department'\n",
    "staff_department['Object'] = staff_info['Department_ID']\n",
    "\n",
    "print(staff_department)"
   ]
  },
  {
   "cell_type": "markdown",
   "metadata": {},
   "source": [
    "## Save Dataframes"
   ]
  },
  {
   "cell_type": "code",
   "execution_count": 181,
   "metadata": {},
   "outputs": [],
   "source": [
    "# write all to csv\n",
    "student_major.to_csv('student_major.csv', index=False)\n",
    "student_faculty.to_csv('student_faculty.csv', index=False)\n",
    "student_module.to_csv('student_module.csv', index=False)\n",
    "module_department.to_csv('module_department.csv', index=False)\n",
    "module_prerequisite.to_csv('module_prerequisite.csv', index=False)\n",
    "module_preclusion.to_csv('module_preclusion.csv', index=False)\n",
    "module_skill.to_csv('module_skill.csv', index=False)\n",
    "module_semester.to_csv('module_semester.csv', index=False)\n",
    "department_faculty.to_csv('department_faculty.csv', index=False)\n",
    "staff_module.to_csv('staff_module.csv', index=False)\n",
    "staff_department.to_csv('staff_department.csv', index=False)\n"
   ]
  }
 ],
 "metadata": {
  "kernelspec": {
   "display_name": "Python 3",
   "language": "python",
   "name": "python3"
  },
  "language_info": {
   "codemirror_mode": {
    "name": "ipython",
    "version": 3
   },
   "file_extension": ".py",
   "mimetype": "text/x-python",
   "name": "python",
   "nbconvert_exporter": "python",
   "pygments_lexer": "ipython3",
   "version": "3.12.5"
  }
 },
 "nbformat": 4,
 "nbformat_minor": 2
}
