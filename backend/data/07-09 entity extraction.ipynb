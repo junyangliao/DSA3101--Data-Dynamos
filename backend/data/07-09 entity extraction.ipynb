{
 "cells": [
  {
   "cell_type": "code",
   "execution_count": 1,
   "metadata": {},
   "outputs": [],
   "source": [
    "import pandas as pd"
   ]
  },
  {
   "cell_type": "code",
   "execution_count": 8,
   "metadata": {},
   "outputs": [],
   "source": [
    "# Load the CSV file\n",
    "linkedin_jobs = pd.read_csv('../data/07 - Jobs and relevant skillset (linkedin).csv')\n",
    "ONET_jobs_and_tech = pd.read_csv('../data/08 - jobs_and_tech (ONET).csv')  \n",
    "ONET_jobs_and_skills = pd.read_csv('../data/09 - jobs_and_skills (ONET).csv')   "
   ]
  },
  {
   "cell_type": "code",
   "execution_count": 28,
   "metadata": {},
   "outputs": [
    {
     "data": {
      "text/html": [
       "<div>\n",
       "<style scoped>\n",
       "    .dataframe tbody tr th:only-of-type {\n",
       "        vertical-align: middle;\n",
       "    }\n",
       "\n",
       "    .dataframe tbody tr th {\n",
       "        vertical-align: top;\n",
       "    }\n",
       "\n",
       "    .dataframe thead th {\n",
       "        text-align: right;\n",
       "    }\n",
       "</style>\n",
       "<table border=\"1\" class=\"dataframe\">\n",
       "  <thead>\n",
       "    <tr style=\"text-align: right;\">\n",
       "      <th></th>\n",
       "      <th>O*NET-SOC Code</th>\n",
       "      <th>Title</th>\n",
       "      <th>Skills</th>\n",
       "    </tr>\n",
       "  </thead>\n",
       "  <tbody>\n",
       "    <tr>\n",
       "      <th>0</th>\n",
       "      <td>11-1011.00</td>\n",
       "      <td>Chief Executives</td>\n",
       "      <td>Administration and Management</td>\n",
       "    </tr>\n",
       "    <tr>\n",
       "      <th>1</th>\n",
       "      <td>11-1011.00</td>\n",
       "      <td>Chief Executives</td>\n",
       "      <td>Administrative</td>\n",
       "    </tr>\n",
       "    <tr>\n",
       "      <th>2</th>\n",
       "      <td>11-1011.00</td>\n",
       "      <td>Chief Executives</td>\n",
       "      <td>Economics and Accounting</td>\n",
       "    </tr>\n",
       "    <tr>\n",
       "      <th>3</th>\n",
       "      <td>11-1011.00</td>\n",
       "      <td>Chief Executives</td>\n",
       "      <td>Sales and Marketing</td>\n",
       "    </tr>\n",
       "    <tr>\n",
       "      <th>4</th>\n",
       "      <td>11-1011.00</td>\n",
       "      <td>Chief Executives</td>\n",
       "      <td>Customer and Personal Service</td>\n",
       "    </tr>\n",
       "  </tbody>\n",
       "</table>\n",
       "</div>"
      ],
      "text/plain": [
       "  O*NET-SOC Code             Title                         Skills\n",
       "0     11-1011.00  Chief Executives  Administration and Management\n",
       "1     11-1011.00  Chief Executives                 Administrative\n",
       "2     11-1011.00  Chief Executives       Economics and Accounting\n",
       "3     11-1011.00  Chief Executives            Sales and Marketing\n",
       "4     11-1011.00  Chief Executives  Customer and Personal Service"
      ]
     },
     "execution_count": 28,
     "metadata": {},
     "output_type": "execute_result"
    }
   ],
   "source": [
    "# Check the first few rows\n",
    "#linkedin_jobs.head()\n",
    "#ONET_jobs_and_tech.head()\n",
    "ONET_jobs_and_skills.head()"
   ]
  },
  {
   "cell_type": "code",
   "execution_count": 19,
   "metadata": {},
   "outputs": [],
   "source": [
    "# Check for any full row duplicates in the dataset\n",
    "#skills_duplicates = ONET_jobs_and_skills.duplicated().sum()\n",
    "#tech_duplicates = ONET_jobs_and_tech.duplicated().sum()\n",
    "\n",
    "##print(f\"Number of duplicate rows in ONET jobs and skills: {skills_duplicates}\")\n",
    "#print(f\"Number of duplicate rows in ONET jobs and tech: {tech_duplicates}\")\n",
    "\n",
    "# Display duplicated rows in ONET jobs and skills\n",
    "#skills_duplicates_df = ONET_jobs_and_skills[ONET_jobs_and_skills.duplicated()]\n",
    "#print(\"Duplicated rows in ONET jobs and skills:\")\n",
    "#print(skills_duplicates_df.head())  # Show first few duplicated rows"
   ]
  },
  {
   "cell_type": "code",
   "execution_count": 36,
   "metadata": {},
   "outputs": [
    {
     "data": {
      "text/plain": [
       "1016"
      ]
     },
     "execution_count": 36,
     "metadata": {},
     "output_type": "execute_result"
    }
   ],
   "source": [
    "len(ONET_jobs_and_tech['O*NET-SOC Code'].unique())"
   ]
  },
  {
   "cell_type": "code",
   "execution_count": 48,
   "metadata": {},
   "outputs": [
    {
     "name": "stdout",
     "output_type": "stream",
     "text": [
      "Job Title: Academic Advisor\n",
      "Skills: ['Academic Advising', 'Higher Education', 'Student Development', 'Student Engagement', 'Teaching', 'Student Affairs', 'Career Counseling', 'Student Counseling', 'Higher Education Administration', 'Campus']\n",
      "---\n",
      "Job Title: Academic Tutor\n",
      "Skills: ['Tutoring', 'Teaching', 'Peer Tutoring', 'Mathematics', 'Online Tutoring', 'Research', 'Python (Programming Language)', 'Communication', 'Leadership', 'Writing']\n",
      "---\n",
      "Job Title: Account Coordinator\n",
      "Skills: ['Account Management', 'Account Coordination', 'Public Relations', 'Digital Marketing', 'Customer Relationship Management (CRM)', 'Client Relations', 'Data Entry', 'Copywriting', 'Marketing', 'Communication']\n",
      "---\n",
      "Job Title: Account Director\n",
      "Skills: ['Account Management', 'Client Services', 'Client Relations', 'Marketing Strategy', 'Strategy', 'Business Development', 'Strategic Partnerships', 'Brand Awareness', 'Digital Marketing', 'Strategic Planning']\n",
      "---\n",
      "Job Title: Account Executive\n",
      "Skills: ['Software as a Service (SaaS)', 'Account Management', 'Business-to-Business (B2B)', 'Sales', 'Cold Calling', 'Salesforce.com', 'Direct Sales', 'Sales Management', 'Customer Relationship Management (CRM)', 'Business Development']\n",
      "---\n"
     ]
    }
   ],
   "source": [
    "# for linkedin jobs and relevant skills\n",
    "# Extract 'Job Title' and 'Skills' columns\n",
    "job_titles = linkedin_jobs['Job Title']\n",
    "skills = linkedin_jobs['Skills']\n",
    "\n",
    "# Split the 'Skills' column into individual skills\n",
    "extracted_entities = []\n",
    "\n",
    "for job_title, skill_list in zip(job_titles, skills):\n",
    "    if pd.notna(skill_list):  # Ensure 'Skills' column is not NaN\n",
    "        # Split skills by commas and strip any extra whitespace, storing them in a list\n",
    "        individual_skills = [skill.strip() for skill in skill_list.split(',')]\n",
    "    else:\n",
    "        individual_skills = [] # In case of NaN or empty skills\n",
    "\n",
    "    # Append a dictionary with job title and its corresponding skills\n",
    "    extracted_entities.append({\n",
    "        'Job Title': job_title,\n",
    "        'Skills': individual_skills\n",
    "    })\n",
    "\n",
    "# Display the first few extracted entities (in list format)\n",
    "for entity in extracted_entities[:5]:  # Print the first 5 for preview\n",
    "    print(f\"Job Title: {entity['Job Title']}\")\n",
    "    print(f\"Skills: {entity['Skills']}\")\n",
    "    print('---')\n",
    "\n",
    "pd.DataFrame(extracted_entities).to_csv('../data/jobs and relevant skillset (linkedin)_final.csv', index=False)"
   ]
  },
  {
   "cell_type": "code",
   "execution_count": 60,
   "metadata": {},
   "outputs": [
    {
     "name": "stdout",
     "output_type": "stream",
     "text": [
      "93\n"
     ]
    }
   ],
   "source": [
    "# for ONET jobs and tech\n",
    "# Check for any NaN values in the 'Tech Skill' column\n",
    "print(ONET_jobs_and_tech['Tech Skill'].isna().sum())\n"
   ]
  },
  {
   "cell_type": "code",
   "execution_count": 61,
   "metadata": {},
   "outputs": [
    {
     "name": "stdout",
     "output_type": "stream",
     "text": [
      "Jobs with only blank Tech Skill entries:\n",
      "                                                  Title  blank_count  \\\n",
      "21                      Agricultural Workers, All Other            1   \n",
      "22                                     Air Crew Members            1   \n",
      "23                                    Air Crew Officers            1   \n",
      "26                Aircraft Launch and Recovery Officers            1   \n",
      "27             Aircraft Launch and Recovery Specialists            1   \n",
      "...                                                 ...          ...   \n",
      "956   Textile, Apparel, and Furnishings Workers, All...            1   \n",
      "957                               Therapists, All Other            1   \n",
      "975                   Transportation Workers, All Other            1   \n",
      "983     Underground Mining Machine Operators, All Other            1   \n",
      "1011                             Woodworkers, All Other            1   \n",
      "\n",
      "      non_blank_count  \n",
      "21                  0  \n",
      "22                  0  \n",
      "23                  0  \n",
      "26                  0  \n",
      "27                  0  \n",
      "...               ...  \n",
      "956                 0  \n",
      "957                 0  \n",
      "975                 0  \n",
      "983                 0  \n",
      "1011                0  \n",
      "\n",
      "[93 rows x 3 columns]\n",
      "Jobs with both blank and non-blank Tech Skill entries:\n",
      "Empty DataFrame\n",
      "Columns: [Title, blank_count, non_blank_count]\n",
      "Index: []\n"
     ]
    }
   ],
   "source": [
    "# check that jobs with blank tech skills do not have non-blank tech skills\n",
    "import pandas as pd\n",
    "\n",
    "ONET_tech_skills = ONET_jobs_and_tech[['Title', 'Tech Skill']]\n",
    "\n",
    "# Step 1: Group by 'Title' and count blank and non-blank 'Tech Skill' entries\n",
    "tech_skill_counts = ONET_tech_skills.groupby('Title')['Tech Skill'].agg(\n",
    "    blank_count=lambda x: x.isna().sum(),\n",
    "    non_blank_count=lambda x: x.notna().sum()\n",
    ").reset_index()\n",
    "\n",
    "# Step 2: Filter for jobs that only have blank 'Tech Skill' entries\n",
    "jobs_only_blank_tech_skills = tech_skill_counts[(tech_skill_counts['blank_count'] > 0) & (tech_skill_counts['non_blank_count'] == 0)]\n",
    "\n",
    "# Display the jobs that only have blank tech skills\n",
    "print(\"Jobs with only blank Tech Skill entries:\")\n",
    "print(jobs_only_blank_tech_skills)\n",
    "\n",
    "# Optionally, check the jobs that have both blank and non-blank tech skills entries\n",
    "jobs_with_mixed_entries = tech_skill_counts[(tech_skill_counts['blank_count'] > 0) & (tech_skill_counts['non_blank_count'] > 0)]\n",
    "print(\"Jobs with both blank and non-blank Tech Skill entries:\")\n",
    "print(jobs_with_mixed_entries)\n"
   ]
  },
  {
   "cell_type": "code",
   "execution_count": 62,
   "metadata": {},
   "outputs": [
    {
     "name": "stdout",
     "output_type": "stream",
     "text": [
      "Title: Chief Executives\n",
      "Tech Skills: ['Desktop calculator']\n",
      "---\n",
      "Title: Chief Executives\n",
      "Tech Skills: ['Desktop computers']\n",
      "---\n",
      "Title: Chief Executives\n",
      "Tech Skills: ['Notebook computers']\n",
      "---\n",
      "Title: Chief Executives\n",
      "Tech Skills: ['Personal computers']\n",
      "---\n",
      "Title: Chief Executives\n",
      "Tech Skills: ['Personal digital assistant PDAs or organizers']\n",
      "---\n"
     ]
    }
   ],
   "source": [
    "# for ONET jobs and tech\n",
    "# Extract 'Title' and 'Tech Skill' \n",
    "ONET_tech_skills = ONET_jobs_and_tech[['Title', 'Tech Skill']]\n",
    "extracted_tech_entities = []\n",
    "\n",
    "for index, row in ONET_tech_skills.iterrows():\n",
    "    tech_skill = row['Tech Skill']  # Get the tech skill\n",
    "    if pd.notna(tech_skill):  # Check if the tech skill is not NaN\n",
    "        extracted_tech_entities.append({\n",
    "            'Title': row['Title'],\n",
    "            'Tech Skills': [tech_skill.strip()]  # Convert each tech skill into a list\n",
    "        })\n",
    "    else:\n",
    "        extracted_tech_entities.append({\n",
    "            'Title': row['Title'],\n",
    "            'Tech Skills': []  # Append an empty list for NaN values\n",
    "        })\n",
    "\n",
    "# Display the first few extracted tech skills entities (in list format)\n",
    "for entity in extracted_tech_entities[:5]:\n",
    "    print(f\"Title: {entity['Title']}\")\n",
    "    print(f\"Tech Skills: {entity['Tech Skills']}\")\n",
    "    print('---')\n",
    "\n",
    "# Optionally save the extracted tech entities to a CSV file\n",
    "import pandas as pd\n",
    "pd.DataFrame(extracted_tech_entities).to_csv('../data/jobs_and_tech (ONET)_final.csv', index=False)\n"
   ]
  },
  {
   "cell_type": "code",
   "execution_count": 63,
   "metadata": {},
   "outputs": [
    {
     "name": "stdout",
     "output_type": "stream",
     "text": [
      "Title: Chief Executives\n",
      "Skills: ['Administration and Management']\n",
      "---\n",
      "Title: Chief Executives\n",
      "Skills: ['Administrative']\n",
      "---\n",
      "Title: Chief Executives\n",
      "Skills: ['Economics and Accounting']\n",
      "---\n",
      "Title: Chief Executives\n",
      "Skills: ['Sales and Marketing']\n",
      "---\n",
      "Title: Chief Executives\n",
      "Skills: ['Customer and Personal Service']\n",
      "---\n"
     ]
    }
   ],
   "source": [
    "# for ONET jobs and skills\n",
    "ONET_skills = ONET_jobs_and_skills[['Title', 'Skills']]\n",
    "extracted_skills_entities = []\n",
    "\n",
    "for index, row in ONET_skills.iterrows():\n",
    "    # Split skills by comma, strip whitespace, and create a list\n",
    "    individual_skills = [skill.strip() for skill in row['Skills'].split(',')] if pd.notna(row['Skills']) else []\n",
    "    \n",
    "    extracted_skills_entities.append({\n",
    "        'Title': row['Title'],\n",
    "        'Skills': individual_skills  # Convert skills into a list\n",
    "    })\n",
    "\n",
    "# Display the first few extracted skills entities (in list format)\n",
    "for entity in extracted_skills_entities[:5]:\n",
    "    print(f\"Title: {entity['Title']}\")\n",
    "    print(f\"Skills: {entity['Skills']}\")\n",
    "    print('---')\n",
    "\n",
    "# Optionally, you can save the extracted skills entities to a CSV file\n",
    "import pandas as pd\n",
    "\n",
    "# Convert the extracted skills entities to a DataFrame\n",
    "skills_df = pd.DataFrame(extracted_skills_entities)\n",
    "skills_df.to_csv('../data/jobs_and_skills (ONET)_final.csv', index=False)\n"
   ]
  }
 ],
 "metadata": {
  "kernelspec": {
   "display_name": "Python 3",
   "language": "python",
   "name": "python3"
  },
  "language_info": {
   "codemirror_mode": {
    "name": "ipython",
    "version": 3
   },
   "file_extension": ".py",
   "mimetype": "text/x-python",
   "name": "python",
   "nbconvert_exporter": "python",
   "pygments_lexer": "ipython3",
   "version": "3.12.0"
  }
 },
 "nbformat": 4,
 "nbformat_minor": 2
}
