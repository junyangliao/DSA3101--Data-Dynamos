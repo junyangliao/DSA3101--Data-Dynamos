{
 "cells": [
  {
   "cell_type": "markdown",
   "metadata": {},
   "source": [
    "Import libraries\n"
   ]
  },
  {
   "cell_type": "code",
   "execution_count": 1,
   "metadata": {},
   "outputs": [],
   "source": [
    "import pandas as pd \n",
    "import spacy \n",
    "import re \n",
    "import ast \n",
    "from spacy.matcher import PhraseMatcher  "
   ]
  },
  {
   "cell_type": "markdown",
   "metadata": {},
   "source": [
    "# 04 - mock module reviews\n"
   ]
  },
  {
   "cell_type": "markdown",
   "metadata": {},
   "source": [
    "Load the data\n"
   ]
  },
  {
   "cell_type": "code",
   "execution_count": 2,
   "metadata": {},
   "outputs": [
    {
     "name": "stdout",
     "output_type": "stream",
     "text": [
      "  module_code          id                                            message  \\\n",
      "0    ACC1701X  6472570545   Taken in AY23/24 Semester 2. Lecturer: Prof D...   \n",
      "1    ACC1701X  6467819412   Taken in AY23/24 Semester 2. Lecturer: Prof D...   \n",
      "2    ACC1701X  6452830983   ACC1701X Lecturer: Adjunct Assoc. Prof. Deon ...   \n",
      "3    ACC1701X  5896942778   Taken in AY 21/22 Sem 2, review at: <a href=\"...   \n",
      "4    ACC1701X  5889427965   Taken in AY19/20 Sem 2 Lecturer: Prof Winston...   \n",
      "\n",
      "            created_at  likes  dislikes  \n",
      "0  2024-06-03T01:36:26      0         0  \n",
      "1  2024-05-27T13:10:04      0         0  \n",
      "2  2024-05-07T04:48:19      0         0  \n",
      "3  2022-06-24T09:55:49      0         0  \n",
      "4  2022-06-16T10:03:57      0         0  \n"
     ]
    }
   ],
   "source": [
    "module_review_path = '../backend/data/04 - mock_module_reviews.csv'\n",
    "module_review = pd.read_csv(module_review_path)\n",
    "print(module_review.head())"
   ]
  },
  {
   "cell_type": "markdown",
   "metadata": {},
   "source": [
    "## Entity Extraction\n"
   ]
  },
  {
   "cell_type": "markdown",
   "metadata": {},
   "source": [
    "Extract Modules\n"
   ]
  },
  {
   "cell_type": "code",
   "execution_count": 3,
   "metadata": {},
   "outputs": [
    {
     "name": "stdout",
     "output_type": "stream",
     "text": [
      "  module_code module_entities\n",
      "0    ACC1701X      [ACC1701X]\n",
      "1    ACC1701X      [ACC1701X]\n",
      "2    ACC1701X      [ACC1701X]\n",
      "3    ACC1701X      [ACC1701X]\n",
      "4    ACC1701X      [ACC1701X]\n"
     ]
    }
   ],
   "source": [
    "def extract_module_entities(module_code):\n",
    "    # Ensure the input is a string and not empty\n",
    "    if isinstance(module_code, str) and module_code.strip():\n",
    "        return [(module_code)]\n",
    "    else:\n",
    "        return []\n",
    "\n",
    "# Apply the function to extract module entities from the 'module_code' column\n",
    "module_review['module_entities'] = module_review['module_code'].apply(lambda x: extract_module_entities(x))\n",
    "\n",
    "# Display the DataFrame with extracted module entities\n",
    "print(module_review[['module_code', 'module_entities']].head())"
   ]
  },
  {
   "cell_type": "markdown",
   "metadata": {},
   "source": [
    "Load spacy model for NER\n"
   ]
  },
  {
   "cell_type": "code",
   "execution_count": 4,
   "metadata": {},
   "outputs": [],
   "source": [
    "nlp = spacy.load(\"en_core_web_sm\")"
   ]
  },
  {
   "cell_type": "markdown",
   "metadata": {},
   "source": [
    "Extract skills from linkedin job and skillset csv\n"
   ]
  },
  {
   "cell_type": "code",
   "execution_count": 5,
   "metadata": {},
   "outputs": [
    {
     "data": {
      "text/html": [
       "<div>\n",
       "<style scoped>\n",
       "    .dataframe tbody tr th:only-of-type {\n",
       "        vertical-align: middle;\n",
       "    }\n",
       "\n",
       "    .dataframe tbody tr th {\n",
       "        vertical-align: top;\n",
       "    }\n",
       "\n",
       "    .dataframe thead th {\n",
       "        text-align: right;\n",
       "    }\n",
       "</style>\n",
       "<table border=\"1\" class=\"dataframe\">\n",
       "  <thead>\n",
       "    <tr style=\"text-align: right;\">\n",
       "      <th></th>\n",
       "      <th>Job Title</th>\n",
       "      <th>Skills</th>\n",
       "    </tr>\n",
       "  </thead>\n",
       "  <tbody>\n",
       "    <tr>\n",
       "      <th>0</th>\n",
       "      <td>['Academic Advisor']</td>\n",
       "      <td>['Academic Advising', 'Higher Education', 'Stu...</td>\n",
       "    </tr>\n",
       "    <tr>\n",
       "      <th>1</th>\n",
       "      <td>['Academic Tutor']</td>\n",
       "      <td>['Tutoring', 'Teaching', 'Peer Tutoring', 'Mat...</td>\n",
       "    </tr>\n",
       "    <tr>\n",
       "      <th>2</th>\n",
       "      <td>['Account Coordinator']</td>\n",
       "      <td>['Account Management', 'Account Coordination',...</td>\n",
       "    </tr>\n",
       "    <tr>\n",
       "      <th>3</th>\n",
       "      <td>['Account Director']</td>\n",
       "      <td>['Account Management', 'Client Services', 'Cli...</td>\n",
       "    </tr>\n",
       "    <tr>\n",
       "      <th>4</th>\n",
       "      <td>['Account Executive']</td>\n",
       "      <td>['Software as a Service (SaaS)', 'Account Mana...</td>\n",
       "    </tr>\n",
       "  </tbody>\n",
       "</table>\n",
       "</div>"
      ],
      "text/plain": [
       "                 Job Title                                             Skills\n",
       "0     ['Academic Advisor']  ['Academic Advising', 'Higher Education', 'Stu...\n",
       "1       ['Academic Tutor']  ['Tutoring', 'Teaching', 'Peer Tutoring', 'Mat...\n",
       "2  ['Account Coordinator']  ['Account Management', 'Account Coordination',...\n",
       "3     ['Account Director']  ['Account Management', 'Client Services', 'Cli...\n",
       "4    ['Account Executive']  ['Software as a Service (SaaS)', 'Account Mana..."
      ]
     },
     "execution_count": 5,
     "metadata": {},
     "output_type": "execute_result"
    }
   ],
   "source": [
    "jobs_and_skills_df = pd.read_csv(\"jobs_and_skillset_linkedin_final.csv\")\n",
    "jobs_and_skills_df.head()"
   ]
  },
  {
   "cell_type": "code",
   "execution_count": 6,
   "metadata": {},
   "outputs": [
    {
     "name": "stdout",
     "output_type": "stream",
     "text": [
      "['Emerging Markets', 'Music Education', 'Medication Reconciliation', 'Analytical Chemistry', 'Study Coordination', 'Job Search Strategies', 'Family Medicine', 'Environmental Impact Assessment', 'Hot Water', 'Visio', 'Enteral Nutrition', 'Medical Coding', 'Geographic Information Systems', 'Lifestyle Coaching', 'Claims Resolution', 'Responsive Web Design', 'Training Delivery', 'Structural Analysis', 'Voice & Accent', 'Crestron', 'Chicago Style', 'Financial Analysis', 'Intelligence Community', 'Client Services', 'Aircraft Systems', 'Holistic Life Coaching', 'Medical Transcription', 'Watercolor', 'Medical Assisting', 'Makeup Artistry', 'Mindfulness', 'Blueprint Reading', 'Cash Handling', 'Teaching', 'Time Study', 'Transform', 'ProSystem fx Engagement', 'Selenium', 'Gel Electrophoresis', 'Finish Carpentry', 'Web Testing', 'Bodywork', 'CNC Programming', 'Linguistics', 'Machining', 'Customer Service Training', 'Fluorescence Microscopy', 'Certified Immunizer', 'Mechanical Product Design', 'C#', 'Production Management', 'University Teaching', 'Basketball Coaching', 'Enterprise Technology Sales', 'Caregiving', 'Contact Lenses', 'Healthcare Information Technology', 'Microdermabrasion', 'Police', 'Fitness Instruction', 'Clinical Pharmacy', 'Server Configuration', 'Partnership Taxation', 'Wireframing', 'Product Design', 'Team Leadership', 'Lecturing', 'Live Sound', 'English Teaching', 'Forecasting', 'Concierge Services', 'Electronic Data Capture', 'Outreach Services', 'Coaching and Mentoring', 'Peer Tutoring', 'Medical Nutrition Therapy', 'Federal Government', 'FrameMaker', 'PLC Programming', 'Systems Analysis', 'Video', 'Nutrition Education', 'Safety Management Systems', 'OSHA 30-Hour', 'Working with Tenants', 'Roadway Design', 'Management Systems', 'CNC Machine', 'IT Project Management', 'Golf Club Repair', 'Information Security Management', 'Trial Management', 'Plant Operations', 'Internal Audits', 'Emergency Medical Services', 'Clinical Education', 'Personal Development', 'Periodontal Disease', 'Soldering', 'Nannying', 'Third-Party Logistics', 'SEO Copywriting', 'Organic Farming', 'Active DoD Secret Clearance', 'Key Account Development', 'Successful Business Owner', 'Clinical Trials', 'Employee Benefits Design', 'Personal Care Services', 'Menu Development', 'Wellness Coaching', 'Salesforce.com Development', 'Banking', 'Surgical Technology', 'IT Recruitment', 'Resume Writing', 'iOS', 'Supply Chain Management', 'Architectural Design', 'Consecutive Interpretation', 'U.S. Generally Accepted Accounting Principles', 'Autodesk Civil 3D', 'Plastic Surgery', 'Drawing Blood', 'Curriculum Development', 'Hive', 'Stocking', 'PHP', 'Fitness Industry', 'Operational Excellence', 'Customer Support', 'Fine Dining', '5S', 'Guitar Playing', 'Product Analysis', 'Organizational Development', 'Building Maintenance', 'Employee Engagement', 'System Testing', 'Electrical Technology', 'STEM', 'Personal Training', 'Automotive', 'Workplace Violence Prevention', 'Network Security', 'SQL', 'Business Operations', 'Embroidery', 'Loan Closings', 'PowerPlant', 'U.S. Health Insurance Portability and Accountability Act', 'Google Analytics', 'Expository Preaching', 'Control Systems Design', 'Background Checks', 'Purchase Orders', 'Operational Risk Management', 'Technical Specialists', 'Greenhouse', 'Screening Resumes', 'Six Sigma Green Belt', 'Electronics Repair', 'Manual Therapy', 'Warranty', 'Laboratory Skills', 'Salesforce.com', 'Dental Assisting', 'HR Consulting', 'Music Production', '3D Printing', 'Training & Development', 'Knitting', 'Powershell', 'Strategic Communications', 'Receptionist Duties', 'Customer Experience', 'Merchandising', 'Procore', 'Data Collection', 'Auto Insurance', 'Telephone Reception', 'Supervisory Skills', 'Incident Response', 'Mindfulness Meditation', 'Electrocardiography', 'Plumbers', 'RISA', 'Audio Visual System Design', 'Plant Management', 'Risk Analysis', 'Airlines', 'Veterinary Technology', 'Hospitality Service', 'Executive Administrative Assistance', 'Functional Testing', 'ServiceNow', 'Automotive Parts', 'Medical Social Work', 'Commerce', 'Middle School', 'Strategic Sourcing', 'Grant Writing', 'Pay Per Click', 'Blogging', 'Healthcare Management', 'Yoga Instruction', 'Dance', 'Electronics', 'Talent Management', 'Yieldstar', 'First Aid', 'Computer Numerical Control', 'Amazon Web Services', 'Film Production', 'Personal Data Protection', 'Signing Agent', 'Electronics Technology', 'Keyword Research', 'Contract Negotiation', 'Branch Banking', 'Cell Culture', 'Apache Spark', 'Microsoft Power BI', 'Navy', 'Medication Administration', 'Vulnerability Assessment', 'Interior Design', 'Floor Plans', 'English', 'CNC Mill', 'GitHub', 'Clinical Monitoring', 'Elder Care', 'Oral Care', 'Network Engineering', 'Machinery', 'Agile Project Management', 'Process Engineering', 'TIG Welding', 'CNC Manufacturing', 'Construction Safety', 'Litigation', 'Command', 'Landscape Architecture', 'Culinary Management', 'Dispatching', 'Picture Archiving and Communication System', 'Territory Management', 'Clinical Laboratory Management', 'Environment', 'Plumbing Fixtures', 'Security Operations', 'Library Research', 'Survey Research', 'Sample Preparation', 'SQL*Net', 'Executive Search', 'Non-disclosure Agreements', 'Technology Evangelism', 'Contracts Administrators', 'Christian Missions', 'Lean Manufacturing', 'Consultative Selling', 'Loan Servicing', 'PySpark', 'Management Consulting', 'Real Estate License', 'Threat Analysis', 'Orthopedic Surgery', 'Group Exercise', 'Client Relations', 'Behavioral Therapy', 'Film Actor', 'Microsoft Outlook', 'Product Marketing', 'Piloting', 'Stroke Rehabilitation', 'Insurance Billing', 'Museum Collections', 'HMI Programming', 'Dental Imaging', 'Preventive Maintenance', 'Integration', 'Holistic Health', 'Specialty Coffee', 'Regulatory Compliance', 'Server Architecture', 'Sourcing', 'Meditation', 'Cascading Style Sheets', 'Point of Sale Systems', 'CDL', 'Community Development', 'Strategy', 'DNA Extraction', 'Clinical Research Associates', 'Sensory Integration', 'Test Cases', 'Internal Controls', 'Medical Terminology', 'Creative Writing', 'Residential Cleaning', 'Mergers & Acquisitions', 'Health', 'Creative Content Creation', 'R', 'Mobile Design', 'Content Management Systems', 'Training', 'Studio Photography', 'Customer Service Management', 'Research', 'Cyber Defense', 'Analog Circuit Design', 'HCPCS', 'Patient Counseling', 'Real Estate Transactions', 'Web Content Writing', 'ABO Certified', 'Laboratory Safety', 'Data Management', 'Real Estate Marketing', 'Consumer Products', 'Design for Manufacturing', 'HVAC', 'SEO Audits', 'Field Installation', 'Corporate Communications', 'Military', 'Animal Handling', 'Application Security', 'Joint Military Operations', 'Mathematics Education', 'Computer Hardware Troubleshooting', 'X-ray', 'College Recruiting', 'Administration', 'Sales Effectiveness', 'Intra-Aortic Balloon Pump', 'Music Composition', 'Acute Rehabilitation', 'Employee Learning & Development', 'EMDR', 'Individual Counselling', 'Fashion Consulting', 'Machine Operation', 'Chrome Developer Tools', 'Planned Preventative Maintenance', 'Interaction Design', 'Demand Planning', 'Electrical Engineering', 'Paint', 'Production Planning', 'Occupational Therapy', 'Customer Retention', 'Marketing Analytics', 'Management', 'Quality Patient Care', 'Tableau', 'Bloomberg Terminal', 'Consultation', 'Data Centers', 'Construction Estimating', 'Rational DOORS', 'Geometric Dimensioning & Tolerancing', 'Hardware Diagnostics', 'Classroom Management', 'Core Java', 'Cognitive Behavioral Therapy', 'Localization', 'Auditing', 'TestNG', 'Market Entry', 'Information Technology', 'Barista Training', 'Freight Transportation', 'Planning', 'Zendesk', 'Military Weapons Handling', 'Sanitation', 'Animal Care', 'DevOps', 'Train the Trainer', 'Contract Writing', 'Business Management', 'Windows 10', 'Structural Firefighting', 'Liquid Chromatography-Mass Spectrometry', 'Translation', 'RAM Structural Systems', '401(k) Retirement Savings Plans', 'Fitness Training', 'Firefighting', 'Animal Welfare', 'Drawing', 'Paralegal Studies', 'Marketing Management', 'Police Administration', 'Transact-SQL', 'Medical Records', 'Florida Notary', 'Technical Recruiting', 'Meeting Scheduling', 'Windows Server', 'Programming', 'Project Engineering', 'Distribution Center Operations', 'Emergency Services', 'Luxury Goods', 'Swimming', 'Food Quality', 'Instagram Marketing', 'Energy Efficiency', 'Automated External Defibrillator', 'Business Transformation', 'Cloud Computing', 'Strategic Human Resource Planning', 'Customer Research', 'Piano', 'Maintenance & Repair', 'Motion Graphics', 'Pet Care', 'Finite Element Analysis', 'Aseptic Technique', 'Test Equipment', 'Medical Research', 'American Registry of Radiologic Technologists', 'Spring Boot', 'Node.js', 'Risk Assessment', 'Strategic Studies', 'Design Failure Mode and Effect Analysis', 'Theatrical Production', 'Sales Management', 'ADP Payroll', 'Campus', 'Electricity', 'Communication Disorders', 'Chicago Manual of Style', 'Preschool', 'LexisNexis', 'Microservices', 'Heavy Lifting', 'FF&E Specifications', 'Legal Contract Review', 'Anti-Money Laundering', 'Audio Visual Support', 'Pregnancy Massage', 'Career Development Coaching', 'Recreation', 'AWS Lambda', 'Compliance Monitoring', 'Guided Tours', 'Optometry', 'Project Coordination', 'Outside Sales', 'Professional Driving', 'Construction Site Management', 'VMware vSphere', 'Full-Stack Development', 'Trigger Point Therapy', 'Patient Education', 'Science Education', 'Sales Presentations', 'Novell', 'Account Coordination', 'Communication', 'Sales', 'CaseWare Software', 'Functional Training', 'Sports Massage', 'Customer Service Representatives', 'Military Training', 'Kubernetes', 'Lead Generation', 'Fine Art', 'Transformational Life Coaching', 'Government Contracting', 'Benefits Administration', 'Sterilization', 'Business Development', 'Health Insurance', 'Tax Preparation', 'Dance Instruction', 'Working with First-Time Home Buyers', 'Laborers', 'Cardiopulmonary Resuscitation', 'Wedding DJ', 'Patient Care', 'Power Systems', 'Regression Testing', 'Electrical Equipment', 'Workforce Planning', 'Veterinary Nursing', 'Care Planning', 'Venture Capital', 'Reporting', 'Blogger', 'Volleyball', 'Risk Analytics', 'Information Security', 'Inventory Planning', 'Print Design', 'Industrial Engineering', 'Cryptocurrency Trading', 'Contact Centers', 'Aircraft Structures', 'JMP', 'Billing Process', 'CIOs', 'HR Policies', 'Packing', 'Hair Care', 'Educational Consulting', 'Information Architecture', 'Golf Courses', 'Rental Real Estate', 'Procurement Contracts', 'Reading Comprehension', 'Policy Analysis', 'Financial Audits', 'Library of Congress Classification', 'Algebra', 'National Association of Realtors', 'Administrative Assistance', 'LAN-WAN', 'Data Engineering', 'Online Data Entry', 'Claims Handling', 'Buyer Representation', 'Woodworking', 'Benefits Management', 'Patient Scheduling', 'Event Videography', 'Federal & State Income Tax Compliance', 'Law Enforcement', 'Art Therapy', 'Plumbing', 'Deep Tissue Massage', 'Rebranding', 'Animal Husbandry', 'Multi-state Payroll Processing', 'Chemistry', 'People Management', 'Cell Biology', 'Audio Mastering', 'Diversity and Inclusion', 'Environmental Awareness', 'Billing Services', 'Purchase Management', 'Operating Room', 'Cabinetry', 'Sales & Marketing', 'Human Resources', 'Personal Care', 'Classroom Instruction', 'Eaglesoft', 'Java', 'Aviation', 'Certified Nursing Assistant', 'Relationship Counseling', 'cGMP manufacturing', 'Electrical', 'Altium Designer', 'News Writing', 'Automotive Aftermarket', 'Sports Injuries', 'Social Emotional Learning', 'Material Requirements Planning', 'Presales Technical Consulting', 'Physical Security', 'Individualized Education Program', 'Photo Shoots', 'Image Editing', 'Fire Prevention', 'ArcGIS Products', 'Deposits', 'Presales', 'Crisis Intervention', 'Epic EHR', 'Photography', 'Personal Styling', 'Yoga', 'Medical Billing', 'Clinical Research', 'Maintenance Management', 'RSLogix', 'Cultural Sensitivity', 'Molecular Cloning', 'Linux', 'Board of Directors', 'Feature Writing', 'Police Officers', 'CFOs', 'Digital Media', 'Kinesiology', 'TNCC', 'IT Consulting', 'Onboarding', 'Customer Service Operations', 'Dynamic Host Configuration Protocol', 'Theatre', 'RF Scanners', 'Compounding', \"Buyer's Agent\", 'Air Charter', 'Respiratory Products', 'Start-ups', 'Income Tax', 'Test Engineering', 'Steel Framing', 'International Relations', 'Trauma Therapy', 'Newsletter Production', 'Instrument Rated Pilot', 'Institutional Review Board', 'Westlaw', 'JavaScript', 'Food Service', 'Bread', 'Alteryx', 'Healthcare Staffing', 'Commercial Lending', 'Family Therapy', 'Visual Design', 'Program Management', 'PLC Allen Bradley', 'Enercalc', 'Social Services', 'Business Development Consultancy', 'Behavior-Driven Development', 'Technical Support', 'Refinancing', 'Energy Audits', 'Event Planning', 'Prehospital Trauma Life Support', 'Group Therapy', 'Flight Planning', 'Cinematography', 'Whole Life Insurance', 'Filing', 'SQL Server Reporting Services', 'Injections', 'Supply Chain Operations', 'Teacher Training', 'High-Performance Liquid Chromatography', 'Voice Acting', 'Medical Office', 'Siemens NX', 'Farms', 'Nutritional Counseling', 'Weapons Handling', 'Product Demonstration', 'Hadoop', 'Virtual Network Computing', 'MATLAB', 'Internet Culture', 'Requirements Gathering', 'Credit Analysis', 'Network Administration', 'Metal Fabrication', 'Social Media Communications', 'Content Design', 'Residential Real Estate', 'Program Development', 'Series 65', 'Babysitting', 'Adobe XD', 'Quality Assurance', 'Yardi', 'Internal Communications', 'Selenium WebDriver', 'Fitness', 'Zenworks', 'Academic Advising', 'Cake Decorating', 'Client Billing', 'Business-to-Business', 'Skilled Multi-tasker', 'Chemical Peels', 'Statistical Process Control', 'Painting', 'Therapeutic Massage', 'Lathes', 'Purchasing', 'Beauty Industry', 'Screenwriting', 'Electro-mechanical Troubleshooting', 'Hair Extensions', 'Discipleship', 'NIST 800-53', 'AutoCAD', 'MadCap Flare', 'Pastoral Care', 'Dental Surgery', 'Pattern Making', 'U.S. VA Loans', 'Privacy Compliance', 'Enterprise Software', 'Search Engine Marketing', 'English as a Second Language', 'Golf Course Management', 'U.S. FHA Financing', 'Executive Support', 'Behavioral Intervention', 'Quality Control', 'Docker Products', 'Corrective and Preventive Action', 'Film Editing', 'Adobe Photoshop', 'Myofascial Release Therapy', 'Managerial Finance', 'Corporate Website Management', 'Welding', 'Payment Card Industry Data Security Standard', 'Social Media Marketing', 'Treasury Management', 'Heavy Equipment Operations', 'Phlebotomy', 'Agriculture', 'Nutrition', 'Pre-production', 'Computed Radiography', 'Library Instruction', 'Polymerase Chain Reaction', 'OSHA', 'Nursing', 'Character Designs', 'Crime Prevention', 'Mentoring', 'Continuous Positive Airway Pressure', 'Licensed Practical Nurse', 'User Interface Prototyping', 'Payroll Taxes', 'Financial Services', 'SharePoint', 'K-12 Education', 'Career Counseling', 'Customer Satisfaction', 'Easily Adaptable', 'Fashion Illustration', 'Residential Mortgages', 'Digital Transformation', 'Commercial Aviation', 'Brand Ambassadorship', 'Design Consulting', 'Food Safety', 'International Logistics', 'Typesetting', 'Army', 'Jenkins', 'Slate', 'Patient Registration', 'Public Safety', 'Intercollegiate Athletics', 'Mechanical', 'Windows', 'Early Childhood Education', 'Small Business', 'Supply Chain Optimization', 'Blood Collection', 'Sunglasses', 'QuickBooks', 'Sales Operations', 'Big Box', 'Serve Safe Certified', 'Root Cause Analysis', 'Demand Generation', 'Skin Care Products', 'VMware', 'Rhino 3D', 'Service Coordination', 'Teamwork', 'PLC Ladder Logic', 'Patrol', 'General Management', 'Athletics', 'Web Pages', 'Facebook', 'Cash Flow Analysis', 'Orthopedic Rehabilitation', 'Psychology', 'Baking', 'Narrator', 'Weight Training', 'Security Training', 'Career Management', 'Sprint Planning', 'Bluebeam', 'Machine Learning', 'All-Source Intelligence', 'Interpreting', 'Western Blotting', 'Marketing Strategy', 'Electronic Medical Records', 'Single Family Homes', 'Fleet Management', 'Real Estate', 'Event Photography', 'Waxing', 'Typing', 'Lumion', 'Vulnerability Management', 'Medical Devices', 'Final Cut Pro', 'Stage Make-up', 'House Cleaning', 'Private Events', 'Retail Banking', 'Federal Procurement', 'Pharmacy Automation', 'Specimen Collection', 'Suspension', 'Calculus', 'Farm Equipment', 'Pre/Post Sales Engineers', 'Legal Compliance', 'DJing', 'New Business Development', 'Service Delivery', 'Fundraising', 'Travel', 'Notary', 'Online Tutoring', 'Confocal Microscopy', '401k Rollovers', 'Office Administration', 'Sensory Processing', 'Home Care', 'Medical Massage', 'Surgical Instruments', 'Analytical Skills', 'Nonprofit Organizations', 'Training Management', 'Affordable Housing', 'Technical Direction', 'Jewelry', 'Property and Casualty Insurance', 'Functional Behavior Assessments', 'Patient Recruitment', 'Urgent Care', 'Hair Straightening', 'Special Education', 'AP Stylebook', 'Healthcare', 'Identity & Access Management', 'Motors', 'Podcasting', 'Medicine', 'Team Building', 'Transportation', 'Quality Management Systems', 'Lawn Care', 'Electrical Work', 'Manufacturing Processes', 'Process Design', 'Child Development', 'Product Knowledge', 'Hostessing', 'Clinical Trial Management System', 'Software Design', 'Surgery', 'Pro Tools', 'MySQL', 'Business Strategy', 'Graphic Design', 'Military Operations', 'Cisco Certified', 'Sketch App', 'C', 'Library Science', 'Hibernate', 'Adobe Premiere Pro', 'Electrical Maintenance', 'Media Planning', 'Portfolio Management', 'Case Management Services', 'Golf Equipment', 'Dental Software', 'Agile Methodologies', 'Market Planning', 'Online Content Creation', 'Strength Training', 'Enterprise Risk Management', 'Cucumber', 'Executive Management', 'Sound', 'Graphic Arts', 'Freight', 'User Experience Design', 'Adobe Creative Suite', 'Accounts Payable and Receivable', 'Interior Architecture', 'Molecular Biology', 'Customer Service', 'Athletic Training', 'American Sign Language', 'Tax Compliance', 'Adobe InDesign', 'Engineering Management', 'Public Policy', 'Data Mining', 'Youth Leadership', 'Acute Care', 'Nitrous Oxide', 'Event Marketing', 'Technical Enablement', 'Clinical Supervision', 'Company Secretarial Work', 'Performance Management', 'Copy Editing', 'Performing Arts', 'Materials Management', 'Creative Strategy', 'Analytics', 'DNS Management', 'SQL Server Integration Services', 'Music', 'Pipe Welding', 'Time Management', 'Government Contract Administration', 'Social Media Outreach', 'Oncology', 'Computer Networking', 'Psychological Testing', 'IT Auditing', 'Purchasing Negotiation', 'Product Launch', 'Investment Strategies', 'Automotive Electronics', 'Master Data Management', 'Financial Statements', 'Consulting', 'CDL Class A', 'Executive Calendar Management', 'Kronos Time and Attendance', 'Mammalian Cell Culture', 'CAMEO', 'Nursing Education', 'Mechanical Engineering', 'Direct Marketing', 'Library Management', 'Heat Pumps', 'Scribe', 'Commissioning', 'Sports Coaching', 'SEMrush', 'Outdoor Recreation', 'Fashion', 'Contemporary Dance', 'Spray Painting', 'Cataloging', 'Internet Recruiting', 'Tortoise SVN', 'ISO 9001', 'Architecture', 'Collection Development', 'Radiology', 'Marine Corps', 'FF&E', 'Hospital Pharmacy', 'Hair Styling', 'Underwriting', 'Hospital Medicine', 'Audio Post Production', 'Care Coordination', 'Pharmacy Practice', 'Positive Behavior Support', 'Product Strategy', 'Tax', 'School Social Work', 'Distribution Logistics', 'Jira', 'Human Nutrition', 'Content Marketing', 'Legal Advice', 'Succession Planning', 'Business Systems Analysis', 'Natural Language Processing', 'Tires', 'Residential Design', 'Spanish', 'Wealth Management Services', 'Diesel Engine', 'Concept Art', 'Commercial Driving', 'Electrical Troubleshooting', 'Event Management', 'Orchestration', 'Athletic Taping', 'Live Events', 'Psychological Assessment', 'Job Planning', 'Pressure Washing', 'Banking Relationships', 'Government Relations', 'Certified Information Privacy Professional', 'TV Production', 'Leadership Development', 'Data Warehousing', 'Firewalls', 'Cisco Routers', 'Creo', 'Material Handling', 'ICD-10', 'Inventory Management', 'Art Direction', 'ISO 27001', 'Fanuc Robots', 'Resident Retention', 'Basketball', 'Strategic Planning', 'Book Writing', 'Patient Advocacy', 'Legal Discovery', 'Styling', 'Xactimate', 'Postman API', 'Partner Relationship Management', 'Digital Copywriting', 'Brand Strategy', 'Financial Reporting', 'Organizational Leadership', 'Salesforce Sales Cloud', 'Computer Maintenance', 'Computer Science', 'Palo Alto Networks', 'Wardrobe', 'Internal Medicine', 'Load', 'Art Education', 'Criminal Justice', 'Dysphagia', 'Dental Care', 'GC-MS', 'Budget Management', 'Clienteling', 'Microsoft Excel', 'Microsoft Project', 'Good Laboratory Practice', 'Open Enrollment', 'Forklift Operation', 'Software Testing', 'Structural Engineering', 'Vehicle Maintenance', 'Home Health Agencies', 'Organization Skills', 'Debt Collection', 'ASE Certified', 'Lifeguarding', 'Dermaplaning', 'Software Quality Assurance', 'Transportation Planning', 'Emergency Nursing', 'Employee Training', 'Video Post-Production', 'Differentiated Instruction', 'Data Analytics', 'Content Management', 'NA', 'Planograms', 'Law', 'Loan Officers', 'Content Strategy', 'Oncology Clinical Research', 'Government Loans', 'Mac', 'Opticians', 'Industrial Maintenance', 'Medidata', 'Reading Intervention', 'Fluoroscopy', 'Strategic Partnerships', 'Venipuncture', 'Recipe Development', 'Studio Art', 'Electrical Design', 'Programmable Logic Controller', 'Briefing', 'Website Building', 'Safety Training', 'Inventory Accuracy', 'U.S. Family and Medical Leave Act', 'Highways', 'Business Relationship Management', 'User Experience', 'Eyewear', 'Safety Culture', 'Online Journalism', 'Musical Theatre', 'Financial Modeling', 'Applicant Tracking Systems', 'Dental Prophylaxis', 'Motivational Interviewing', 'Spanish Teaching', 'Compassion', 'Corporate Finance', 'Space Planning', 'C-arm', 'Bookkeeping', 'ISO 13485', 'Project Implementation', 'Data Science', 'Lighting', 'Cocktails', 'Deep Learning', 'Microsoft Office', 'Spa Treatments', 'Lesson Planning', 'SAS', 'SOLIDWORKS', 'Hazardous Waste Management', 'Type Rating', 'Trauma Nursing', 'Prints', 'Commercial Photography', 'Food Industry', 'Mortgage Underwriting', 'Drywall', 'Rehabilitation', 'Journalism', 'Microsoft Servers', 'Design of Experiments', 'Laboratory Techniques', 'Electrical Controls', 'Litigation Support', 'WordPress', 'Logistics Management', 'Temporary Staffing', 'Software Implementation', 'Glasses', 'Audio Recording', 'Paramedic', 'Audio Editing', 'Manual Testing', 'Community Pharmacy', 'Application Support', 'Swedish Massage', 'Office Cleaning', 'Salesforce.com Implementation', 'Design Leadership', 'CPT Coding', 'Software Architecture', 'Branding', 'Immunization', 'Disability Insurance', 'NIST', 'Foreign Exchange Trading', 'Audio Books', 'General Insurance', 'Oil Painting', 'Event Production', 'Camera Operation', 'Behavior Analysis', 'Brand Management', '.NET Framework', 'Family Law', 'Land Development', 'Staffing Services', 'Student Affairs', 'Workforce Management', 'Pandas', 'IT Hardware Support', 'MIG Welding', 'Truckload Shipping', 'Security Information and Event Management', 'Cross-functional Team Leadership', 'Allen-Bradley', 'Agile Testing', 'Automotive Repair', 'Customer Relationship Management', 'Environmental Permitting', 'Landscape Design', 'Culinary Skills', 'Community Outreach', \"Women's Health\", 'Typography', 'Press Releases', 'Recruiting', 'Language Disorders', 'Improvisation', 'Computer Network Operations', 'Investment Advisory Services', 'Public Libraries', 'Production Lines', 'OneSite', 'Mastercam', 'Job Coaching', 'Store Management', 'Mental Health', 'Invoicing', 'Petrochemical', 'Operations Management', 'Golf Management', 'HR Strategy', 'Religion', 'Skin Care', 'Molecular & Cellular Biology', 'Lawn Mowing', 'Legal Assistants', 'Food Preparation', 'Conventional Financing', 'Firearms Handling', 'Commercial Litigation', 'Corporate Events', 'Lean Six Sigma', 'Program Coordination', 'Project Management Office', 'Tooling Design', 'Sales Processes', 'Big Data Analytics', 'Market Research', 'Criminal Investigations', 'Corporate Governance', 'Merchandise', 'Manufacturing Operations', 'Independent Film', 'CNC Operation', 'Drain Cleaning', 'Youth Mentoring', 'Redux.js', 'Audio Engineering', 'IT Infrastructure Management', 'Sales Enablement', 'Facials', 'Forklift Training', 'Unix', 'Commercial Piloting', 'Snowflake', 'Penetration Testing', 'Research and Development', 'Warehouse Operations', 'Legal Assistance', 'Business Process Improvement', 'Career Development', 'DaVinci Resolve', 'Multi-Channel Marketing', 'Test Planning', 'Economics', 'Acting', 'Dietetics', 'Discharge Planning', '3D Modeling', 'Physical Inventory', 'Web Development', 'Paid Search Strategy', 'Geriatric Rehabilitation', 'Higher Education Administration', 'Special Events', 'Git', 'Microsoft Word', 'Admissions Counseling', 'Order Picking', 'Mortgage Lending', 'Messaging', 'Writing', 'C++', 'Business Planning', 'Youth Programs', 'Swim Instruction', 'E-Learning', 'Financial Accounting', 'Construction', 'Infrastructure', 'Sports Management', 'Barista', 'Industrial Automation', 'Boolean Searching', 'Retirement Benefits', 'Qualitative Research', 'Medical Education', 'Music Industry', 'LinkedIn Recruiter', 'Quality Auditing', 'Personal Banking', 'Community Engagement', 'Product Photography', 'Facilities Operations', 'Server Administration', 'Budgeting', 'Environmental Compliance', 'Pediatric Advanced Life Support', 'Renewable Energy', 'Real Estate Negotiating', 'Teaching English as a Second Language', 'Bitcoin', 'Singing', 'Investments', 'Front Office', 'Student Engagement', 'Healthcare Compliance', 'Software Troubleshooting', 'Manufacturing Engineering', 'Serato', 'Clinical Operations', 'Systems Engineering', 'Patient Safety', 'Psychotherapy', 'Personal Injury Law', 'Lines Of Credit', 'Evangelism', 'Marketing', 'Automation', 'Home Cleaning', 'Insurance Verification', 'Gas Chromatography', 'Proofreading', 'Tailoring', 'Channel Sales', 'Veterinary Medicine', 'Electrical Safety', 'Pastry', 'Geospatial Intelligence', 'Choreography', 'Sports Marketing', 'Robotic Surgery', 'Life Coaching', 'Autism Spectrum Disorders', 'Environmental Science', 'Business Intelligence', 'MicroStation', 'Automotive Technology', 'Camtasia', 'Small Business Development', 'Surveillance', 'Inside Sales', 'Contract Recruitment', 'Dentrix', 'Educational Leadership', 'Appointment Scheduling', 'Stormwater Management', 'Early Childhood Development', 'Computer Hardware', 'Crisis Communications', 'Recreation Planning', 'Public Relations', 'Database Administration', \"Children's Yoga\", 'Medication Adherence', 'Pre-Construction', 'Medical Case Management', 'Songwriting', 'Licensing Agreements', 'Loan Origination', 'Field Service', 'U.S. National Registry of Emergency Medical Technicians', 'Auto Claims', 'Pharmacy', 'Arc Welding', 'Nursing Management', 'Radiography', 'Cold Calling', 'Speech Therapy', 'Electronic Troubleshooting', 'Retirement Planning', 'Ansible', 'New Hire Orientations', 'Pallet Jack', 'Compliance Regulations', 'Predictive Modeling', 'F5 BigIP', 'Workday', 'CEOs', 'Insurance', 'State Tax', 'Closed-Circuit Television', 'Dry Needling', 'Consumer Lending', 'Maven', 'Brand Development', 'Loans', 'Visual Merchandising', 'Lenses', 'Social Work', 'Equipment Operation', 'Mathcad', 'Bank Reconciliation', 'Property Management', 'Prehospital Care', 'Laboratory Technicians', 'Branding & Identity', 'IT Risk Management', 'Spanish Translation', 'Childcare', 'Kanban', 'Customer Quality', 'Storytelling', 'Canva', 'Technical Documentation', 'Automotive Sales', 'Requirements Analysis', 'Sports Writing', 'Troubleshooting', 'Catering', 'Local Anesthesia', 'Tourism', 'Brand Marketing', 'Carpentry', 'Revit', 'Pharmacy Technicians', 'Fire Service', 'Leadership', 'Mechanical Ventilation', 'Behavior Management', 'Plasma Cutting', 'Purchasing Processes', 'Precision Machining', 'Client Education', 'Injury Prevention', 'Laboratory Equipment', 'Health Education', 'Trucking', 'Case Management', 'Problem Solving', 'Testing', 'Coaching', 'Claims Management', 'Online Marketing', 'Retail Buying', 'Microsoft SQL Server', 'Interviewing', 'Technical Editing', 'Product Road Mapping', 'Script Coverage', 'Clean Rooms', 'User Stories', 'Bartending', 'Choral Conducting', 'P&L Management', 'Salesforce.com Administration', 'Quantitative Analytics', 'Cisco Networking', 'Scientific Writing', 'Negotiation', 'Military Logistics', 'Visual Arts', 'Digital Art', 'Product Specialists', 'Software Development', 'Environmental Policy', 'Speech', 'New Home Sales', 'Singer-songwriter', 'Relocation', 'Video Conferencing', 'Radio', 'Collections Management', 'Swim Lessons', 'Dentistry', 'Terraform', 'Subpoenas', 'Elementary Education', 'Current Procedural Terminology', 'Adobe Lightroom', 'Employer Branding', 'Salesforce Lightning', 'Workplace Safety', 'Alternative Investments', 'Business Analytics', 'Theology', 'Fair Housing', 'Quantitative Research', 'Shielded Metal Arc Welding', 'Cloud Security', 'Pump Repair', 'Digital Photography', 'Landscaping', 'Cash Collection', 'Apex Programming', 'Project Planning', 'Schematic', 'Global Talent Acquisition', 'Conference Interpreting', 'Truck Driving', 'Media Production', 'Manufacturing Operations Management', 'Small Group Counseling', 'Petroleum', 'Fitting', 'SOQL', 'Student Counseling', 'B2B Marketing', 'Makeovers', 'Music Performance', 'Technical Translation', 'Print Marketing', 'Standard Operating Procedure', 'Airframe', 'Equipment Installation', 'Animal Behavior', 'Jazz Dance', 'Estate Planning', 'Information Literacy', 'Risk Management', 'Community Policing', 'Production Assistance', 'SalesLoft', 'Portrait Photography', 'ELISA', 'Video Editing', 'Library Reference', 'Invoice Processing', 'Calendaring', 'Software Project Management', 'Student Development', 'Concrete', 'Scaled Agile Framework', 'AS9100', 'Art', 'Portfolio Managers', 'Geriatric Nursing', 'Account Management', 'Project Management', 'Hair Cutting', 'Adult CPR', 'Bar', 'Solution Architecture', 'Product Management', 'Active TS/SCI Clearance', 'Financial Planning', 'Health & Wellness', 'Cost Accounting', 'Pharmaceutical Care', 'Aircraft Maintenance', 'Training Coordination', 'SASS', 'Insurance Claims', 'Visual Basic .NET', 'Operational Planning', 'Interventions', 'Creative Agency', 'Construction Management', 'Working With Children', 'Housekeeping', 'Community Organizing', 'Corporate Research', 'Wireshark', 'Laboratory Information Management System', 'Mental Health Counseling', 'Digital Marketing', 'Capital Equipment', 'Cosmetics', 'Mechanics', 'Corporate Security', 'Environmental Monitoring', 'Audio Visual Systems', 'Life Insurance', 'Encompass', 'Tanker', 'Contract Management', 'Animal Restraint', 'Engineering Support', 'Import Export', 'Cisco Systems Products', 'IV Therapy', 'AngularJS', 'Investment Banking', 'Field Service Engineering', 'Flight Attendant', 'Cosmetology', 'IT Strategy', 'Unloading', 'Payroll Services', 'Facility Management', 'Spring Framework', 'Investment Properties', 'Merchandise Planning', 'Cooking', 'General Surgery', 'U.S. Federal Housing Authority', 'Term Life Insurance', 'Industrial Painting', 'Fire Protection', 'Sales Coordination', 'Truck', 'Good Clinical Practice', 'Accounts Payable', 'Editing', 'Fact-checking', 'Language Services', 'QA Engineering', 'Series 6', 'User-centered Design', 'Manufacturing', 'Government Procurement', 'Radiologic Technology', 'Multilingual', 'IT Service Management', 'Hair Coloring', 'Scheduling', 'Voiceovers', 'UV/Vis Spectroscopy', 'Landscape Management', 'Wellness', 'Privacy Law', 'Maintenance Planning', 'Off-Page SEO', 'Front-End Development', 'Contractual Agreements', 'Mechanical Troubleshooting', 'Library Services', 'Physical Therapy', 'Engineering', 'IT Management', 'Short Films', 'Production Operations', 'Technology Solutions', 'Publishing', 'Flight Safety', 'Product Engineering', 'Growth Strategies', 'Vital Signs', 'Business Analysis', 'Long Term Care Insurance', 'Marketing Copy', 'Logic Pro', 'Intelligence', 'Welding Inspection', 'Web Design', 'Microsoft Azure', 'Mouse Handling', 'Quality Management', 'Corrective Maintenance', 'Search Engine Optimization', 'Rapid Prototyping', 'Hospitality', 'Admissions', 'Clip Studio Paint', 'Grassroots Organizing', 'Communications Planning', 'Learning Management Systems', 'Employee Relations', 'Medical Directors', 'MongoDB', 'SQL Server Analysis Services', 'Government', 'Respiratory Therapy', 'Spring MVC', 'Payroll Administration', 'Pastoral Counseling', 'Commercial Real Estate', 'Technical Leadership', 'Chronic Illness', 'Gynecologic Surgery', 'Applied Behavior Analysis', 'Assistant Teaching', 'Child Mental Health', 'SAP ERP', 'Emergency Medicine', 'Entertainment', 'Computer-Aided Design', 'Assembly Lines', 'Software Development Life Cycle', 'Cash Flow Management', 'REDCap', 'Soccer', 'SketchUp', 'Aphasia', 'Relationship Building', 'Investment Management', 'Warehouse Management Systems', 'Software as a Service', 'Salesforce Training', 'Personal Coaching', 'Project Estimation', 'Governmental Affairs', 'HTML', 'Human Resource Development', 'Operations Coordination', 'Construction Drawings', 'Community Management', 'Loan Documents', 'Field Operations', 'Strategic Human Resources Leadership', 'Investigation', 'and Safety', 'Pastoral', 'Billing Systems', 'Legal Writing', 'Skin', 'Volunteer Management', 'Retail Sales', 'Sales Engineering', 'Biology', 'Executive Coaching', 'Access Control', 'Excavation', 'Commercial Insurance', 'Production Coordination', 'Critical Thinking', 'Special Events Coordination', 'Addiction Recovery', 'Music Theory', 'Sports Medicine', 'Veterinary Surgery', 'Credit Risk Management', 'Advertising', 'Product Innovation', 'Business Intelligence Tools', 'Multitasking', 'Direct Patient Care', 'Project Delivery', 'Legal Research', 'Acrylic Painting', 'ICD-10-CM', 'Public Outreach', 'Clerical Skills', 'Civil Litigation', 'TypeScript', 'Threat & Vulnerability Management', 'Predictive Maintenance', 'Soccer Coaching', 'Food & Beverage', 'Prescription', 'Corporate Development', 'Language Teaching', 'International Management', 'Clinical Pharmacology', 'Instagram', 'ZoomInfo', 'Quality Engineering', 'Respiratory Disease', 'Texas Notary', 'Digital Illustration', 'Pipefitting', 'System Administration', 'Teller Operations', 'OS X', 'Legal Translation', 'Data Governance', 'Landscape Construction', 'Business Consulting', 'Expense Reports', 'Compensation and Benefits', 'Quality Improvement', 'Architectural Drawings', 'Transportation Operations', 'Language Development', 'Flight Training', 'Therapeutic Modalities', 'Medical-Surgical', 'Instructional Design', 'Media Events', 'Hatha Yoga', 'Civil Engineering', 'Continuous Improvement', 'A/R Collections', 'Asset Management', 'Energy Management', 'English to Spanish', 'Splunk', 'Sales Prospecting', 'Ballet', 'Python', 'Logo Design', 'Military Aviation', 'Yin Yoga', 'Ultipro', 'Sports', 'Data Entry', 'Retail Design', 'Failure Mode and Effects Analysis', 'Real Estate Development', 'Player Development', 'Brand Awareness', 'Advanced Cardiac Life Support', 'Continuous Integration and Continuous Delivery', 'Multi-line Phone', 'Corporate Law', 'Food Service Operations', 'Intelligence Analysis', 'Dance Education', 'Commercials', 'Creative Merchandising', 'and Plumbing', 'HL7 Standards', 'Youth Development', 'Restorative Dentistry', 'ASP.NET', 'Technology Management', 'Mental Health Care', 'Corrections', 'Interview Preparation', 'SMB', 'Merchandising Strategies', 'Captivate', 'Go-to-Market Strategy', 'Data Visualization', 'Project Portfolio Management', 'Tax Planning', 'Design Direction', 'Submittals', 'Military Leadership', 'Personal Income Tax Returns', 'Fashion Design', 'Incident Investigation', 'Nursing Documentation', 'Entrepreneurship', 'Professional Cleaning', 'Developmental Disabilities', 'Confluence', 'Finance', 'Graphics', 'Bakery', 'Illustration', 'Cash Management', 'Visual Basic for Applications', 'Printed Circuit Board Design', 'Extract', 'Active Directory', 'Security', 'FAR', 'Ventilators', 'Milling', 'Inbound Marketing', 'Direct Sales', 'Homeowners Insurance', 'Account Reconciliation', 'Financial Advisory', 'Property Claims', 'Simultaneous Interpretation', 'Phone Etiquette', 'Legal Document Preparation', 'Cybersecurity', 'Teaching English as a Foreign Language', 'Sales Planning', 'Social Media', 'Vestibular Rehabilitation', 'Equipment Maintenance', 'Lease Administration', 'Wet Chemistry', 'Accounts Receivable', 'Waiting Tables', 'Student Recruiting', 'Strength & Conditioning', 'Couriers', 'Networking', 'Clinical Nutrition', 'Medical Device R&D', 'Trial Practice', 'Interpersonal Skills', 'Hardware Installation', 'Sarbanes-Oxley Act', 'Nutritional Analysis', 'Sales Consulting', 'Servant Leadership', 'Warehouse Control', 'Digital Strategy', 'Chair Massage', 'Breaking News', 'Shipping', 'Product Development', 'React.js', 'Copywriting', 'Tax Accounting', 'Inventory Analysis', 'Fire Safety', 'Modern Dance', 'Audio Mixing', 'Virtual Private Network', 'Payroll Processing', 'Hospitality Management', 'Design Engineering', 'Shipping & Receiving', 'Preaching', 'User Interface Design', 'Credit', 'Educational Outreach', 'Adobe Illustrator', 'HTML5', 'Articulation', 'Maintenance', 'EMT', 'School Psychology', 'Mathematics', 'Instructor-Led Training', 'Cash', 'Criminal Law', 'Corporate Tax', 'Fashion Styling', 'Prototyping', 'Team Management', 'ECF', 'Human Resources Information Systems', 'Border Gateway Protocol', 'Media Relations', 'Bitcoin Mining', 'Remote Troubleshooting', 'Change Management', 'Transportation Management', 'Personal Assistance', 'Critical Care Nursing', 'Articulate Storyline', 'Scrum', 'Usability Testing', \"Workers' Compensation Claims\", 'Equity Research', 'Golf', 'Educational Technology', 'Electrical Wiring', 'Musical Direction', 'Statistical Data Analysis', 'Video Production', 'Technical Writing', 'Credit Unions', 'Industrial Safety', 'Defensive Driving', 'Full-life Cycle Recruiting', 'Jewelry Design', 'Public Speaking', 'Augmentative and Alternative Communication', 'Mobile Testing', 'Accounting', 'Nurse Practitioners', 'Computer Repair', 'Autodesk Inventor', 'Intellectual Disabilities', 'PFD', 'HR Management', 'Videography', 'Email Marketing', 'Customer Engagement', 'Education', 'Oracle Database', 'Spreadsheets', 'Golf Instruction', 'Pediatrics', 'Inventory Control', 'Tax Research', 'ADDIE', 'Compliance Management', 'Utilization Management', 'Injury Rehabilitation', 'Content Development', 'Wound Care', 'Legal Operations', 'Claim Investigation', 'Steel Design', 'Materials', 'SAP Concur', 'Laparoscopic Surgery', 'Data Analysis', 'Critical Care Medicine', 'Opera', 'Design', 'Visual Basic', 'Suturing', 'Retail', 'U.S. Department of Defense', 'Laundry', 'Higher Education', 'Plumbing Design', 'English Literature', 'Telemetry', 'Exercise Prescription', 'Brake', 'Design Management', 'Outpatient Orthopedics', 'Generally Accepted Accounting Principles', 'Electrical Repairs', 'Labor and Employment Law', 'Special Effects Makeup', 'Security Management', 'Certified Payroll Reports', 'Power Distribution', 'Framing', 'Ambulance', 'Film Direction', 'Higher Education Recruitment', 'Grills', 'Yardi Property Management', 'Corporate Recruiting', 'Fiction Writing', 'Production Schedules', 'On-Page Optimization', 'Nursing Process', 'Basic Life Support', 'Primary Care', 'Solution Selling', 'Craftsmanship', 'Circulation', 'Hiring', 'Vinyasa', 'Cashiering', 'Real Estate Financing', 'A&P', 'Source Intelligence', 'Yardi Voyager', 'Landscape Maintenance', 'Restaurant Management', 'Test Automation', 'IT Operations', 'After Effects', 'Tutoring', 'Project Analysis', 'Power Tools', 'Safety Auditing', 'Procurement', 'Personnel Security', 'Flow Cytometry']\n",
      "2000\n"
     ]
    }
   ],
   "source": [
    "# get list of job titles and skills \n",
    "skills = jobs_and_skills_df[\"Skills\"].unique().tolist()\n",
    "\n",
    "for i in range(len(skills)):\n",
    "    skills[i] = ast.literal_eval(skills[i])\n",
    "\n",
    "# Create a list of unique skills\n",
    "unique_skills = list(set([skill for sublist in skills for skill in sublist]))\n",
    "\n",
    "# remove \"(programming language)\" from  skills and the space before it\n",
    "unique_skills = [re.sub(r'\\s\\(.*\\)', '', skill) for skill in unique_skills]\n",
    "print(unique_skills)\n",
    "print(len(unique_skills))"
   ]
  },
  {
   "cell_type": "markdown",
   "metadata": {},
   "source": [
    "Add to Spacy Matchmaker\n"
   ]
  },
  {
   "cell_type": "code",
   "execution_count": 7,
   "metadata": {},
   "outputs": [],
   "source": [
    "# Create a spaCy PhraseMatcher\n",
    "matcher = PhraseMatcher(nlp.vocab)\n",
    "\n",
    "# Convert each skill to a spaCy Doc object and add them to the matcher\n",
    "patterns = [nlp(skill) for skill in unique_skills]\n",
    "matcher.add(\"SKILLS\", patterns)"
   ]
  },
  {
   "cell_type": "markdown",
   "metadata": {},
   "source": [
    "Drop rows with links in \"message\" column\n"
   ]
  },
  {
   "cell_type": "code",
   "execution_count": 8,
   "metadata": {},
   "outputs": [],
   "source": [
    "# Drop rows where 'message' contains 'href' (indicating links)\n",
    "module_review = module_review[~module_review['message'].str.contains('href', na=False, case=False)]"
   ]
  },
  {
   "cell_type": "markdown",
   "metadata": {},
   "source": [
    "Extracrt skills entities from the \"message\" column\n"
   ]
  },
  {
   "cell_type": "code",
   "execution_count": 9,
   "metadata": {},
   "outputs": [
    {
     "name": "stdout",
     "output_type": "stream",
     "text": [
      "                                             message  \\\n",
      "0   Taken in AY23/24 Semester 2. Lecturer: Prof D...   \n",
      "1   Taken in AY23/24 Semester 2. Lecturer: Prof D...   \n",
      "2   ACC1701X Lecturer: Adjunct Assoc. Prof. Deon ...   \n",
      "4   Taken in AY19/20 Sem 2 Lecturer: Prof Winston...   \n",
      "5   Lecturer: Prof Charles Shi Tutor: Mr Philip T...   \n",
      "\n",
      "                                      skill_entities  \n",
      "0                                                 []  \n",
      "1  [Sales, Internal Controls, Accounts Receivable...  \n",
      "2  [Internal Controls, Sales, Accounting, Cash, F...  \n",
      "4                                                 []  \n",
      "5                                                [C]  \n"
     ]
    }
   ],
   "source": [
    "def extract_skills_using_phrasematcher(text):\n",
    "    # Ensure the input is a string\n",
    "    if not isinstance(text, str):\n",
    "        return [], []  # Return empty lists if the text is not a valid string\n",
    "\n",
    "    doc = nlp(text)\n",
    "\n",
    "    # Use matcher to find skills in text\n",
    "    matches = matcher(doc)\n",
    "    skills = [doc[start:end].text for match_id, start, end in matches]\n",
    "\n",
    "    # Remove duplicates\n",
    "    skills = list(set(skills))\n",
    "\n",
    "    return skills\n",
    "\n",
    "module_review['skill_entities'] = module_review['message'].apply(lambda x: extract_skills_using_phrasematcher(x))\n",
    "\n",
    "# Display the DataFrame with the extracted skills\n",
    "print(module_review[['message', 'skill_entities']].head())"
   ]
  },
  {
   "cell_type": "markdown",
   "metadata": {},
   "source": [
    "Extract staff entities from message column\n"
   ]
  },
  {
   "cell_type": "code",
   "execution_count": 10,
   "metadata": {},
   "outputs": [
    {
     "name": "stdout",
     "output_type": "stream",
     "text": [
      "                                             message  \\\n",
      "0   Taken in AY23/24 Semester 2. Lecturer: Prof D...   \n",
      "1   Taken in AY23/24 Semester 2. Lecturer: Prof D...   \n",
      "2   ACC1701X Lecturer: Adjunct Assoc. Prof. Deon ...   \n",
      "4   Taken in AY19/20 Sem 2 Lecturer: Prof Winston...   \n",
      "5   Lecturer: Prof Charles Shi Tutor: Mr Philip T...   \n",
      "\n",
      "              staff_entities  \n",
      "0                         []  \n",
      "1                [Prof Chan]  \n",
      "2  [Prof Deon, Prof Winston]  \n",
      "4                         []  \n",
      "5                         []  \n"
     ]
    }
   ],
   "source": [
    "def extract_staff_names(text):\n",
    "    if isinstance(text, str):\n",
    "        doc = nlp(text)\n",
    "        staff = []\n",
    "\n",
    "        # Regex pattern to capture staff names with titles like 'Prof', 'Dr', 'Lecturer', 'Tutor'\n",
    "        staff_pattern = re.compile(r'\\b(Prof|Professor|Dr|Lecturer|Tutor|Instructor)\\s*[A-Z][a-z]+(?:\\s+[A-Z][a-z]+)?', re.IGNORECASE)\n",
    "        \n",
    "        for ent in doc.ents:\n",
    "            match = staff_pattern.search(ent.text)\n",
    "            if match:\n",
    "                staff_name = match.group(0)\n",
    "                \n",
    "                # Exclude unwanted phrases that are falsely detected as staff names\n",
    "                if not any(word in staff_name.lower() for word in ['tutorial', 'attendance', 'assignment', 'participation', 'ratios', 'draft', 'profile']):\n",
    "                    staff.append(staff_name.strip())\n",
    "\n",
    "        # Remove duplicates in staff\n",
    "        staff = list(set(staff))\n",
    "        return staff\n",
    "    \n",
    "    return [] \n",
    "\n",
    "# Apply modified staff extraction\n",
    "module_review['staff_entities'] = module_review['message'].apply(lambda text: extract_staff_names(text))\n",
    "\n",
    "# Display the DataFrame with the extracted skills and staff\n",
    "print(module_review[['message', 'staff_entities']].head())"
   ]
  },
  {
   "cell_type": "markdown",
   "metadata": {},
   "source": [
    "## Relationship Extraction\n"
   ]
  },
  {
   "cell_type": "code",
   "execution_count": 22,
   "metadata": {},
   "outputs": [
    {
     "name": "stdout",
     "output_type": "stream",
     "text": [
      "  module_entities                                     skill_entities  \\\n",
      "0      [ACC1701X]                                                 []   \n",
      "1      [ACC1701X]  [Sales, Internal Controls, Accounts Receivable...   \n",
      "2      [ACC1701X]  [Internal Controls, Sales, Accounting, Cash, F...   \n",
      "4      [ACC1701X]                                                 []   \n",
      "5      [ACC1701X]                                                [C]   \n",
      "\n",
      "              staff_entities  \\\n",
      "0                         []   \n",
      "1                [Prof Chan]   \n",
      "2  [Prof Deon, Prof Winston]   \n",
      "4                         []   \n",
      "5                         []   \n",
      "\n",
      "                                       relationship1  \\\n",
      "0                                                 []   \n",
      "1  [{'from_type': 'Module', 'from_id': 'ACC1701X'...   \n",
      "2  [{'from_type': 'Module', 'from_id': 'ACC1701X'...   \n",
      "4                                                 []   \n",
      "5  [{'from_type': 'Module', 'from_id': 'ACC1701X'...   \n",
      "\n",
      "                                       relationship2  \n",
      "0                                                 []  \n",
      "1  [{'from_type': 'Staff', 'from_id': 'Prof Chan'...  \n",
      "2  [{'from_type': 'Staff', 'from_id': 'Prof Deon'...  \n",
      "4                                                 []  \n",
      "5                                                 []  \n"
     ]
    }
   ],
   "source": [
    "def create_dynamic_relationship(df, from_type, from_id_col, to_type, to_id_col, relationship_type, output_col):\n",
    "    # List to store formatted relationship dictionaries for each row\n",
    "    relationship_column = []\n",
    "\n",
    "    # Iterate through each row of the DataFrame\n",
    "    for _, row in df.iterrows():\n",
    "        # Extract the `from_id` and `to_id` values from the specified columns\n",
    "        from_ids = row[from_id_col] if isinstance(row[from_id_col], list) else [row[from_id_col]]\n",
    "        to_ids = row[to_id_col] if isinstance(row[to_id_col], list) else [row[to_id_col]]\n",
    "\n",
    "        # Create a list of dictionaries for each `to_id`\n",
    "        relationship_dict = [\n",
    "            {\n",
    "                \"from_type\": from_type,\n",
    "                \"from_id\": from_id,\n",
    "                \"to_type\": to_type,\n",
    "                \"to_id\": to_id,\n",
    "                \"type\": relationship_type\n",
    "            }\n",
    "            for from_id in from_ids if pd.notna(from_id)\n",
    "            for to_id in to_ids if pd.notna(to_id)  # Only include non-NaN `to_id` values\n",
    "        ]\n",
    "\n",
    "        # Append the relationship dictionary or an empty list if no valid `to_id` found\n",
    "        relationship_column.append(relationship_dict if relationship_dict else [])\n",
    "\n",
    "    # Add the relationships as a new column to the DataFrame\n",
    "    df[output_col] = relationship_column\n",
    "    \n",
    "    # Return the updated DataFrame with the new relationships column\n",
    "    return df\n",
    "\n",
    "# Example usage for Module --> teaches_skill --> Skill relationship \n",
    "from_type = \"Module\"\n",
    "from_id_col = \"module_entities\"  \n",
    "to_type = \"Skill\"\n",
    "to_id_col = \"skill_entities\"   \n",
    "relationship_type = \"teaches_skill\"\n",
    "output_col = \"relationship1\"\n",
    "\n",
    "# Create relationships for each row and add them to the DataFrame\n",
    "module_review_rs = create_dynamic_relationship(module_review, from_type, from_id_col, to_type, to_id_col, relationship_type, output_col)\n",
    "\n",
    "# Example usage for Staff --> teaches_module --> Module relationship \n",
    "from_type = \"Staff\"\n",
    "from_id_col = \"staff_entities\"  \n",
    "to_type = \"Module\"\n",
    "to_id_col = \"module_entities\"   \n",
    "relationship_type = \"teaches_module\"\n",
    "output_col = \"relationship2\"\n",
    "\n",
    "# Create relationships for each row and add them to the DataFrame\n",
    "module_review_rs = create_dynamic_relationship(module_review_rs, from_type, from_id_col, to_type, to_id_col, relationship_type, output_col)\n",
    "\n",
    "# Display the DataFrame with relationships\n",
    "print(module_review_rs[['module_entities', 'skill_entities', 'staff_entities', 'relationship1', 'relationship2']].head())"
   ]
  },
  {
   "cell_type": "markdown",
   "metadata": {},
   "source": [
    "Save updated DF to a new CSV File\n"
   ]
  },
  {
   "cell_type": "code",
   "execution_count": 23,
   "metadata": {},
   "outputs": [],
   "source": [
    "module_review_rs.to_csv('mock_module_reviews_final.csv', index=False)"
   ]
  }
 ],
 "metadata": {
  "kernelspec": {
   "display_name": "Python 3",
   "language": "python",
   "name": "python3"
  },
  "language_info": {
   "codemirror_mode": {
    "name": "ipython",
    "version": 3
   },
   "file_extension": ".py",
   "mimetype": "text/x-python",
   "name": "python",
   "nbconvert_exporter": "python",
   "pygments_lexer": "ipython3",
   "version": "3.10.12"
  }
 },
 "nbformat": 4,
 "nbformat_minor": 2
}
