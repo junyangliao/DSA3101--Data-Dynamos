{
 "cells": [
  {
   "cell_type": "code",
   "execution_count": 1,
   "metadata": {},
   "outputs": [],
   "source": [
    "import pandas as pd\n",
    "import numpy as np"
   ]
  },
  {
   "cell_type": "code",
   "execution_count": 2,
   "metadata": {},
   "outputs": [],
   "source": [
    "occupations = pd.read_excel(\"Occupation Data.xlsx\")\n",
    "abilities = pd.read_excel(\"Abilities.xlsx\")\n",
    "knowledge = pd.read_excel(\"Knowledge.xlsx\")\n",
    "skills = pd.read_excel(\"Skills.xlsx\")\n",
    "hardware = pd.read_excel(\"Tools Used.xlsx\")\n",
    "software = pd.read_excel(\"Technology Skills.xlsx\")\n",
    "\n",
    "scale_ref = pd.read_excel(\"Scales Reference.xlsx\")\n"
   ]
  },
  {
   "cell_type": "markdown",
   "metadata": {},
   "source": [
    "abilities = soft skills\n",
    "knowledge = hard skills/domain knowledge\n",
    "skills = mix of both"
   ]
  },
  {
   "cell_type": "code",
   "execution_count": 13,
   "metadata": {},
   "outputs": [
    {
     "data": {
      "text/plain": [
       "0       Oral Comprehension\n",
       "2    Written Comprehension\n",
       "4          Oral Expression\n",
       "6       Written Expression\n",
       "8         Fluency of Ideas\n",
       "Name: Element Name, dtype: object"
      ]
     },
     "execution_count": 13,
     "metadata": {},
     "output_type": "execute_result"
    }
   ],
   "source": [
    "abilities['Element Name'].drop_duplicates().head()"
   ]
  },
  {
   "cell_type": "code",
   "execution_count": 14,
   "metadata": {},
   "outputs": [
    {
     "data": {
      "text/plain": [
       "0    Administration and Management\n",
       "2                   Administrative\n",
       "4         Economics and Accounting\n",
       "6              Sales and Marketing\n",
       "8    Customer and Personal Service\n",
       "Name: Element Name, dtype: object"
      ]
     },
     "execution_count": 14,
     "metadata": {},
     "output_type": "execute_result"
    }
   ],
   "source": [
    "knowledge['Element Name'].drop_duplicates().head()"
   ]
  },
  {
   "cell_type": "code",
   "execution_count": 15,
   "metadata": {},
   "outputs": [
    {
     "data": {
      "text/plain": [
       "0    Reading Comprehension\n",
       "2         Active Listening\n",
       "4                  Writing\n",
       "6                 Speaking\n",
       "8              Mathematics\n",
       "Name: Element Name, dtype: object"
      ]
     },
     "execution_count": 15,
     "metadata": {},
     "output_type": "execute_result"
    }
   ],
   "source": [
    "skills['Element Name'].drop_duplicates().head()"
   ]
  },
  {
   "cell_type": "code",
   "execution_count": 3,
   "metadata": {},
   "outputs": [],
   "source": [
    "all = pd.concat([knowledge, skills, abilities])\n",
    "all_skills = all[all['Recommend Suppress']==\"N\"].iloc[:, :4].drop_duplicates().reset_index(drop=True)"
   ]
  },
  {
   "cell_type": "code",
   "execution_count": 20,
   "metadata": {},
   "outputs": [
    {
     "data": {
      "text/html": [
       "<div>\n",
       "<style scoped>\n",
       "    .dataframe tbody tr th:only-of-type {\n",
       "        vertical-align: middle;\n",
       "    }\n",
       "\n",
       "    .dataframe tbody tr th {\n",
       "        vertical-align: top;\n",
       "    }\n",
       "\n",
       "    .dataframe thead th {\n",
       "        text-align: right;\n",
       "    }\n",
       "</style>\n",
       "<table border=\"1\" class=\"dataframe\">\n",
       "  <thead>\n",
       "    <tr style=\"text-align: right;\">\n",
       "      <th></th>\n",
       "      <th>O*NET-SOC Code</th>\n",
       "      <th>Title</th>\n",
       "      <th>Skills</th>\n",
       "    </tr>\n",
       "  </thead>\n",
       "  <tbody>\n",
       "    <tr>\n",
       "      <th>0</th>\n",
       "      <td>11-1011.00</td>\n",
       "      <td>Chief Executives</td>\n",
       "      <td>Administration and Management</td>\n",
       "    </tr>\n",
       "    <tr>\n",
       "      <th>1</th>\n",
       "      <td>11-1011.00</td>\n",
       "      <td>Chief Executives</td>\n",
       "      <td>Administrative</td>\n",
       "    </tr>\n",
       "    <tr>\n",
       "      <th>2</th>\n",
       "      <td>11-1011.00</td>\n",
       "      <td>Chief Executives</td>\n",
       "      <td>Economics and Accounting</td>\n",
       "    </tr>\n",
       "    <tr>\n",
       "      <th>3</th>\n",
       "      <td>11-1011.00</td>\n",
       "      <td>Chief Executives</td>\n",
       "      <td>Sales and Marketing</td>\n",
       "    </tr>\n",
       "    <tr>\n",
       "      <th>4</th>\n",
       "      <td>11-1011.00</td>\n",
       "      <td>Chief Executives</td>\n",
       "      <td>Customer and Personal Service</td>\n",
       "    </tr>\n",
       "    <tr>\n",
       "      <th>...</th>\n",
       "      <td>...</td>\n",
       "      <td>...</td>\n",
       "      <td>...</td>\n",
       "    </tr>\n",
       "    <tr>\n",
       "      <th>99093</th>\n",
       "      <td>55-3014.00</td>\n",
       "      <td>Artillery and Missile Crew Members</td>\n",
       "      <td>NaN</td>\n",
       "    </tr>\n",
       "    <tr>\n",
       "      <th>99094</th>\n",
       "      <td>55-3015.00</td>\n",
       "      <td>Command and Control Center Specialists</td>\n",
       "      <td>NaN</td>\n",
       "    </tr>\n",
       "    <tr>\n",
       "      <th>99095</th>\n",
       "      <td>55-3016.00</td>\n",
       "      <td>Infantry</td>\n",
       "      <td>NaN</td>\n",
       "    </tr>\n",
       "    <tr>\n",
       "      <th>99096</th>\n",
       "      <td>55-3018.00</td>\n",
       "      <td>Special Forces</td>\n",
       "      <td>NaN</td>\n",
       "    </tr>\n",
       "    <tr>\n",
       "      <th>99097</th>\n",
       "      <td>55-3019.00</td>\n",
       "      <td>Military Enlisted Tactical Operations and Air/...</td>\n",
       "      <td>NaN</td>\n",
       "    </tr>\n",
       "  </tbody>\n",
       "</table>\n",
       "<p>99098 rows × 3 columns</p>\n",
       "</div>"
      ],
      "text/plain": [
       "      O*NET-SOC Code                                              Title  \\\n",
       "0         11-1011.00                                   Chief Executives   \n",
       "1         11-1011.00                                   Chief Executives   \n",
       "2         11-1011.00                                   Chief Executives   \n",
       "3         11-1011.00                                   Chief Executives   \n",
       "4         11-1011.00                                   Chief Executives   \n",
       "...              ...                                                ...   \n",
       "99093     55-3014.00                 Artillery and Missile Crew Members   \n",
       "99094     55-3015.00             Command and Control Center Specialists   \n",
       "99095     55-3016.00                                           Infantry   \n",
       "99096     55-3018.00                                     Special Forces   \n",
       "99097     55-3019.00  Military Enlisted Tactical Operations and Air/...   \n",
       "\n",
       "                              Skills  \n",
       "0      Administration and Management  \n",
       "1                     Administrative  \n",
       "2           Economics and Accounting  \n",
       "3                Sales and Marketing  \n",
       "4      Customer and Personal Service  \n",
       "...                              ...  \n",
       "99093                            NaN  \n",
       "99094                            NaN  \n",
       "99095                            NaN  \n",
       "99096                            NaN  \n",
       "99097                            NaN  \n",
       "\n",
       "[99098 rows x 3 columns]"
      ]
     },
     "execution_count": 20,
     "metadata": {},
     "output_type": "execute_result"
    }
   ],
   "source": [
    "jobs_and_skills = pd.merge(occupations,all_skills,on='O*NET-SOC Code',how = 'left').drop(columns=[\"Title_y\",\"Element ID\",\"Description\"]).rename(columns={\"Element Name\":\"Skills\",\"Title_x\":\"Title\"})\n",
    "jobs_and_skills"
   ]
  },
  {
   "cell_type": "code",
   "execution_count": 22,
   "metadata": {},
   "outputs": [],
   "source": [
    "tech = pd.concat([hardware, software]).drop(columns= [\"Example\", \"Commodity Code\", \"Hot Technology\", \"In Demand\"]).drop_duplicates()"
   ]
  },
  {
   "cell_type": "code",
   "execution_count": 21,
   "metadata": {},
   "outputs": [
    {
     "data": {
      "text/html": [
       "<div>\n",
       "<style scoped>\n",
       "    .dataframe tbody tr th:only-of-type {\n",
       "        vertical-align: middle;\n",
       "    }\n",
       "\n",
       "    .dataframe tbody tr th {\n",
       "        vertical-align: top;\n",
       "    }\n",
       "\n",
       "    .dataframe thead th {\n",
       "        text-align: right;\n",
       "    }\n",
       "</style>\n",
       "<table border=\"1\" class=\"dataframe\">\n",
       "  <thead>\n",
       "    <tr style=\"text-align: right;\">\n",
       "      <th></th>\n",
       "      <th>O*NET-SOC Code</th>\n",
       "      <th>Title</th>\n",
       "      <th>Tech Skill</th>\n",
       "    </tr>\n",
       "  </thead>\n",
       "  <tbody>\n",
       "    <tr>\n",
       "      <th>0</th>\n",
       "      <td>11-1011.00</td>\n",
       "      <td>Chief Executives</td>\n",
       "      <td>Desktop calculator</td>\n",
       "    </tr>\n",
       "    <tr>\n",
       "      <th>1</th>\n",
       "      <td>11-1011.00</td>\n",
       "      <td>Chief Executives</td>\n",
       "      <td>Desktop computers</td>\n",
       "    </tr>\n",
       "    <tr>\n",
       "      <th>2</th>\n",
       "      <td>11-1011.00</td>\n",
       "      <td>Chief Executives</td>\n",
       "      <td>Notebook computers</td>\n",
       "    </tr>\n",
       "    <tr>\n",
       "      <th>3</th>\n",
       "      <td>11-1011.00</td>\n",
       "      <td>Chief Executives</td>\n",
       "      <td>Personal computers</td>\n",
       "    </tr>\n",
       "    <tr>\n",
       "      <th>4</th>\n",
       "      <td>11-1011.00</td>\n",
       "      <td>Chief Executives</td>\n",
       "      <td>Personal digital assistant PDAs or organizers</td>\n",
       "    </tr>\n",
       "    <tr>\n",
       "      <th>...</th>\n",
       "      <td>...</td>\n",
       "      <td>...</td>\n",
       "      <td>...</td>\n",
       "    </tr>\n",
       "    <tr>\n",
       "      <th>44848</th>\n",
       "      <td>55-3014.00</td>\n",
       "      <td>Artillery and Missile Crew Members</td>\n",
       "      <td>NaN</td>\n",
       "    </tr>\n",
       "    <tr>\n",
       "      <th>44849</th>\n",
       "      <td>55-3015.00</td>\n",
       "      <td>Command and Control Center Specialists</td>\n",
       "      <td>NaN</td>\n",
       "    </tr>\n",
       "    <tr>\n",
       "      <th>44850</th>\n",
       "      <td>55-3016.00</td>\n",
       "      <td>Infantry</td>\n",
       "      <td>NaN</td>\n",
       "    </tr>\n",
       "    <tr>\n",
       "      <th>44851</th>\n",
       "      <td>55-3018.00</td>\n",
       "      <td>Special Forces</td>\n",
       "      <td>NaN</td>\n",
       "    </tr>\n",
       "    <tr>\n",
       "      <th>44852</th>\n",
       "      <td>55-3019.00</td>\n",
       "      <td>Military Enlisted Tactical Operations and Air/...</td>\n",
       "      <td>NaN</td>\n",
       "    </tr>\n",
       "  </tbody>\n",
       "</table>\n",
       "<p>44853 rows × 3 columns</p>\n",
       "</div>"
      ],
      "text/plain": [
       "      O*NET-SOC Code                                              Title  \\\n",
       "0         11-1011.00                                   Chief Executives   \n",
       "1         11-1011.00                                   Chief Executives   \n",
       "2         11-1011.00                                   Chief Executives   \n",
       "3         11-1011.00                                   Chief Executives   \n",
       "4         11-1011.00                                   Chief Executives   \n",
       "...              ...                                                ...   \n",
       "44848     55-3014.00                 Artillery and Missile Crew Members   \n",
       "44849     55-3015.00             Command and Control Center Specialists   \n",
       "44850     55-3016.00                                           Infantry   \n",
       "44851     55-3018.00                                     Special Forces   \n",
       "44852     55-3019.00  Military Enlisted Tactical Operations and Air/...   \n",
       "\n",
       "                                          Tech Skill  \n",
       "0                                 Desktop calculator  \n",
       "1                                  Desktop computers  \n",
       "2                                 Notebook computers  \n",
       "3                                 Personal computers  \n",
       "4      Personal digital assistant PDAs or organizers  \n",
       "...                                              ...  \n",
       "44848                                            NaN  \n",
       "44849                                            NaN  \n",
       "44850                                            NaN  \n",
       "44851                                            NaN  \n",
       "44852                                            NaN  \n",
       "\n",
       "[44853 rows x 3 columns]"
      ]
     },
     "execution_count": 21,
     "metadata": {},
     "output_type": "execute_result"
    }
   ],
   "source": [
    "jobs_and_tech = pd.merge(occupations, tech, on='O*NET-SOC Code', how = 'left').drop(columns = [\"Title_y\", \"Description\"]).rename(columns={\"Title_x\":\"Title\", \"Commodity Title\":\"Tech Skill\"})\n",
    "jobs_and_tech"
   ]
  },
  {
   "cell_type": "code",
   "execution_count": null,
   "metadata": {},
   "outputs": [],
   "source": []
  }
 ],
 "metadata": {
  "kernelspec": {
   "display_name": "Python 3",
   "language": "python",
   "name": "python3"
  },
  "language_info": {
   "codemirror_mode": {
    "name": "ipython",
    "version": 3
   },
   "file_extension": ".py",
   "mimetype": "text/x-python",
   "name": "python",
   "nbconvert_exporter": "python",
   "pygments_lexer": "ipython3",
   "version": "3.12.4"
  }
 },
 "nbformat": 4,
 "nbformat_minor": 2
}
