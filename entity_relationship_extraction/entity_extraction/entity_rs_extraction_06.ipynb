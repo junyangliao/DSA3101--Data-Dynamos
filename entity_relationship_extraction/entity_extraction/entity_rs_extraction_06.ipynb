{
 "cells": [
  {
   "cell_type": "markdown",
   "metadata": {},
   "source": [
    "Import libraries\n"
   ]
  },
  {
   "cell_type": "code",
   "execution_count": 11,
   "metadata": {},
   "outputs": [],
   "source": [
    "import pandas as pd\n",
    "import re "
   ]
  },
  {
   "cell_type": "markdown",
   "metadata": {},
   "source": [
    "# 06 - NUS Undergraduate Programs\n"
   ]
  },
  {
   "cell_type": "markdown",
   "metadata": {},
   "source": [
    "Load the data\n"
   ]
  },
  {
   "cell_type": "code",
   "execution_count": 12,
   "metadata": {},
   "outputs": [
    {
     "name": "stdout",
     "output_type": "stream",
     "text": [
      "                                Degree  \\\n",
      "0  Bachelor of Business Administration   \n",
      "1  Bachelor of Business Administration   \n",
      "2  Bachelor of Business Administration   \n",
      "3  Bachelor of Business Administration   \n",
      "4  Bachelor of Business Administration   \n",
      "\n",
      "                                     Major  \n",
      "0               Applied Business Analytics  \n",
      "1                       Business Economics  \n",
      "2                                  Finance  \n",
      "3          Innovation and Entrepreneurship  \n",
      "4  Leadership and Human Capital Management  \n"
     ]
    }
   ],
   "source": [
    "ug_program_path = '../backend/data/06 - nus_undergraduate_programmes.csv'\n",
    "ug_program = pd.read_csv(ug_program_path)\n",
    "\n",
    "print(ug_program.head())"
   ]
  },
  {
   "cell_type": "markdown",
   "metadata": {},
   "source": [
    "## Entity Extraction\n"
   ]
  },
  {
   "cell_type": "markdown",
   "metadata": {},
   "source": [
    "Extract degree amdand major entiies\n"
   ]
  },
  {
   "cell_type": "code",
   "execution_count": 13,
   "metadata": {},
   "outputs": [
    {
     "name": "stdout",
     "output_type": "stream",
     "text": [
      "                                Degree  \\\n",
      "0  Bachelor of Business Administration   \n",
      "1  Bachelor of Business Administration   \n",
      "2  Bachelor of Business Administration   \n",
      "3  Bachelor of Business Administration   \n",
      "4  Bachelor of Business Administration   \n",
      "\n",
      "                                     Major  \\\n",
      "0               Applied Business Analytics   \n",
      "1                       Business Economics   \n",
      "2                                  Finance   \n",
      "3          Innovation and Entrepreneurship   \n",
      "4  Leadership and Human Capital Management   \n",
      "\n",
      "                         degree_entities  \\\n",
      "0  [Bachelor of Business Administration]   \n",
      "1  [Bachelor of Business Administration]   \n",
      "2  [Bachelor of Business Administration]   \n",
      "3  [Bachelor of Business Administration]   \n",
      "4  [Bachelor of Business Administration]   \n",
      "\n",
      "                              major_entities  \n",
      "0               [Applied Business Analytics]  \n",
      "1                       [Business Economics]  \n",
      "2                                  [Finance]  \n",
      "3          [Innovation and Entrepreneurship]  \n",
      "4  [Leadership and Human Capital Management]  \n"
     ]
    }
   ],
   "source": [
    "# Function to extract degree and major entities\n",
    "def extract_entities(degree, major):\n",
    "    # Ensure both degree and major are valid strings\n",
    "    degree_entity = [degree] if isinstance(degree, str) and degree.strip() else []\n",
    "    major_entity = [major] if isinstance(major, str) and major.strip() else []\n",
    "    \n",
    "    return degree_entity, major_entity\n",
    "\n",
    "# Apply the function to extract degree and major entities\n",
    "ug_program['degree_entities'], ug_program['major_entities'] = zip(*ug_program.apply(\n",
    "    lambda row: extract_entities(row['Degree'], row['Major']), axis=1))\n",
    "\n",
    "# Display the DataFrame with extracted degree and major entities\n",
    "print(ug_program[['Degree', 'Major', 'degree_entities', 'major_entities']].head())"
   ]
  },
  {
   "cell_type": "markdown",
   "metadata": {},
   "source": [
    "## Relationship Extraction\n"
   ]
  },
  {
   "cell_type": "code",
   "execution_count": 20,
   "metadata": {},
   "outputs": [
    {
     "name": "stdout",
     "output_type": "stream",
     "text": [
      "                              major_entities  \\\n",
      "0               [Applied Business Analytics]   \n",
      "1                       [Business Economics]   \n",
      "2                                  [Finance]   \n",
      "3          [Innovation and Entrepreneurship]   \n",
      "4  [Leadership and Human Capital Management]   \n",
      "\n",
      "                         degree_entities  \\\n",
      "0  [Bachelor of Business Administration]   \n",
      "1  [Bachelor of Business Administration]   \n",
      "2  [Bachelor of Business Administration]   \n",
      "3  [Bachelor of Business Administration]   \n",
      "4  [Bachelor of Business Administration]   \n",
      "\n",
      "                                        relationship  \n",
      "0  [{'from_type': 'Major', 'from_id': 'Applied Bu...  \n",
      "1  [{'from_type': 'Major', 'from_id': 'Business E...  \n",
      "2  [{'from_type': 'Major', 'from_id': 'Finance', ...  \n",
      "3  [{'from_type': 'Major', 'from_id': 'Innovation...  \n",
      "4  [{'from_type': 'Major', 'from_id': 'Leadership...  \n"
     ]
    }
   ],
   "source": [
    "def create_dynamic_relationship(df, from_type, from_id_col, to_type, to_id_col, relationship_type, output_col):\n",
    "    # List to store formatted relationship dictionaries for each row\n",
    "    relationship_column = []\n",
    "\n",
    "    # Iterate through each row of the DataFrame\n",
    "    for _, row in df.iterrows():\n",
    "        # Extract the `from_id` and `to_id` values from the specified columns\n",
    "        from_ids = row[from_id_col] if isinstance(row[from_id_col], list) else [row[from_id_col]]\n",
    "        to_ids = row[to_id_col] if isinstance(row[to_id_col], list) else [row[to_id_col]]\n",
    "\n",
    "        # Create a list of dictionaries for each `to_id`\n",
    "        relationship_dict = [\n",
    "            {\n",
    "                \"from_type\": from_type,\n",
    "                \"from_id\": from_id,\n",
    "                \"to_type\": to_type,\n",
    "                \"to_id\": to_id,\n",
    "                \"type\": relationship_type\n",
    "            }\n",
    "            for from_id in from_ids if pd.notna(from_id)\n",
    "            for to_id in to_ids if pd.notna(to_id)  # Only include non-NaN `to_id` values\n",
    "        ]\n",
    "\n",
    "        # Append the relationship dictionary or an empty list if no valid `to_id` found\n",
    "        relationship_column.append(relationship_dict if relationship_dict else [])\n",
    "\n",
    "    # Add the relationships as a new column to the DataFrame\n",
    "    df[output_col] = relationship_column\n",
    "    \n",
    "    # Return the updated DataFrame with the new relationships column\n",
    "    return df\n",
    "\n",
    "from_type = \"Major\"\n",
    "from_id_col = \"major_entities\"  \n",
    "to_type = \"Degree\"\n",
    "to_id_col = \"degree_entities\"   \n",
    "relationship_type = \"OFFERS\"\n",
    "output_col = \"relationship\"\n",
    "\n",
    "# Create relationships for each row and add them to the DataFrame\n",
    "ug_program_rs = create_dynamic_relationship(ug_program, from_type, from_id_col, to_type, to_id_col, relationship_type, output_col)\n",
    "\n",
    "# Display the DataFrame with relationships\n",
    "print(ug_program_rs[['major_entities', 'degree_entities', 'relationship']].head())"
   ]
  },
  {
   "cell_type": "markdown",
   "metadata": {},
   "source": [
    "Save updated DF to a new CSV file\n"
   ]
  },
  {
   "cell_type": "code",
   "execution_count": 21,
   "metadata": {},
   "outputs": [],
   "source": [
    "ug_program.to_csv('ug_program_final.csv', index=False)"
   ]
  },
  {
   "cell_type": "markdown",
   "metadata": {},
   "source": []
  }
 ],
 "metadata": {
  "kernelspec": {
   "display_name": "Python 3",
   "language": "python",
   "name": "python3"
  },
  "language_info": {
   "codemirror_mode": {
    "name": "ipython",
    "version": 3
   },
   "file_extension": ".py",
   "mimetype": "text/x-python",
   "name": "python",
   "nbconvert_exporter": "python",
   "pygments_lexer": "ipython3",
   "version": "3.10.12"
  }
 },
 "nbformat": 4,
 "nbformat_minor": 2
}
