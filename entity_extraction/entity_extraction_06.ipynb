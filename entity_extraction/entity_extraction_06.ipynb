{
 "cells": [
  {
   "cell_type": "markdown",
   "metadata": {},
   "source": [
    "Import libraries\n"
   ]
  },
  {
   "cell_type": "code",
   "execution_count": 2,
   "metadata": {},
   "outputs": [],
   "source": [
    "import pandas as pd\n",
    "import re "
   ]
  },
  {
   "cell_type": "markdown",
   "metadata": {},
   "source": [
    "# 06 - NUS Undergraduate Programs\n"
   ]
  },
  {
   "cell_type": "markdown",
   "metadata": {},
   "source": [
    "Load the data\n"
   ]
  },
  {
   "cell_type": "code",
   "execution_count": 3,
   "metadata": {},
   "outputs": [
    {
     "name": "stdout",
     "output_type": "stream",
     "text": [
      "                                Degree  \\\n",
      "0  Bachelor of Business Administration   \n",
      "1  Bachelor of Business Administration   \n",
      "2  Bachelor of Business Administration   \n",
      "3  Bachelor of Business Administration   \n",
      "4  Bachelor of Business Administration   \n",
      "\n",
      "                                     Major  \n",
      "0               Applied Business Analytics  \n",
      "1                       Business Economics  \n",
      "2                                  Finance  \n",
      "3          Innovation and Entrepreneurship  \n",
      "4  Leadership and Human Capital Management  \n"
     ]
    }
   ],
   "source": [
    "ug_program_path = '../06 - nus_undergraduate_programmes.csv'\n",
    "ug_program = pd.read_csv(ug_program_path)\n",
    "\n",
    "print(ug_program.head())"
   ]
  },
  {
   "cell_type": "markdown",
   "metadata": {},
   "source": [
    "Extract degree amdand major entiies\n"
   ]
  },
  {
   "cell_type": "code",
   "execution_count": 4,
   "metadata": {},
   "outputs": [
    {
     "name": "stdout",
     "output_type": "stream",
     "text": [
      "                                Degree  \\\n",
      "0  Bachelor of Business Administration   \n",
      "1  Bachelor of Business Administration   \n",
      "2  Bachelor of Business Administration   \n",
      "3  Bachelor of Business Administration   \n",
      "4  Bachelor of Business Administration   \n",
      "\n",
      "                                     Major  \\\n",
      "0               Applied Business Analytics   \n",
      "1                       Business Economics   \n",
      "2                                  Finance   \n",
      "3          Innovation and Entrepreneurship   \n",
      "4  Leadership and Human Capital Management   \n",
      "\n",
      "                         degree_entities  \\\n",
      "0  [Bachelor of Business Administration]   \n",
      "1  [Bachelor of Business Administration]   \n",
      "2  [Bachelor of Business Administration]   \n",
      "3  [Bachelor of Business Administration]   \n",
      "4  [Bachelor of Business Administration]   \n",
      "\n",
      "                              major_entities  \n",
      "0               [Applied Business Analytics]  \n",
      "1                       [Business Economics]  \n",
      "2                                  [Finance]  \n",
      "3          [Innovation and Entrepreneurship]  \n",
      "4  [Leadership and Human Capital Management]  \n"
     ]
    }
   ],
   "source": [
    "# Function to extract degree and major entities\n",
    "def extract_entities(degree, major):\n",
    "    # Ensure both degree and major are valid strings\n",
    "    degree_entity = [degree] if isinstance(degree, str) and degree.strip() else []\n",
    "    major_entity = [major] if isinstance(major, str) and major.strip() else []\n",
    "    \n",
    "    return degree_entity, major_entity\n",
    "\n",
    "# Apply the function to extract degree and major entities\n",
    "ug_program['degree_entities'], ug_program['major_entities'] = zip(*ug_program.apply(\n",
    "    lambda row: extract_entities(row['Degree'], row['Major']), axis=1))\n",
    "\n",
    "# Display the DataFrame with extracted degree and major entities\n",
    "print(ug_program[['Degree', 'Major', 'degree_entities', 'major_entities']].head())"
   ]
  },
  {
   "cell_type": "markdown",
   "metadata": {},
   "source": [
    "Save updated DF to a new CSV file\n"
   ]
  },
  {
   "cell_type": "code",
   "execution_count": 6,
   "metadata": {},
   "outputs": [],
   "source": [
    "ug_program.to_csv('ug_program_final.csv', index=False)"
   ]
  },
  {
   "cell_type": "markdown",
   "metadata": {},
   "source": []
  }
 ],
 "metadata": {
  "kernelspec": {
   "display_name": "Python 3",
   "language": "python",
   "name": "python3"
  },
  "language_info": {
   "codemirror_mode": {
    "name": "ipython",
    "version": 3
   },
   "file_extension": ".py",
   "mimetype": "text/x-python",
   "name": "python",
   "nbconvert_exporter": "python",
   "pygments_lexer": "ipython3",
   "version": "3.10.12"
  }
 },
 "nbformat": 4,
 "nbformat_minor": 2
}
