{
 "cells": [
  {
   "cell_type": "markdown",
   "metadata": {},
   "source": [
    "Import libraries\n"
   ]
  },
  {
   "cell_type": "code",
   "execution_count": 1,
   "metadata": {},
   "outputs": [],
   "source": [
    "import pandas as pd \n",
    "import spacy \n",
    "import re \n",
    "import ast \n",
    "from spacy.matcher import PhraseMatcher  "
   ]
  },
  {
   "cell_type": "markdown",
   "metadata": {},
   "source": [
    "# 04 - mock module reviews\n"
   ]
  },
  {
   "cell_type": "markdown",
   "metadata": {},
   "source": [
    "Load the data\n"
   ]
  },
  {
   "cell_type": "code",
   "execution_count": 2,
   "metadata": {},
   "outputs": [
    {
     "name": "stdout",
     "output_type": "stream",
     "text": [
      "  module_code          id                                            message  \\\n",
      "0    ACC1701X  6472570545   Taken in AY23/24 Semester 2. Lecturer: Prof D...   \n",
      "1    ACC1701X  6467819412   Taken in AY23/24 Semester 2. Lecturer: Prof D...   \n",
      "2    ACC1701X  6452830983   ACC1701X Lecturer: Adjunct Assoc. Prof. Deon ...   \n",
      "3    ACC1701X  5896942778   Taken in AY 21/22 Sem 2, review at: <a href=\"...   \n",
      "4    ACC1701X  5889427965   Taken in AY19/20 Sem 2 Lecturer: Prof Winston...   \n",
      "\n",
      "            created_at  likes  dislikes  \n",
      "0  2024-06-03T01:36:26      0         0  \n",
      "1  2024-05-27T13:10:04      0         0  \n",
      "2  2024-05-07T04:48:19      0         0  \n",
      "3  2022-06-24T09:55:49      0         0  \n",
      "4  2022-06-16T10:03:57      0         0  \n"
     ]
    }
   ],
   "source": [
    "module_review_path = '../backend/data/04 - mock_module_reviews.csv'\n",
    "module_review = pd.read_csv(module_review_path)\n",
    "print(module_review.head())"
   ]
  },
  {
   "cell_type": "markdown",
   "metadata": {},
   "source": [
    "Extract Modules\n"
   ]
  },
  {
   "cell_type": "code",
   "execution_count": 3,
   "metadata": {},
   "outputs": [
    {
     "name": "stdout",
     "output_type": "stream",
     "text": [
      "  module_code module_entities\n",
      "0    ACC1701X      [ACC1701X]\n",
      "1    ACC1701X      [ACC1701X]\n",
      "2    ACC1701X      [ACC1701X]\n",
      "3    ACC1701X      [ACC1701X]\n",
      "4    ACC1701X      [ACC1701X]\n"
     ]
    }
   ],
   "source": [
    "def extract_module_entities(module_code):\n",
    "    # Ensure the input is a string and not empty\n",
    "    if isinstance(module_code, str) and module_code.strip():\n",
    "        return [(module_code)]\n",
    "    else:\n",
    "        return []\n",
    "\n",
    "# Apply the function to extract module entities from the 'module_code' column\n",
    "module_review['module_entities'] = module_review['module_code'].apply(lambda x: extract_module_entities(x))\n",
    "\n",
    "# Display the DataFrame with extracted module entities\n",
    "print(module_review[['module_code', 'module_entities']].head())"
   ]
  },
  {
   "cell_type": "markdown",
   "metadata": {},
   "source": [
    "Load spacy model for NER\n"
   ]
  },
  {
   "cell_type": "code",
   "execution_count": 4,
   "metadata": {},
   "outputs": [],
   "source": [
    "nlp = spacy.load(\"en_core_web_sm\")"
   ]
  },
  {
   "cell_type": "markdown",
   "metadata": {},
   "source": [
    "Extract skills from linkedin job and skillset csv\n"
   ]
  },
  {
   "cell_type": "code",
   "execution_count": 5,
   "metadata": {},
   "outputs": [
    {
     "data": {
      "text/html": [
       "<div>\n",
       "<style scoped>\n",
       "    .dataframe tbody tr th:only-of-type {\n",
       "        vertical-align: middle;\n",
       "    }\n",
       "\n",
       "    .dataframe tbody tr th {\n",
       "        vertical-align: top;\n",
       "    }\n",
       "\n",
       "    .dataframe thead th {\n",
       "        text-align: right;\n",
       "    }\n",
       "</style>\n",
       "<table border=\"1\" class=\"dataframe\">\n",
       "  <thead>\n",
       "    <tr style=\"text-align: right;\">\n",
       "      <th></th>\n",
       "      <th>Job Title</th>\n",
       "      <th>Skills</th>\n",
       "    </tr>\n",
       "  </thead>\n",
       "  <tbody>\n",
       "    <tr>\n",
       "      <th>0</th>\n",
       "      <td>Academic Advisor</td>\n",
       "      <td>['Academic Advising', 'Higher Education', 'Stu...</td>\n",
       "    </tr>\n",
       "    <tr>\n",
       "      <th>1</th>\n",
       "      <td>Academic Tutor</td>\n",
       "      <td>['Tutoring', 'Teaching', 'Peer Tutoring', 'Mat...</td>\n",
       "    </tr>\n",
       "    <tr>\n",
       "      <th>2</th>\n",
       "      <td>Account Coordinator</td>\n",
       "      <td>['Account Management', 'Account Coordination',...</td>\n",
       "    </tr>\n",
       "    <tr>\n",
       "      <th>3</th>\n",
       "      <td>Account Director</td>\n",
       "      <td>['Account Management', 'Client Services', 'Cli...</td>\n",
       "    </tr>\n",
       "    <tr>\n",
       "      <th>4</th>\n",
       "      <td>Account Executive</td>\n",
       "      <td>['Software as a Service (SaaS)', 'Account Mana...</td>\n",
       "    </tr>\n",
       "  </tbody>\n",
       "</table>\n",
       "</div>"
      ],
      "text/plain": [
       "             Job Title                                             Skills\n",
       "0     Academic Advisor  ['Academic Advising', 'Higher Education', 'Stu...\n",
       "1       Academic Tutor  ['Tutoring', 'Teaching', 'Peer Tutoring', 'Mat...\n",
       "2  Account Coordinator  ['Account Management', 'Account Coordination',...\n",
       "3     Account Director  ['Account Management', 'Client Services', 'Cli...\n",
       "4    Account Executive  ['Software as a Service (SaaS)', 'Account Mana..."
      ]
     },
     "execution_count": 5,
     "metadata": {},
     "output_type": "execute_result"
    }
   ],
   "source": [
    "jobs_and_skills_df = pd.read_csv(\"jobs_and_skillset_linkedin_final.csv\")\n",
    "jobs_and_skills_df.head()"
   ]
  },
  {
   "cell_type": "code",
   "execution_count": 6,
   "metadata": {},
   "outputs": [
    {
     "name": "stdout",
     "output_type": "stream",
     "text": [
      "['Credit', 'U.S. Department of Defense', 'Business Analysis', 'Billing Process', 'Eaglesoft', 'Warranty', 'IT Recruitment', 'Library Management', 'Linguistics', 'Billing Systems', 'Contact Centers', 'TIG Welding', 'Medication Administration', 'Transportation Operations', 'Business Planning', 'Beauty Industry', 'Node.js', 'Fire Protection', 'Control Systems Design', 'Corporate Governance', 'ASP.NET', 'Event Videography', 'Enercalc', 'Youth Leadership', 'Admissions Counseling', 'Music Theory', 'Agriculture', \"Children's Yoga\", 'Government Contract Administration', 'Improvisation', 'Media Planning', 'ICD-10-CM', 'Electrical Technology', 'Museum Collections', 'Commercial Aviation', 'Branding & Identity', 'Apache Spark', 'Guitar Playing', 'Cost Accounting', 'Allen-Bradley', 'Linux', 'A&P', 'Manufacturing Engineering', 'Loan Documents', 'Gynecologic Surgery', 'Patient Safety', 'Language Teaching', 'Manufacturing Operations Management', 'Instrument Rated Pilot', 'Behavioral Intervention', 'Microsoft Excel', 'Business Relationship Management', 'Electrical Safety', 'Shipping & Receiving', 'Data Centers', 'Soldering', 'Kronos Time and Attendance', 'Sales Effectiveness', 'Email Marketing', 'High-Performance Liquid Chromatography', 'IT Operations', 'Deep Tissue Massage', 'TNCC', 'Content Management Systems', 'Pastoral', 'AWS Lambda', 'Space Planning', 'Housekeeping', 'Vital Signs', 'Human Nutrition', 'Paramedic', 'Food Quality', 'Manufacturing', 'Learning Management Systems', 'Expository Preaching', 'Equity Research', 'Social Media Communications', 'Type Rating', 'Machine Learning', 'Cell Biology', 'Sprint Planning', 'Articulation', 'Structural Engineering', 'Lifestyle Coaching', 'Software as a Service', 'Microsoft Word', 'Project Management', 'Law Enforcement', 'Marketing Copy', 'Student Engagement', 'Rebranding', 'Studio Art', 'Yoga', 'Privacy Compliance', 'Special Events Coordination', 'Cryptocurrency Trading', 'Intercollegiate Athletics', 'Facilities Operations', 'Farm Equipment', 'Ambulance', 'Sales Enablement', 'Warehouse Management Systems', 'Babysitting', 'Industrial Engineering', 'Executive Management', 'Threat & Vulnerability Management', 'Business Analytics', 'Voiceovers', 'Financial Planning', 'Cataloging', 'Admissions', 'Local Anesthesia', 'Dental Assisting', 'Economics', 'Certified Nursing Assistant', 'Material Handling', 'Photo Shoots', 'Project Implementation', 'Phlebotomy', 'Community Engagement', 'Cell Culture', 'Fine Art', 'Training', 'Arc Welding', 'NIST 800-53', 'Immunization', 'Management', 'Healthcare Compliance', 'DaVinci Resolve', 'Screening Resumes', 'Dry Needling', 'Acting', 'Basic Life Support', 'Boolean Searching', 'Invoice Processing', 'Corporate Law', 'Fact-checking', 'FrameMaker', 'Social Emotional Learning', 'Construction Management', 'SharePoint', 'Network Security', 'Couriers', 'Administration', 'Oracle Database', 'Legal Assistance', 'Hardware Installation', 'Music Industry', 'Automotive Sales', 'Unix', 'Retail Banking', 'Nutritional Analysis', 'Inventory Planning', 'Emergency Services', 'Truckload Shipping', 'Contract Writing', 'Organic Farming', 'Group Therapy', 'Ballet', 'Medical Research', 'Structural Analysis', 'Embroidery', 'A/R Collections', 'Science Education', 'Computer Hardware Troubleshooting', 'Insurance', 'Incident Response', 'Steel Design', 'Deposits', 'Product Development', 'Software Troubleshooting', 'DNA Extraction', 'Community Management', 'Geometric Dimensioning & Tolerancing', 'Powershell', 'Communications Planning', 'Electrical Troubleshooting', 'Preschool', 'Kanban', 'Real Estate Marketing', 'Highways', 'Medidata', 'Architecture', 'Relocation', 'Yardi Voyager', 'Communication Disorders', 'MadCap Flare', 'Bookkeeping', 'Budgeting', 'Plasma Cutting', 'Rhino 3D', 'Medical Transcription', 'Molecular Biology', 'Pay Per Click', 'Final Cut Pro', 'Business Operations', 'Christian Missions', 'Mechanics', 'Loan Closings', 'Environmental Awareness', 'Electrocardiography', 'Clinical Trial Management System', 'AS9100', 'Metal Fabrication', 'Office Administration', 'Wardrobe', 'Drain Cleaning', 'Direct Marketing', 'Virtual Private Network', 'Product Specialists', 'Speech Therapy', 'Venipuncture', 'Lean Six Sigma', 'Mobile Design', 'Book Writing', 'Pre-Construction', 'Electrical Design', 'Business Process Improvement', 'Therapeutic Massage', 'Alternative Investments', 'Typography', 'Leadership', 'Project Analysis', 'Spa Treatments', 'Career Development Coaching', 'Engineering', 'Newsletter Production', 'Brand Awareness', 'Siemens NX', 'SEO Audits', 'CNC Machine', 'Camtasia', 'Portfolio Managers', 'Compensation and Benefits', 'Market Planning', 'Skin', 'SQL', 'Public Safety', 'Product Strategy', 'Golf Club Repair', 'Music', 'Commercials', 'Personal Injury Law', 'Nonprofit Organizations', 'Resident Retention', 'Social Media Outreach', 'Planning', 'Technical Enablement', 'Pharmaceutical Care', 'HCPCS', 'Film Actor', 'Life Coaching', 'Business Development Consultancy', 'Luxury Goods', 'Voice Acting', 'Concrete', 'Pre-production', 'Land Development', 'Audio Engineering', 'Captivate', 'Off-Page SEO', 'Temporary Staffing', 'Sales & Marketing', 'Emergency Medical Services', 'Military Weapons Handling', 'Notary', 'Alteryx', 'Machining', 'Content Management', 'Risk Management', 'Concept Art', 'Computer Repair', 'Truck Driving', 'Instagram', 'Project Engineering', 'Peer Tutoring', 'Home Health Agencies', 'Lumion', 'Medical Nutrition Therapy', 'JMP', 'SMB', 'Customer Quality', 'Medical-Surgical', 'Mentoring', 'Marketing Analytics', 'Filing', 'Childcare', 'Predictive Modeling', 'DJing', 'Holistic Health', 'Commercial Litigation', 'Corporate Security', 'Flow Cytometry', 'Excavation', 'Microsoft Outlook', 'Floor Plans', 'Project Planning', 'Farms', 'PHP', 'Service Delivery', 'Pharmacy Automation', 'Health & Wellness', 'Rehabilitation', 'B2B Marketing', 'Production Management', 'Veterinary Medicine', 'Optometry', 'American Registry of Radiologic Technologists', 'Power Systems', 'Compliance Regulations', 'Claims Management', 'Classroom Management', 'Tax', 'CNC Manufacturing', 'Analog Circuit Design', 'Small Business', 'Crisis Communications', 'Energy Audits', 'Spreadsheets', 'IT Risk Management', 'Cognitive Behavioral Therapy', 'Sports', 'Hardware Diagnostics', 'IT Management', 'Negotiation', 'Master Data Management', 'Federal Government', 'Writing', 'Training Delivery', 'Youth Mentoring', 'Speech', 'Communication', 'Cloud Security', 'Training Management', 'Open Enrollment', 'Strategic Partnerships', 'Liquid Chromatography-Mass Spectrometry', 'Facials', 'Commissioning', 'Vinyasa', 'Demand Generation', 'Remote Troubleshooting', 'Customer Relationship Management', 'Health Insurance', 'Energy Efficiency', 'Merchandising Strategies', 'Employee Relations', 'Live Events', 'Diesel Engine', 'IT Project Management', 'Team Leadership', 'Discharge Planning', 'Functional Testing', 'Engineering Management', 'Child Development', 'Revit', 'ECF', 'Auto Insurance', 'Xactimate', 'Strategic Human Resources Leadership', 'Government Relations', 'Outdoor Recreation', 'Commerce', 'Acute Rehabilitation', 'OS X', 'Legal Assistants', 'SQL Server Integration Services', 'Emergency Medicine', 'Ultipro', \"Women's Health\", 'Merchandise Planning', 'MongoDB', 'Case Management', 'Business-to-Business', 'Analytics', 'Art Direction', 'Laboratory Safety', 'Acrylic Painting', 'Zendesk', 'Copy Editing', 'Automotive', 'Intelligence', 'Certified Immunizer', 'Pattern Making', 'Information Security Management', 'Electronic Medical Records', 'Data Collection', 'C++', 'Commercial Photography', 'Qualitative Research', 'Aphasia', 'Altium Designer', 'Team Building', 'Trauma Therapy', 'System Administration', 'Food Preparation', 'STEM', 'HMI Programming', 'Blogger', 'Airlines', 'IT Service Management', 'Criminal Investigations', 'Strategic Human Resource Planning', 'Logo Design', 'CIOs', 'Sensory Processing', 'Social Work', 'Dance Instruction', 'Motion Graphics', 'Pre/Post Sales Engineers', 'Chicago Style', 'Hair Styling', 'Working with Tenants', 'Data Entry', 'Merchandise', 'Microsoft Servers', 'Surgical Instruments', 'Stocking', 'User Interface Prototyping', 'Planograms', 'Strategic Communications', 'Character Designs', 'Machine Operation', 'Clinical Nutrition', 'Third-Party Logistics', 'Data Engineering', 'Construction Site Management', 'Plumbing', 'Equipment Operation', 'Laboratory Technicians', 'Therapeutic Modalities', 'Statistical Data Analysis', 'E-Learning', 'Web Pages', 'PySpark', 'Windows 10', 'Elementary Education', 'Portrait Photography', 'Information Literacy', 'Police Officers', 'Energy Management', 'Animal Restraint', 'Active DoD Secret Clearance', 'Cyber Defense', 'Theology', 'Train the Trainer', 'CaseWare Software', 'Current Procedural Terminology', 'Mechanical Product Design', 'Quality Control', 'Contact Lenses', 'Sales Prospecting', 'Teacher Training', 'Family Therapy', 'Field Installation', 'Food Service Operations', 'User-centered Design', 'Video Conferencing', 'Precision Machining', 'Design Leadership', 'Salesforce Lightning', 'Community Organizing', 'Nannying', 'Chronic Illness', 'Career Development', 'Student Counseling', 'Tires', 'Hair Extensions', 'Talent Management', 'Dental Imaging', 'Personal Banking', 'Tortoise SVN', 'Government Procurement', 'Videography', 'TV Production', 'Clip Studio Paint', 'Epic EHR', 'Plastic Surgery', 'Community Pharmacy', 'OneSite', 'Legal Writing', 'Cosmetics', 'Nursing Management', 'Agile Testing', 'Content Development', \"Buyer's Agent\", 'DNS Management', 'Sales Operations', 'Skin Care', 'Foreign Exchange Trading', 'Legal Translation', 'Wireshark', 'IT Hardware Support', 'Cash Handling', 'Environmental Science', 'Clinical Education', 'Visual Merchandising', 'Recipe Development', 'Command', 'Feature Writing', 'Wireframing', 'Technical Support', 'Audio Mastering', 'Tableau', 'Insurance Verification', 'Single Family Homes', 'Expense Reports', 'Statistical Process Control', 'Automation', 'Youth Development', 'Front Office', 'Yardi Property Management', 'Career Management', 'Training & Development', 'Vestibular Rehabilitation', 'Onboarding', 'Interventions', 'Technical Translation', 'Investment Properties', 'Geographic Information Systems', 'Store Management', 'Dysphagia', 'Barista Training', 'Creative Writing', 'Search Engine Optimization', 'Budget Management', 'Electro-mechanical Troubleshooting', 'Medical Massage', 'Security Operations', 'Academic Advising', 'Business Strategy', 'Design Consulting', 'Legal Research', 'Direct Patient Care', 'Briefing', 'Nursing Documentation', 'DevOps', 'Wound Care', 'Sunglasses', 'Fleet Management', 'Medical Case Management', 'Hospital Medicine', 'Audio Visual System Design', 'Content Strategy', 'Source Intelligence', 'Educational Leadership', 'Lesson Planning', 'Gas Chromatography', 'New Home Sales', 'Docker Products', 'Plant Operations', 'Data Analysis', 'Retirement Planning', 'Payroll Taxes', 'Airframe', 'Field Operations', 'Library Science', 'Radiology', 'Logistics Management', 'Criminal Law', 'Cucumber', 'National Association of Realtors', 'HTML5', 'Personal Development', 'Warehouse Control', 'Framing', 'Fashion Styling', 'Customer Retention', 'Multitasking', 'Growth Strategies', 'Aircraft Maintenance', 'After Effects', 'Augmentative and Alternative Communication', 'Payroll Services', 'Human Resources', 'Sports Marketing', 'Customer Service Training', 'Refinancing', 'Branding', 'Singing', 'Design Engineering', 'Swim Instruction', 'Interaction Design', 'Welding', 'Tax Accounting', 'Patient Counseling', 'Periodontal Disease', 'Landscape Construction', 'Landscape Architecture', 'Blogging', 'Electrical Work', 'Jenkins', 'Orthopedic Surgery', 'Psychological Assessment', 'Coaching and Mentoring', 'CPT Coding', 'Dynamic Host Configuration Protocol', 'Labor and Employment Law', 'Sales Consulting', 'Public Speaking', 'LAN-WAN', 'Generally Accepted Accounting Principles', 'Electronic Data Capture', 'Test Planning', 'Digital Strategy', 'Paint', 'Architectural Drawings', 'NIST', 'Power Distribution', 'Caregiving', 'Volunteer Management', 'Meditation', 'Product Management', 'Student Affairs', 'Video Production', 'Assembly Lines', 'Working With Children', 'Patient Recruitment', 'Bakery', 'Six Sigma Green Belt', 'Transformational Life Coaching', 'Fine Dining', 'Nursing Education', 'Molecular Cloning', 'Oil Painting', 'Welding Inspection', 'Fashion Design', 'Workplace Safety', 'Mouse Handling', 'Certified Information Privacy Professional', 'Supply Chain Management', 'Strength & Conditioning', 'Environmental Policy', 'Jazz Dance', 'Receptionist Duties', 'Adult CPR', 'Easily Adaptable', 'Portfolio Management', 'Pediatric Advanced Life Support', 'Software Development', 'Product Photography', 'Policy Analysis', 'Tax Preparation', 'Scheduling', 'Brand Management', 'Drawing Blood', 'Instructional Design', 'Mortgage Underwriting', 'Board of Directors', 'State Tax', 'Legal Advice', 'Film Production', 'Salesforce.com Development', 'Full-life Cycle Recruiting', 'Technical Specialists', 'Musical Direction', 'Chemical Peels', 'Functional Training', 'Customer Experience', 'ADP Payroll', 'Modern Dance', 'Creative Merchandising', 'Surgical Technology', 'Robotic Surgery', 'Test Engineering', 'Firearms Handling', 'Website Building', 'Facebook', 'Wellness Coaching', 'Pharmacy Technicians', 'Dermaplaning', 'Supply Chain Optimization', 'Health Education', 'Student Development', 'Workforce Management', 'Fluorescence Microscopy', 'Dentistry', 'Brake', 'Benefits Administration', 'Audio Mixing', 'Short Films', 'Transact-SQL', 'Entertainment', 'Financial Statements', 'Human Resources Information Systems', 'Sports Coaching', 'SASS', 'Clerical Skills', 'Technology Solutions', 'Medical Social Work', 'Time Study', 'Computer Numerical Control', 'Oncology Clinical Research', 'Commercial Driving', 'Emergency Nursing', 'Veterinary Surgery', 'CNC Programming', 'Market Research', 'Social Media', 'Investment Management', 'Building Maintenance', 'ISO 27001', 'Wet Chemistry', 'Good Laboratory Practice', 'Information Security', 'Forecasting', 'Construction Safety', 'Partnership Taxation', 'Library Reference', 'Grant Writing', 'Materials Management', 'Electronics Repair', 'Automated External Defibrillator', 'Digital Media', 'Finish Carpentry', 'Workday', 'Tax Compliance', 'Quality Assurance', 'Healthcare Information Technology', 'Pressure Washing', 'Problem Solving', 'Preventive Maintenance', 'U.S. National Registry of Emergency Medical Technicians', 'Meeting Scheduling', 'Residential Mortgages', 'Nursing Process', 'Business Development', 'ELISA', 'JavaScript', 'Data Visualization', 'Product Launch', 'Retail Sales', 'Continuous Positive Airway Pressure', 'Computer Networking', 'Global Talent Acquisition', 'Texas Notary', 'Business Systems Analysis', 'Hospitality', 'Military Logistics', 'Procurement Contracts', 'Job Planning', 'Corporate Research', 'Contract Negotiation', 'Opticians', 'Technical Writing', 'Hair Care', 'Credit Unions', 'Discipleship', 'Online Content Creation', 'Design Direction', 'IT Infrastructure Management', 'Full-Stack Development', 'Order Picking', 'SOLIDWORKS', 'Access Control', 'Yieldstar', 'Skin Care Products', 'Software Project Management', 'Law', 'Corrective Maintenance', 'Kinesiology', 'Flight Training', 'Design', 'MicroStation', 'Claim Investigation', 'Craftsmanship', 'Security Training', 'Industrial Maintenance', 'Personal Data Protection', 'Design Failure Mode and Effect Analysis', 'Clinical Supervision', 'Contract Management', 'Program Development', 'Cosmetology', 'Pastoral Care', 'Windows Server', 'Athletic Training', 'Fire Safety', 'Library Research', 'Hospital Pharmacy', 'Real Estate Financing', 'Business Transformation', 'Fitting', 'Animal Care', 'Active TS/SCI Clearance', 'Patient Scheduling', 'Script Coverage', 'Security Information and Event Management', 'RISA', 'Sports Management', 'Narrator', 'Graphics', 'Brand Strategy', 'General Management', 'Creative Strategy', 'Animal Husbandry', 'Partner Relationship Management', 'Community Policing', 'Cash Flow Management', 'International Management', 'Biology', 'iOS', 'Teaching', 'Visual Arts', 'Education', 'Real Estate Transactions', 'Public Outreach', 'Web Development', 'Press Releases', 'Teller Operations', 'Database Administration', 'U.S. Generally Accepted Accounting Principles', 'Military Training', 'SQL Server Reporting Services', 'Adobe InDesign', 'Organization Skills', 'Watercolor', 'Preaching', 'Mathematics Education', 'Catering', 'Video Post-Production', 'English Teaching', 'ASE Certified', 'Choreography', 'Quality Auditing', 'Fundraising', 'Individual Counselling', 'Computed Radiography', 'Vehicle Maintenance', 'Network Administration', 'Military Aviation', 'Localization', 'Golf', 'Confluence', 'Warehouse Operations', 'International Logistics', 'Systems Engineering', 'Medical Billing', 'Selenium WebDriver', 'IT Consulting', 'Retirement Benefits', 'Bitcoin', 'Strategic Studies', 'Sales Coordination', 'FF&E Specifications', 'Fire Prevention', 'Recruiting', 'Customer Service Management', 'Inventory Management', 'Educational Consulting', 'Border Gateway Protocol', 'Spring Boot', 'Technology Management', 'Internet Culture', 'On-Page Optimization', 'Troubleshooting', 'Networking', 'Wealth Management Services', 'Transportation Management', 'Group Exercise', 'Accounts Payable', 'Search Engine Marketing', 'Laboratory Techniques', 'Materials', 'Physical Security', 'Production Lines', 'Tax Research', 'Case Management Services', 'Media Events', 'Maven', 'Technology Evangelism', 'Hot Water', 'Transportation', 'Continuous Improvement', 'Hibernate', 'Storytelling', 'Personal Training', 'Crestron', 'AP Stylebook', 'Rental Real Estate', 'Athletics', 'C-arm', 'Laborers', 'Structural Firefighting', 'Online Journalism', 'Zenworks', 'Soccer', 'Team Management', 'Safety Management Systems', 'Greenhouse', 'Corporate Events', 'PLC Ladder Logic', 'Hostessing', 'Purchasing Processes', 'Manual Therapy', 'Clean Rooms', 'Data Mining', 'Slate', 'Property Claims', 'Early Childhood Education', 'Radio', 'Banking', 'Basketball', 'Conventional Financing', 'Developmental Disabilities', 'Organizational Development', 'FAR', 'Evangelism', 'SAS', 'Hive', 'Penetration Testing', 'Patient Care', 'Account Management', 'Fashion', 'Culinary Skills', 'Cloud Computing', 'Corporate Recruiting', 'Python', 'Laboratory Equipment', 'Point of Sale Systems', 'Computer-Aided Design', 'Mental Health Counseling', 'Audio Post Production', 'Medication Adherence', 'Outpatient Orthopedics', 'Social Media Marketing', 'Clinical Monitoring', 'User Stories', 'Hadoop', 'SAP ERP', 'Bitcoin Mining', 'Roadway Design', 'Reading Comprehension', 'Investment Strategies', 'MIG Welding', 'Analytical Chemistry', 'Product Analysis', 'Audio Books', 'Business Management', 'Succession Planning', 'Marketing', 'Steel Framing', 'Performance Management', 'Loan Servicing', 'Purchasing Negotiation', 'TypeScript', 'Consumer Products', 'Internal Audits', 'Baking', 'Circulation', 'SQL Server Analysis Services', 'IV Therapy', 'Legal Contract Review', 'Online Tutoring', 'Product Engineering', 'Telephone Reception', 'EMDR', 'Westlaw', 'Forklift Operation', 'Cisco Routers', 'Quality Management', 'Pregnancy Massage', 'Skilled Multi-tasker', 'Food & Beverage', 'ServiceNow', 'Consultation', 'Prototyping', 'Federal Procurement', 'Hair Cutting', 'Apex Programming', 'Big Box', 'Heavy Lifting', 'CDL Class A', 'Automotive Electronics', 'Hiring', 'Corporate Website Management', 'Java', 'Heat Pumps', 'Copywriting', 'Disability Insurance', 'Breaking News', 'Tanker', 'Supervisory Skills', 'Medicine', 'Programmable Logic Controller', 'Interior Architecture', 'Application Support', 'Go-to-Market Strategy', 'PLC Programming', 'Injections', 'Theatrical Production', 'Publishing', 'HVAC', 'Operational Risk Management', 'Risk Analysis', 'IT Strategy', 'Cash', 'Military', 'Creative Agency', 'Language Services', 'Transportation Planning', 'Responsive Web Design', 'Care Planning', 'Pastry', 'Test Cases', 'Business Intelligence Tools', 'Addiction Recovery', 'Differentiated Instruction', 'Video Editing', 'Restorative Dentistry', 'Utilization Management', 'Injury Rehabilitation', 'Sales Planning', 'HR Policies', 'Art Therapy', 'Lead Generation', 'PLC Allen Bradley', 'Assistant Teaching', 'Scientific Writing', 'Intelligence Analysis', 'Proofreading', 'Environmental Compliance', 'Radiologic Technology', 'Patrol', 'Private Events', 'Sales Engineering', 'Training Coordination', 'Loans', 'Design for Manufacturing', 'Swimming', 'Capital Equipment', 'School Social Work', \"Workers' Compensation Claims\", 'Heavy Equipment Operations', 'Underwriting', 'Spanish Translation', 'Pallet Jack', 'X-ray', 'Family Law', 'Salesforce.com Administration', 'Songwriting', 'Data Governance', 'Accounts Payable and Receivable', 'R', 'Venture Capital', 'Computer Network Operations', 'Swim Lessons', 'Long Term Care Insurance', 'GitHub', 'Piano', 'Respiratory Therapy', 'Landscape Management', 'Digital Photography', 'Power Tools', 'Hospitality Management', 'Clinical Trials', 'Procurement', 'Personal Assistance', 'Cashiering', 'Crisis Intervention', 'Product Road Mapping', 'Microservices', 'Dance Education', 'Purchasing', 'Job Search Strategies', 'Pandas', 'Contracts Administrators', 'Customer Service Representatives', 'Infrastructure', 'Language Development', 'Visio', 'Pharmacy Practice', 'Government Loans', 'Instructor-Led Training', 'Product Marketing', 'Environment', 'Security', 'Customer Support', 'Electrical Controls', 'Service Coordination', 'Corporate Tax', 'Forklift Training', 'Audio Recording', 'Production Assistance', 'Financial Analysis', 'UV/Vis Spectroscopy', 'Educational Technology', 'Leadership Development', 'Google Analytics', 'Distribution Logistics', 'Maintenance & Repair', 'Yardi', 'Programming', 'Solution Selling', 'Program Management', 'Strategic Sourcing', 'Urgent Care', 'Blueprint Reading', 'Product Knowledge', 'Medical Office', 'Serato', 'Deep Learning', 'Closed-Circuit Television', 'HR Consulting', 'Environmental Impact Assessment', 'Messaging', 'Defensive Driving', 'Network Engineering', 'OSHA', 'Retail Design', 'Software Design', 'Entrepreneurship', 'Employee Training', 'MySQL', 'GC-MS', 'Medical Coding', 'Technical Editing', 'ICD-10', 'U.S. Health Insurance Portability and Accountability Act', 'Civil Engineering', 'Contractual Agreements', 'Painting', 'Executive Coaching', 'Automotive Repair', 'Wedding DJ', 'Professional Driving', 'Risk Assessment', 'Lawn Care', 'Aviation', 'Student Recruiting', 'Series 6', 'Shielded Metal Arc Welding', 'Respiratory Products', 'Field Service', 'Outreach Services', 'SOQL', 'Digital Transformation', 'Medical Device R&D', 'Appointment Scheduling', 'Good Clinical Practice', 'Florida Notary', 'Manual Testing', 'Pipefitting', 'Submittals', 'English as a Second Language', 'Aircraft Structures', 'Spray Painting', 'Mac', 'Online Marketing', 'Oral Care', 'Media Production', 'Cardiopulmonary Resuscitation', 'Salesforce.com Implementation', 'Business Intelligence', 'Active Directory', 'Continuous Integration and Continuous Delivery', 'Operational Planning', 'Multi-state Payroll Processing', 'Analytical Skills', 'Psychological Testing', 'Computer Science', 'Outside Sales', 'Life Insurance', 'U.S. FHA Financing', 'Travel', 'Medical Education', 'Advertising', 'Finite Element Analysis', 'Security Management', 'Graphic Design', 'Army', 'Application Security', 'Myofascial Release Therapy', 'Unloading', 'Redux.js', 'English', 'RSLogix', 'Spring MVC', 'Cisco Networking', 'Workplace Violence Prevention', 'Integration', 'Paralegal Studies', 'Ventilators', 'C#', 'Athletic Taping', 'Background Checks', 'Manufacturing Operations', 'C', 'Prehospital Trauma Life Support', 'Project Coordination', 'Federal & State Income Tax Compliance', 'Healthcare Staffing', 'Commercial Real Estate', 'Spanish', 'Estate Planning', 'Singer-songwriter', 'Scribe', 'Working with First-Time Home Buyers', 'Photography', 'Youth Programs', 'Management Consulting', 'Organizational Leadership', 'Criminal Justice', 'Operating Room', 'Incident Investigation', 'Hazardous Waste Management', 'HR Strategy', 'Rational DOORS', 'Flight Planning', 'Gel Electrophoresis', 'Keyword Research', 'Contemporary Dance', 'Small Business Development', 'Regression Testing', 'Veterinary Technology', 'Jewelry Design', 'Financial Audits', 'Demand Planning', 'Manufacturing Processes', 'Executive Calendar Management', 'Golf Instruction', 'Supply Chain Operations', 'Survey Research', 'Suturing', 'Asset Management', 'Voice & Accent', 'Higher Education', 'Software Quality Assurance', 'Care Coordination', 'Choral Conducting', 'Mechanical', 'SketchUp', 'EMT', 'Sourcing', 'Adobe Illustrator', 'Stroke Rehabilitation', 'Nurse Practitioners', 'Purchase Management', 'Typesetting', 'Confocal Microscopy', 'Corporate Finance', 'Opera', 'Lecturing', 'Nitrous Oxide', 'Social Services', 'Technical Recruiting', 'Multilingual', 'Paid Search Strategy', 'PFD', 'Natural Language Processing', 'Shipping', 'Financial Accounting', 'LexisNexis', 'Yin Yoga', 'Litigation', 'Telemetry', 'Safety Auditing', 'Event Planning', 'CEOs', 'Mathcad', 'Buyer Representation', 'Multi-Channel Marketing', 'Motivational Interviewing', 'Pediatrics', 'Fashion Consulting', 'Consulting', 'Cash Management', 'Employee Engagement', 'Military Operations', 'Autodesk Civil 3D', 'Adobe XD', 'Mechanical Engineering', 'Adobe Creative Suite', 'Laboratory Skills', 'Information Architecture', 'Income Tax', 'Corrections', 'Claims Handling', 'Term Life Insurance', 'Waxing', 'Food Safety', 'Patient Registration', 'Business Consulting', 'Treasury Management', 'Medication Reconciliation', 'OSHA 30-Hour', 'Commercial Lending', 'Cybersecurity', 'Laboratory Information Management System', 'Grills', 'ISO 9001', 'Lawn Mowing', 'Planned Preventative Maintenance', 'Air Charter', 'Adobe Premiere Pro', 'Serve Safe Certified', 'Flight Safety', 'Visual Basic .NET', 'SQL*Net', 'Data Management', 'Cinematography', 'Polymerase Chain Reaction', 'Prescription', 'Real Estate License', 'Software Development Life Cycle', 'Enterprise Software', 'Property and Casualty Insurance', 'Project Estimation', 'React.js', 'Plumbing Fixtures', 'Special Events', 'Presales', 'New Business Development', 'Microsoft Office', 'Inside Sales', 'Community Development', 'Civil Litigation', 'Collections Management', 'Lighting', 'cGMP manufacturing', 'Management Systems', 'Healthcare', 'Job Coaching', 'Microsoft Project', 'Print Design', 'Music Performance', 'Accounting', 'Typing', 'Behavior Analysis', 'Predictive Maintenance', 'Production Schedules', 'Government Contracting', 'Logic Pro', 'Identity & Access Management', 'Orchestration', 'Information Technology', 'Requirements Gathering', 'Product Design', 'Prehospital Care', 'ADDIE', 'Executive Search', 'Western Blotting', 'Selenium', 'Medical Records', 'Bodywork', 'Agile Project Management', 'Flight Attendant', 'Electrical Maintenance', 'Fanuc Robots', 'Algebra', 'Critical Thinking', 'Insurance Claims', 'Grassroots Organizing', '401k Rollovers', 'Safety Culture', 'Higher Education Administration', 'Trauma Nursing', 'QA Engineering', 'Field Service Engineering', 'Solution Architecture', 'Nursing', 'Material Requirements Planning', 'Printed Circuit Board Design', 'Loan Origination', 'Dental Software', 'Applicant Tracking Systems', 'Retail Buying', 'Animal Behavior', 'Petrochemical', 'Mergers & Acquisitions', 'Salesforce Training', 'Advanced Cardiac Life Support', 'Internal Medicine', 'Distribution Center Operations', 'Presales Technical Consulting', 'Project Delivery', 'User Interface Design', 'Billing Services', 'Carpentry', 'Image Editing', 'Cascading Style Sheets', 'Piloting', 'MATLAB', 'Milling', 'Special Effects Makeup', 'Stage Make-up', 'Glasses', 'Enterprise Technology Sales', 'Non-disclosure Agreements', 'Medical Directors', 'Recreation Planning', 'Postman API', 'Fire Service', 'Video', 'Usability Testing', 'Specialty Coffee', 'Managerial Finance', 'Articulate Storyline', 'Pro Tools', 'Restaurant Management', 'Corrective and Preventive Action', 'Sports Massage', 'Finance', 'Mortgage Lending', 'Data Analytics', 'Personal Income Tax Returns', 'Laparoscopic Surgery', 'AngularJS', 'Fiction Writing', 'Kubernetes', 'Reporting', 'Library Instruction', 'English to Spanish', 'Stormwater Management', 'Molecular & Cellular Biology', 'Trigger Point Therapy', 'Tax Planning', 'Web Content Writing', 'Renewable Energy', 'Simultaneous Interpretation', 'Customer Service', 'Picture Archiving and Communication System', 'Hatha Yoga', 'Litigation Support', 'Scrum', 'Mechanical Ventilation', 'U.S. Federal Housing Authority', 'Sales Management', 'Food Service', 'Institutional Review Board', 'HR Management', 'Cash Collection', 'Maintenance', 'Research and Development', 'Physical Inventory', 'Cultural Sensitivity', 'Compassion', 'Vulnerability Management', 'Police', 'Key Account Development', 'Medical Devices', 'College Recruiting', 'Facility Management', 'Credit Analysis', 'Direct Sales', 'International Relations', 'Musical Theatre', 'Suspension', 'Whole Life Insurance', 'Reading Intervention', 'Load', 'Tooling Design', 'Employee Learning & Development', 'Palo Alto Networks', 'Encompass', 'Operational Excellence', 'Fitness', 'Legal Operations', 'Autodesk Inventor', 'Weapons Handling', 'Sensory Integration', 'Library of Congress Classification', 'P&L Management', 'Account Reconciliation', 'Knitting', 'ZoomInfo', 'Project Portfolio Management', 'Fluoroscopy', 'Electricity', 'Purchase Orders', 'Coaching', 'Early Childhood Development', 'Journalism', 'Market Entry', 'Failure Mode and Effects Analysis', 'Accounts Receivable', 'Critical Care Nursing', 'Maintenance Planning', 'Language Disorders', 'Technical Documentation', 'Import Export', 'Military Leadership', 'Internet Recruiting', 'First Aid', 'Joint Military Operations', 'Interview Preparation', 'Production Operations', 'Chemistry', 'RF Scanners', 'Microsoft Power BI', 'Clinical Pharmacology', 'Emerging Markets', 'WordPress', '5S', 'Chair Massage', 'Front-End Development', 'Technical Leadership', 'Makeup Artistry', 'New Hire Orientations', 'Core Java', 'Landscape Maintenance', 'Tourism', 'Audio Editing', 'Construction Drawings', 'Quantitative Research', 'Trial Practice', 'Dance', 'Ansible', 'SalesLoft', 'Financial Services', 'Event Photography', 'Production Planning', 'News Writing', 'Financial Modeling', 'Dental Prophylaxis', 'Investment Banking', 'Geriatric Nursing', 'Career Counseling', 'Screenwriting', 'Religion', 'Camera Operation', 'CFOs', 'Multi-line Phone', 'Cross-functional Team Leadership', 'Applied Behavior Analysis', 'Volleyball', 'Golf Course Management', 'Cocktails', 'Behavior-Driven Development', 'PowerPlant', 'Electrical Equipment', 'University Teaching', 'Individualized Education Program', 'Pet Care', 'RAM Structural Systems', 'Interpreting', 'Sales', 'Strategic Planning', 'Certified Payroll Reports', 'Automotive Parts', 'Agile Methodologies', 'Creo', 'Cash Flow Analysis', 'Performing Arts', 'Financial Reporting', 'Internal Controls', 'Truck', 'Splunk', 'K-12 Education', 'NA', 'Mastercam', 'Engineering Support', 'Root Cause Analysis', 'Translation', 'Credit Risk Management', 'SAP Concur', 'Loan Officers', 'Interviewing', 'Auditing', 'Executive Support', 'Positive Behavior Support', 'Dental Surgery', 'Electrical Repairs', 'Testing', 'Medical Assisting', 'Geospatial Intelligence', 'Fashion Illustration', 'Corporate Communications', 'Relationship Building', 'Cooking', 'Dentrix', 'Clinical Operations', 'Auto Claims', 'Campus', 'Affordable Housing', 'Critical Care Medicine', 'Jira', 'Family Medicine', 'Start-ups', 'Compounding', 'Privacy Law', 'Invoicing', 'Food Industry', 'Tailoring', 'Lenses', 'Residential Cleaning', 'Motors', 'AutoCAD', 'Microsoft Azure', 'Petroleum', 'Program Coordination', 'Web Design', 'Golf Equipment', 'Middle School', 'Freight Transportation', 'Inventory Analysis', 'Lathes', 'Lines Of Credit', 'Mental Health Care', 'Makeovers', 'Sarbanes-Oxley Act', 'Systems Analysis', 'Successful Business Owner', 'Corporate Development', 'Woodworking', 'Construction', 'Consumer Lending', 'Quality Management Systems', 'House Cleaning', 'Patient Education', 'Architectural Design', '3D Printing', 'Client Relations', 'Instagram Marketing', 'Computer Maintenance', 'Basketball Coaching', 'Mammalian Cell Culture', 'Legal Compliance', 'Production Coordination', 'CDL', 'Company Secretarial Work', 'Educational Outreach', 'English Literature', 'Client Education', 'Plumbers', 'Process Engineering', 'Public Libraries', 'Sterilization', 'Teaching English as a Second Language', 'Government', 'Property Management', 'Firewalls', 'Collection Development', 'Strategy', 'System Testing', 'Schematic', '.NET Framework', 'Mechanical Troubleshooting', 'Customer Service Operations', 'Investigation', 'Electronics Technology', 'SEMrush', 'Spring Framework', 'Web Testing', 'Mindfulness Meditation', 'Home Cleaning', 'Digital Marketing', 'Financial Advisory', 'Account Coordination', 'Geriatric Rehabilitation', 'Blood Collection', 'Fair Housing', 'Quality Patient Care', 'Marine Corps', 'Real Estate Development', 'Software Testing', 'Hospitality Service', 'Public Relations', 'Community Outreach', 'Relationship Counseling', 'Respiratory Disease', 'Primary Care', 'Music Education', 'Creative Content Creation', 'Golf Management', 'Spanish Teaching', 'Teamwork', 'Technical Direction', 'Graphic Arts', 'Freight', 'and Safety', 'Servant Leadership', 'Product Innovation', 'Contract Recruitment', 'Healthcare Management', 'Server Configuration', 'Research', 'Threat Analysis', 'Studio Photography', 'Mental Health', 'Intra-Aortic Balloon Pump', 'Lifeguarding', 'Customer Research', 'Digital Copywriting', 'Personal Care', 'Sketch App', 'Procore', 'Inventory Control', 'Software Architecture', 'Print Marketing', 'Veterinary Nursing', 'Industrial Automation', 'Sports Injuries', 'Weight Training', 'Interpersonal Skills', 'Operations Coordination', 'Independent Film', 'Sports Writing', 'Menu Development', 'REDCap', 'Extract', 'Digital Art', 'Brand Development', 'Data Science', 'Customer Engagement', 'Film Editing', 'Fitness Instruction', 'Aircraft Systems', 'Sample Preparation', 'Governmental Affairs', 'Theatre', 'Audio Visual Support', 'User Experience', 'Digital Illustration', 'Orthopedic Rehabilitation', 'Personal Styling', 'Commercial Piloting', 'Surgery', 'Child Mental Health', 'Clienteling', 'American Sign Language', 'Intelligence Community', 'Electrical Engineering', 'Mindfulness', 'Recreation', 'Inbound Marketing', 'Elder Care', 'Music Composition', 'Amazon Web Services', 'Fitness Industry', 'Banking Relationships', 'Quantitative Analytics', 'Cake Decorating', 'Nutritional Counseling', 'ISO 13485', 'Fitness Training', 'Internal Communications', 'Higher Education Recruitment', 'Clinical Research Associates', 'Enteral Nutrition', 'Server Administration', 'Residential Design', 'Requirements Analysis', 'Wellness', 'Residential Real Estate', 'SEO Copywriting', 'Trucking', 'Personal Coaching', 'Consultative Selling', 'Operations Management', 'Bartending', 'Surveillance', 'Employer Branding', 'Mobile Testing', 'Drawing', 'Windows', 'Nutrition Education', 'Event Marketing', 'Golf Courses', 'Software Implementation', 'Player Development', 'ProSystem fx Engagement', 'Rapid Prototyping', 'Data Warehousing', 'Legal Discovery', 'VMware vSphere', 'Branch Banking', 'Visual Basic', 'Canva', 'Merchandising', 'Retail', 'Equipment Maintenance', 'Intellectual Disabilities', 'Bread', 'Clinical Pharmacy', 'Real Estate Negotiating', 'Adobe Photoshop', 'Animal Welfare', 'Hair Coloring', 'Electrical Wiring', 'Mathematics', 'Drywall', 'Safety Training', 'Standard Operating Procedure', 'Territory Management', 'Hair Straightening', 'Behavioral Therapy', 'Computer Hardware', 'Compliance Monitoring', 'Product Demonstration', 'Pharmacy', 'CAMEO', 'Editing', 'Equipment Installation', 'Microdermabrasion', 'U.S. Family and Medical Leave Act', 'Regulatory Compliance', 'Resume Writing', 'Anti-Money Laundering', 'Risk Analytics', 'Lean Manufacturing', 'Transform', 'Machinery', 'Personal Care Services', 'Guided Tours', 'Teaching English as a Foreign Language', '3D Modeling', 'Public Policy', 'Police Administration', 'Brand Marketing', 'Pastoral Counseling', 'Change Management', 'Music Production', 'Project Management Office', 'Psychotherapy', 'Industrial Safety', 'Chrome Developer Tools', 'Process Design', 'Medical Terminology', 'ABO Certified', 'Payment Card Industry Data Security Standard', 'Online Data Entry', 'Sales Presentations', 'Calendaring', 'School Psychology', 'General Surgery', 'Dental Care', 'Crime Prevention', 'Firefighting', 'Sales Processes', 'Landscaping', 'Illustration', 'Functional Behavior Assessments', 'VMware', 'Staffing Services', 'Pipe Welding', 'Client Billing', 'Virtual Network Computing', 'Big Data Analytics', 'Dietetics', 'Physical Therapy', 'Claims Resolution', 'Signing Agent', 'Quality Improvement', 'Payroll Administration', 'Marketing Management', 'Clinical Laboratory Management', 'Microsoft SQL Server', 'Exercise Prescription', 'Curriculum Development', 'Adobe Lightroom', 'Benefits Management', 'Industrial Painting', 'Library Services', 'IT Auditing', 'Laundry', 'Art', 'Automotive Aftermarket', 'Strength Training', 'Environmental Permitting', 'Classroom Instruction', 'Compliance Management', 'Pump Repair', 'Real Estate', 'Licensing Agreements', 'Git', 'People Management', 'Concierge Services', 'and Plumbing', 'Commercial Insurance', 'Packing', 'Legal Document Preparation', 'Podcasting', 'Media Relations', 'Oncology', 'Plant Management', 'Navy', 'Plumbing Design', 'Event Management', 'Audio Visual Systems', 'Jewelry', 'Server Architecture', 'Human Resource Development', 'Tutoring', 'Executive Administrative Assistance', 'Electronics', 'User Experience Design', 'Visual Basic for Applications', 'Small Group Counseling', 'Automotive Technology', 'Psychology', 'Vulnerability Assessment', 'Bank Reconciliation', 'Test Equipment', 'Construction Estimating', 'Licensed Practical Nurse', 'CNC Operation', 'Office Cleaning', 'Prints', 'Occupational Therapy', 'Visual Design', 'Phone Etiquette', 'Content Design', 'Brand Ambassadorship', '401(k) Retirement Savings Plans', 'Event Production', 'Animal Handling', 'Workforce Planning', 'Holistic Life Coaching', 'Personnel Security', 'LinkedIn Recruiter', 'Barista', 'Design Management', 'Debt Collection', 'Cabinetry', 'Study Coordination', 'Specimen Collection', 'Customer Satisfaction', 'Acute Care', 'Snowflake', 'Bluebeam', 'Nutrition', 'Behavior Management', 'Insurance Billing', 'Trial Management', 'Enterprise Risk Management', 'Consecutive Interpretation', 'Swedish Massage', 'HTML', 'Soccer Coaching', 'Payroll Processing', 'Salesforce.com', 'ArcGIS Products', 'Client Services', 'Investment Advisory Services', 'Subpoenas', 'Cisco Certified', 'Diversity and Inclusion', 'Lease Administration', 'Channel Sales', 'Cisco Systems Products', 'FF&E', 'Scaled Agile Framework', 'Homeowners Insurance', 'Clinical Research', 'Calculus', 'U.S. VA Loans', 'Patient Advocacy', 'Cold Calling', 'Sanitation', 'Culinary Management', 'Administrative Assistance', 'TestNG', 'Electronic Troubleshooting', 'Special Education', 'Art Education', 'Live Sound', 'Autism Spectrum Disorders', 'Styling', 'Employee Benefits Design', 'Film Direction', 'Quality Engineering', 'F5 BigIP', 'Interior Design', 'Health', 'Sports Medicine', 'Bar', 'Marketing Strategy', 'QuickBooks', 'Landscape Design', 'Sound', 'Design of Experiments', 'Chicago Manual of Style', 'Novell', 'All-Source Intelligence', 'Eyewear', 'Inventory Accuracy', 'Maintenance Management', 'Dispatching', 'CNC Mill', 'Aseptic Technique', 'Waiting Tables', 'Investments', 'Yoga Instruction', 'Bloomberg Terminal', 'Conference Interpreting', 'Electrical', 'Radiography', 'Salesforce Sales Cloud', 'Injury Prevention', 'Time Management', 'Terraform', 'HL7 Standards', 'Series 65', 'Home Care', 'Test Automation', 'Environmental Monitoring', 'Professional Cleaning', 'Content Marketing', 'General Insurance']\n",
      "2000\n"
     ]
    }
   ],
   "source": [
    "# get list of job titles and skills \n",
    "skills = jobs_and_skills_df[\"Skills\"].unique().tolist()\n",
    "\n",
    "for i in range(len(skills)):\n",
    "    skills[i] = ast.literal_eval(skills[i])\n",
    "\n",
    "# Create a list of unique skills\n",
    "unique_skills = list(set([skill for sublist in skills for skill in sublist]))\n",
    "\n",
    "# remove \"(programming language)\" from  skills and the space before it\n",
    "unique_skills = [re.sub(r'\\s\\(.*\\)', '', skill) for skill in unique_skills]\n",
    "print(unique_skills)\n",
    "print(len(unique_skills))"
   ]
  },
  {
   "cell_type": "markdown",
   "metadata": {},
   "source": [
    "Add to Spacy Matchmaker\n"
   ]
  },
  {
   "cell_type": "code",
   "execution_count": 7,
   "metadata": {},
   "outputs": [],
   "source": [
    "# Create a spaCy PhraseMatcher\n",
    "matcher = PhraseMatcher(nlp.vocab)\n",
    "\n",
    "# Convert each skill to a spaCy Doc object and add them to the matcher\n",
    "patterns = [nlp(skill) for skill in unique_skills]\n",
    "matcher.add(\"SKILLS\", patterns)"
   ]
  },
  {
   "cell_type": "markdown",
   "metadata": {},
   "source": [
    "Drop rows with links in \"message\" column\n"
   ]
  },
  {
   "cell_type": "code",
   "execution_count": 8,
   "metadata": {},
   "outputs": [],
   "source": [
    "# Drop rows where 'message' contains 'href' (indicating links)\n",
    "module_review = module_review[~module_review['message'].str.contains('href', na=False, case=False)]"
   ]
  },
  {
   "cell_type": "markdown",
   "metadata": {},
   "source": [
    "Extracrt skills entities from the \"message\" column\n"
   ]
  },
  {
   "cell_type": "code",
   "execution_count": 9,
   "metadata": {},
   "outputs": [
    {
     "name": "stdout",
     "output_type": "stream",
     "text": [
      "                                             message  \\\n",
      "0   Taken in AY23/24 Semester 2. Lecturer: Prof D...   \n",
      "1   Taken in AY23/24 Semester 2. Lecturer: Prof D...   \n",
      "2   ACC1701X Lecturer: Adjunct Assoc. Prof. Deon ...   \n",
      "4   Taken in AY19/20 Sem 2 Lecturer: Prof Winston...   \n",
      "5   Lecturer: Prof Charles Shi Tutor: Mr Philip T...   \n",
      "\n",
      "                                     skills_entities  \n",
      "0                                                 []  \n",
      "1  [Inventory Management, Accounting, Cash, Manag...  \n",
      "2  [Cash, Accounting, Sales, Mechanics, Internal ...  \n",
      "4                                                 []  \n",
      "5                                                [C]  \n"
     ]
    }
   ],
   "source": [
    "def extract_skills_using_phrasematcher(text):\n",
    "    # Ensure the input is a string\n",
    "    if not isinstance(text, str):\n",
    "        return [], []  # Return empty lists if the text is not a valid string\n",
    "\n",
    "    doc = nlp(text)\n",
    "\n",
    "    # Use matcher to find skills in text\n",
    "    matches = matcher(doc)\n",
    "    skills = [doc[start:end].text for match_id, start, end in matches]\n",
    "\n",
    "    # Remove duplicates\n",
    "    skills = list(set(skills))\n",
    "\n",
    "    return skills\n",
    "\n",
    "module_review['skills_entities'] = module_review['message'].apply(lambda x: extract_skills_using_phrasematcher(x))\n",
    "\n",
    "# Display the DataFrame with the extracted skills\n",
    "print(module_review[['message', 'skills_entities']].head())"
   ]
  },
  {
   "cell_type": "markdown",
   "metadata": {},
   "source": [
    "Extract staff entities from message column\n"
   ]
  },
  {
   "cell_type": "code",
   "execution_count": 10,
   "metadata": {},
   "outputs": [
    {
     "name": "stdout",
     "output_type": "stream",
     "text": [
      "                                             message  \\\n",
      "0   Taken in AY23/24 Semester 2. Lecturer: Prof D...   \n",
      "1   Taken in AY23/24 Semester 2. Lecturer: Prof D...   \n",
      "2   ACC1701X Lecturer: Adjunct Assoc. Prof. Deon ...   \n",
      "4   Taken in AY19/20 Sem 2 Lecturer: Prof Winston...   \n",
      "5   Lecturer: Prof Charles Shi Tutor: Mr Philip T...   \n",
      "\n",
      "              staff_entities  \n",
      "0                         []  \n",
      "1                [Prof Chan]  \n",
      "2  [Prof Winston, Prof Deon]  \n",
      "4                         []  \n",
      "5                         []  \n"
     ]
    }
   ],
   "source": [
    "def extract_staff_names(text):\n",
    "    if isinstance(text, str):\n",
    "        doc = nlp(text)\n",
    "        staff = []\n",
    "\n",
    "        # Regex pattern to capture staff names with titles like 'Prof', 'Dr', 'Lecturer', 'Tutor'\n",
    "        staff_pattern = re.compile(r'\\b(Prof|Professor|Dr|Lecturer|Tutor|Instructor)\\s*[A-Z][a-z]+(?:\\s+[A-Z][a-z]+)?', re.IGNORECASE)\n",
    "        \n",
    "        for ent in doc.ents:\n",
    "            match = staff_pattern.search(ent.text)\n",
    "            if match:\n",
    "                staff_name = match.group(0)\n",
    "                \n",
    "                # Exclude unwanted phrases that are falsely detected as staff names\n",
    "                if not any(word in staff_name.lower() for word in ['tutorial', 'attendance', 'assignment', 'participation', 'ratios', 'draft', 'profile']):\n",
    "                    staff.append(staff_name.strip())\n",
    "\n",
    "        # Remove duplicates in staff\n",
    "        staff = list(set(staff))\n",
    "        return staff\n",
    "    \n",
    "    return [] \n",
    "\n",
    "# Apply modified staff extraction\n",
    "module_review['staff_entities'] = module_review['message'].apply(lambda text: extract_staff_names(text))\n",
    "\n",
    "# Display the DataFrame with the extracted skills and staff\n",
    "print(module_review[['message', 'staff_entities']].head())"
   ]
  },
  {
   "cell_type": "markdown",
   "metadata": {},
   "source": [
    "Save updated DF to a new CSV File\n"
   ]
  },
  {
   "cell_type": "code",
   "execution_count": 11,
   "metadata": {},
   "outputs": [],
   "source": [
    "module_review.to_csv('mock_module_reviews_final.csv', index=False)"
   ]
  }
 ],
 "metadata": {
  "kernelspec": {
   "display_name": "Python 3",
   "language": "python",
   "name": "python3"
  },
  "language_info": {
   "codemirror_mode": {
    "name": "ipython",
    "version": 3
   },
   "file_extension": ".py",
   "mimetype": "text/x-python",
   "name": "python",
   "nbconvert_exporter": "python",
   "pygments_lexer": "ipython3",
   "version": "3.10.12"
  }
 },
 "nbformat": 4,
 "nbformat_minor": 2
}
