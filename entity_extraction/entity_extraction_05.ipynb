{
 "cells": [
  {
   "cell_type": "markdown",
   "metadata": {},
   "source": [
    "Import libraries\n"
   ]
  },
  {
   "cell_type": "code",
   "execution_count": 16,
   "metadata": {},
   "outputs": [],
   "source": [
    "import pandas as pd\n",
    "import re "
   ]
  },
  {
   "cell_type": "markdown",
   "metadata": {},
   "source": [
    "# 05 - Mock Venue Info\n"
   ]
  },
  {
   "cell_type": "markdown",
   "metadata": {},
   "source": [
    "Load the data\n"
   ]
  },
  {
   "cell_type": "code",
   "execution_count": 17,
   "metadata": {},
   "outputs": [
    {
     "name": "stdout",
     "output_type": "stream",
     "text": [
      "       Room      Day Class No  Start Time  End Time  \\\n",
      "0  AS1-0213  Tuesday      W25        1400      1600   \n",
      "1  AS1-0213  Tuesday      W28        1600      1800   \n",
      "2  AS1-0213  Tuesday      E07        1000      1200   \n",
      "3  AS1-0213  Tuesday      D11        1200      1400   \n",
      "4  AS1-0213  Tuesday      D09        1000      1200   \n",
      "\n",
      "                                    Weeks lesson_type  size module_code  \n",
      "0  2, 3, 4, 5, 6, 7, 8, 9, 10, 11, 12, 13    Tutorial    20     HSH1000  \n",
      "1  2, 3, 4, 5, 6, 7, 8, 9, 10, 11, 12, 13    Tutorial    20     HSH1000  \n",
      "2                         4, 6, 8, 10, 12    Tutorial    20     HSS1000  \n",
      "3                          3, 5, 7, 9, 11    Tutorial    20     HSS1000  \n",
      "4                          3, 5, 7, 9, 11    Tutorial    20     HSS1000  \n"
     ]
    }
   ],
   "source": [
    "module_venue_path = '../05 - mock_venue_info.csv'\n",
    "module_venue = pd.read_csv(module_venue_path)\n",
    "\n",
    "print(module_venue.head())"
   ]
  },
  {
   "cell_type": "markdown",
   "metadata": {},
   "source": [
    "Extract module entities with day, start time, end time properties\n"
   ]
  },
  {
   "cell_type": "code",
   "execution_count": 29,
   "metadata": {},
   "outputs": [
    {
     "name": "stdout",
     "output_type": "stream",
     "text": [
      "  module_entities                                         properties\n",
      "0       {HSH1000}  {'Day': 'Tuesday', 'Start Time': 1400, 'End Ti...\n",
      "1       {HSH1000}  {'Day': 'Tuesday', 'Start Time': 1600, 'End Ti...\n",
      "2       {HSS1000}  {'Day': 'Tuesday', 'Start Time': 1000, 'End Ti...\n",
      "3       {HSS1000}  {'Day': 'Tuesday', 'Start Time': 1200, 'End Ti...\n",
      "4       {HSS1000}  {'Day': 'Tuesday', 'Start Time': 1000, 'End Ti...\n"
     ]
    }
   ],
   "source": [
    "# Function to extract module entities from module_code column\n",
    "def extract_module_entities(module_code):\n",
    "    # Ensure the input is a string and not empty\n",
    "    if isinstance(module_code, str) and module_code.strip():\n",
    "        return [module_code]\n",
    "    else:\n",
    "        return []\n",
    "\n",
    "# Function to extract relevant properties (Day, Start Time, End Time)\n",
    "def extract_properties(row):\n",
    "    properties = {\n",
    "        'Day': row['Day'],\n",
    "        'Start Time': row['Start Time'],\n",
    "        'End Time': row['End Time']\n",
    "    }\n",
    "    return properties\n",
    "\n",
    "\n",
    "# Apply the function to extract module entities from the 'module_code' column\n",
    "module_venue['module_entities_extracted'] = module_venue['module_code'].apply(lambda x: extract_module_entities(x))\n",
    "\n",
    "# Extract properties for each module and store them in a separate column\n",
    "module_venue['properties'] = module_venue.apply(lambda row: extract_properties(row), axis=1)\n",
    "\n",
    "# Create a final structure where each module entity is associated with its properties\n",
    "module_data = []\n",
    "\n",
    "for _, row in module_venue.iterrows():\n",
    "    module_code = row['module_entities_extracted'][0]  # Extract the module code from the list\n",
    "    properties = row['properties']  # Extract properties for the current row\n",
    "    \n",
    "    # Append the module code and its associated properties to the module_data list\n",
    "    module_data.append({\n",
    "        'module_entities': {module_code},  # Store module code in a set for consistency\n",
    "        'properties': properties  # Store the properties dictionary\n",
    "    })\n",
    "\n",
    "# Convert the structured data into a DataFrame\n",
    "expanded_df = pd.DataFrame(module_data)\n",
    "\n",
    "# Display the final DataFrame\n",
    "print(expanded_df.head())\n"
   ]
  },
  {
   "cell_type": "markdown",
   "metadata": {},
   "source": [
    "Save updated DF to a new CSV file\n"
   ]
  },
  {
   "cell_type": "code",
   "execution_count": 30,
   "metadata": {},
   "outputs": [],
   "source": [
    "expanded_df.to_csv('mock_venue_final.csv', index=False)"
   ]
  },
  {
   "cell_type": "markdown",
   "metadata": {},
   "source": []
  }
 ],
 "metadata": {
  "kernelspec": {
   "display_name": "Python 3",
   "language": "python",
   "name": "python3"
  },
  "language_info": {
   "codemirror_mode": {
    "name": "ipython",
    "version": 3
   },
   "file_extension": ".py",
   "mimetype": "text/x-python",
   "name": "python",
   "nbconvert_exporter": "python",
   "pygments_lexer": "ipython3",
   "version": "3.10.12"
  }
 },
 "nbformat": 4,
 "nbformat_minor": 2
}
